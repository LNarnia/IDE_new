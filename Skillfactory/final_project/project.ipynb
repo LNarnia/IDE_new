{
 "cells": [
  {
   "cell_type": "markdown",
   "metadata": {},
   "source": [
    "## «Модель прогнозирования стоимости жилья для агентства недвижимости»"
   ]
  },
  {
   "cell_type": "markdown",
   "metadata": {},
   "source": [
    "### 1. Знакомство с данными."
   ]
  },
  {
   "cell_type": "code",
   "execution_count": 168,
   "metadata": {},
   "outputs": [],
   "source": [
    "# Импортируем библиотеки\n",
    "import numpy as np\n",
    "import pandas as pd\n",
    "import matplotlib.pyplot as plt\n",
    "import seaborn as sns\n",
    "import plotly.express as px\n",
    "\n",
    "from scipy import stats\n",
    "from sklearn import linear_model\n",
    "from sklearn import preprocessing\n",
    "from sklearn import model_selection\n",
    "from sklearn import tree\n",
    "from sklearn import ensemble\n",
    "from sklearn import metrics\n",
    "from sklearn import cluster\n",
    "from sklearn import feature_selection\n",
    "import re\n",
    "import optuna\n",
    "import xgboost as xgb\n",
    "from catboost import CatBoostRegressor\n",
    "from statsmodels.graphics.gofplots import qqplot"
   ]
  },
  {
   "cell_type": "code",
   "execution_count": 169,
   "metadata": {},
   "outputs": [
    {
     "data": {
      "text/html": [
       "<div>\n",
       "<style scoped>\n",
       "    .dataframe tbody tr th:only-of-type {\n",
       "        vertical-align: middle;\n",
       "    }\n",
       "\n",
       "    .dataframe tbody tr th {\n",
       "        vertical-align: top;\n",
       "    }\n",
       "\n",
       "    .dataframe thead th {\n",
       "        text-align: right;\n",
       "    }\n",
       "</style>\n",
       "<table border=\"1\" class=\"dataframe\">\n",
       "  <thead>\n",
       "    <tr style=\"text-align: right;\">\n",
       "      <th></th>\n",
       "      <th>status</th>\n",
       "      <th>private pool</th>\n",
       "      <th>propertyType</th>\n",
       "      <th>street</th>\n",
       "      <th>baths</th>\n",
       "      <th>homeFacts</th>\n",
       "      <th>fireplace</th>\n",
       "      <th>city</th>\n",
       "      <th>schools</th>\n",
       "      <th>sqft</th>\n",
       "      <th>zipcode</th>\n",
       "      <th>beds</th>\n",
       "      <th>state</th>\n",
       "      <th>stories</th>\n",
       "      <th>mls-id</th>\n",
       "      <th>PrivatePool</th>\n",
       "      <th>MlsId</th>\n",
       "      <th>target</th>\n",
       "    </tr>\n",
       "  </thead>\n",
       "  <tbody>\n",
       "    <tr>\n",
       "      <th>0</th>\n",
       "      <td>Active</td>\n",
       "      <td>NaN</td>\n",
       "      <td>Single Family Home</td>\n",
       "      <td>240 Heather Ln</td>\n",
       "      <td>3.5</td>\n",
       "      <td>{'atAGlanceFacts': [{'factValue': '2019', 'fac...</td>\n",
       "      <td>Gas Logs</td>\n",
       "      <td>Southern Pines</td>\n",
       "      <td>[{'rating': ['4', '4', '7', 'NR', '4', '7', 'N...</td>\n",
       "      <td>2900</td>\n",
       "      <td>28387</td>\n",
       "      <td>4</td>\n",
       "      <td>NC</td>\n",
       "      <td>NaN</td>\n",
       "      <td>NaN</td>\n",
       "      <td>NaN</td>\n",
       "      <td>611019</td>\n",
       "      <td>$418,000</td>\n",
       "    </tr>\n",
       "    <tr>\n",
       "      <th>1</th>\n",
       "      <td>for sale</td>\n",
       "      <td>NaN</td>\n",
       "      <td>single-family home</td>\n",
       "      <td>12911 E Heroy Ave</td>\n",
       "      <td>3 Baths</td>\n",
       "      <td>{'atAGlanceFacts': [{'factValue': '2019', 'fac...</td>\n",
       "      <td>NaN</td>\n",
       "      <td>Spokane Valley</td>\n",
       "      <td>[{'rating': ['4/10', 'None/10', '4/10'], 'data...</td>\n",
       "      <td>1,947 sqft</td>\n",
       "      <td>99216</td>\n",
       "      <td>3 Beds</td>\n",
       "      <td>WA</td>\n",
       "      <td>2.0</td>\n",
       "      <td>NaN</td>\n",
       "      <td>NaN</td>\n",
       "      <td>201916904</td>\n",
       "      <td>$310,000</td>\n",
       "    </tr>\n",
       "    <tr>\n",
       "      <th>2</th>\n",
       "      <td>for sale</td>\n",
       "      <td>NaN</td>\n",
       "      <td>single-family home</td>\n",
       "      <td>2005 Westridge Rd</td>\n",
       "      <td>2 Baths</td>\n",
       "      <td>{'atAGlanceFacts': [{'factValue': '1961', 'fac...</td>\n",
       "      <td>yes</td>\n",
       "      <td>Los Angeles</td>\n",
       "      <td>[{'rating': ['8/10', '4/10', '8/10'], 'data': ...</td>\n",
       "      <td>3,000 sqft</td>\n",
       "      <td>90049</td>\n",
       "      <td>3 Beds</td>\n",
       "      <td>CA</td>\n",
       "      <td>1.0</td>\n",
       "      <td>NaN</td>\n",
       "      <td>yes</td>\n",
       "      <td>FR19221027</td>\n",
       "      <td>$2,895,000</td>\n",
       "    </tr>\n",
       "    <tr>\n",
       "      <th>3</th>\n",
       "      <td>for sale</td>\n",
       "      <td>NaN</td>\n",
       "      <td>single-family home</td>\n",
       "      <td>4311 Livingston Ave</td>\n",
       "      <td>8 Baths</td>\n",
       "      <td>{'atAGlanceFacts': [{'factValue': '2006', 'fac...</td>\n",
       "      <td>yes</td>\n",
       "      <td>Dallas</td>\n",
       "      <td>[{'rating': ['9/10', '9/10', '10/10', '9/10'],...</td>\n",
       "      <td>6,457 sqft</td>\n",
       "      <td>75205</td>\n",
       "      <td>5 Beds</td>\n",
       "      <td>TX</td>\n",
       "      <td>3.0</td>\n",
       "      <td>NaN</td>\n",
       "      <td>NaN</td>\n",
       "      <td>14191809</td>\n",
       "      <td>$2,395,000</td>\n",
       "    </tr>\n",
       "    <tr>\n",
       "      <th>4</th>\n",
       "      <td>for sale</td>\n",
       "      <td>NaN</td>\n",
       "      <td>lot/land</td>\n",
       "      <td>1524 Kiscoe St</td>\n",
       "      <td>NaN</td>\n",
       "      <td>{'atAGlanceFacts': [{'factValue': '', 'factLab...</td>\n",
       "      <td>NaN</td>\n",
       "      <td>Palm Bay</td>\n",
       "      <td>[{'rating': ['4/10', '5/10', '5/10'], 'data': ...</td>\n",
       "      <td>NaN</td>\n",
       "      <td>32908</td>\n",
       "      <td>NaN</td>\n",
       "      <td>FL</td>\n",
       "      <td>NaN</td>\n",
       "      <td>NaN</td>\n",
       "      <td>NaN</td>\n",
       "      <td>861745</td>\n",
       "      <td>$5,000</td>\n",
       "    </tr>\n",
       "  </tbody>\n",
       "</table>\n",
       "</div>"
      ],
      "text/plain": [
       "     status private pool        propertyType               street    baths  \\\n",
       "0    Active          NaN  Single Family Home       240 Heather Ln      3.5   \n",
       "1  for sale          NaN  single-family home    12911 E Heroy Ave  3 Baths   \n",
       "2  for sale          NaN  single-family home    2005 Westridge Rd  2 Baths   \n",
       "3  for sale          NaN  single-family home  4311 Livingston Ave  8 Baths   \n",
       "4  for sale          NaN            lot/land       1524 Kiscoe St      NaN   \n",
       "\n",
       "                                           homeFacts fireplace  \\\n",
       "0  {'atAGlanceFacts': [{'factValue': '2019', 'fac...  Gas Logs   \n",
       "1  {'atAGlanceFacts': [{'factValue': '2019', 'fac...       NaN   \n",
       "2  {'atAGlanceFacts': [{'factValue': '1961', 'fac...       yes   \n",
       "3  {'atAGlanceFacts': [{'factValue': '2006', 'fac...       yes   \n",
       "4  {'atAGlanceFacts': [{'factValue': '', 'factLab...       NaN   \n",
       "\n",
       "             city                                            schools  \\\n",
       "0  Southern Pines  [{'rating': ['4', '4', '7', 'NR', '4', '7', 'N...   \n",
       "1  Spokane Valley  [{'rating': ['4/10', 'None/10', '4/10'], 'data...   \n",
       "2     Los Angeles  [{'rating': ['8/10', '4/10', '8/10'], 'data': ...   \n",
       "3          Dallas  [{'rating': ['9/10', '9/10', '10/10', '9/10'],...   \n",
       "4        Palm Bay  [{'rating': ['4/10', '5/10', '5/10'], 'data': ...   \n",
       "\n",
       "         sqft zipcode    beds state stories mls-id PrivatePool       MlsId  \\\n",
       "0        2900   28387       4    NC     NaN    NaN         NaN      611019   \n",
       "1  1,947 sqft   99216  3 Beds    WA     2.0    NaN         NaN   201916904   \n",
       "2  3,000 sqft   90049  3 Beds    CA     1.0    NaN         yes  FR19221027   \n",
       "3  6,457 sqft   75205  5 Beds    TX     3.0    NaN         NaN    14191809   \n",
       "4         NaN   32908     NaN    FL     NaN    NaN         NaN      861745   \n",
       "\n",
       "       target  \n",
       "0    $418,000  \n",
       "1    $310,000  \n",
       "2  $2,895,000  \n",
       "3  $2,395,000  \n",
       "4      $5,000  "
      ]
     },
     "execution_count": 169,
     "metadata": {},
     "output_type": "execute_result"
    }
   ],
   "source": [
    "# загружаем занные\n",
    "data = pd.read_csv('data/data_real_property.csv')\n",
    "data.head()"
   ]
  },
  {
   "cell_type": "markdown",
   "metadata": {},
   "source": [
    "Описание данных:\n",
    "\n",
    "➔ 'status' — статус продажи;\n",
    "\n",
    "➔ 'private pool' и 'PrivatePool' — наличие собственного бассейна;\n",
    "\n",
    "➔ 'propertyType' — тип объекта недвижимости;\n",
    "\n",
    "➔ 'street' — адрес объекта;\n",
    "\n",
    "➔ 'baths' — количество ванных комнат;\n",
    "\n",
    "➔ 'homeFacts' — сведения о строительстве объекта (содержит несколько\n",
    "типов сведений, влияющих на оценку объекта);\n",
    "\n",
    "➔ 'fireplace' — наличие камина;\n",
    "\n",
    "➔ 'city' — город;\n",
    "\n",
    "➔ 'schools' — сведения о школах в районе;\n",
    "\n",
    "➔ 'sqft' — площадь в футах;\n",
    "\n",
    "➔ 'zipcode' — почтовый индекс;\n",
    "\n",
    "➔ 'beds' — количество спален;\n",
    "\n",
    "➔ 'state' — штат;\n",
    "\n",
    "➔ 'stories' — количество этажей;\n",
    "\n",
    "➔ 'mls-id' и 'MlsId' — идентификатор MLS (Multiple Listing Service, система\n",
    "мультилистинга);\n",
    "\n",
    "➔ 'target' — цена объекта недвижимости (целевой признак)."
   ]
  },
  {
   "cell_type": "code",
   "execution_count": 170,
   "metadata": {},
   "outputs": [
    {
     "name": "stdout",
     "output_type": "stream",
     "text": [
      "<class 'pandas.core.frame.DataFrame'>\n",
      "RangeIndex: 377185 entries, 0 to 377184\n",
      "Data columns (total 18 columns):\n",
      " #   Column        Non-Null Count   Dtype \n",
      "---  ------        --------------   ----- \n",
      " 0   status        337267 non-null  object\n",
      " 1   private pool  4181 non-null    object\n",
      " 2   propertyType  342452 non-null  object\n",
      " 3   street        377183 non-null  object\n",
      " 4   baths         270847 non-null  object\n",
      " 5   homeFacts     377185 non-null  object\n",
      " 6   fireplace     103114 non-null  object\n",
      " 7   city          377151 non-null  object\n",
      " 8   schools       377185 non-null  object\n",
      " 9   sqft          336608 non-null  object\n",
      " 10  zipcode       377185 non-null  object\n",
      " 11  beds          285903 non-null  object\n",
      " 12  state         377185 non-null  object\n",
      " 13  stories       226469 non-null  object\n",
      " 14  mls-id        24942 non-null   object\n",
      " 15  PrivatePool   40311 non-null   object\n",
      " 16  MlsId         310305 non-null  object\n",
      " 17  target        374704 non-null  object\n",
      "dtypes: object(18)\n",
      "memory usage: 51.8+ MB\n"
     ]
    }
   ],
   "source": [
    "data.info()"
   ]
  },
  {
   "cell_type": "code",
   "execution_count": 171,
   "metadata": {},
   "outputs": [
    {
     "data": {
      "text/html": [
       "<div>\n",
       "<style scoped>\n",
       "    .dataframe tbody tr th:only-of-type {\n",
       "        vertical-align: middle;\n",
       "    }\n",
       "\n",
       "    .dataframe tbody tr th {\n",
       "        vertical-align: top;\n",
       "    }\n",
       "\n",
       "    .dataframe thead th {\n",
       "        text-align: right;\n",
       "    }\n",
       "</style>\n",
       "<table border=\"1\" class=\"dataframe\">\n",
       "  <thead>\n",
       "    <tr style=\"text-align: right;\">\n",
       "      <th></th>\n",
       "      <th>status</th>\n",
       "      <th>private pool</th>\n",
       "      <th>propertyType</th>\n",
       "      <th>street</th>\n",
       "      <th>baths</th>\n",
       "      <th>homeFacts</th>\n",
       "      <th>fireplace</th>\n",
       "      <th>city</th>\n",
       "      <th>schools</th>\n",
       "      <th>sqft</th>\n",
       "      <th>zipcode</th>\n",
       "      <th>beds</th>\n",
       "      <th>state</th>\n",
       "      <th>stories</th>\n",
       "      <th>mls-id</th>\n",
       "      <th>PrivatePool</th>\n",
       "      <th>MlsId</th>\n",
       "      <th>target</th>\n",
       "    </tr>\n",
       "  </thead>\n",
       "  <tbody>\n",
       "    <tr>\n",
       "      <th>count</th>\n",
       "      <td>337267</td>\n",
       "      <td>4181</td>\n",
       "      <td>342452</td>\n",
       "      <td>377183</td>\n",
       "      <td>270847</td>\n",
       "      <td>377185</td>\n",
       "      <td>103114</td>\n",
       "      <td>377151</td>\n",
       "      <td>377185</td>\n",
       "      <td>336608</td>\n",
       "      <td>377185</td>\n",
       "      <td>285903</td>\n",
       "      <td>377185</td>\n",
       "      <td>226469</td>\n",
       "      <td>24942</td>\n",
       "      <td>40311</td>\n",
       "      <td>310305</td>\n",
       "      <td>374704</td>\n",
       "    </tr>\n",
       "    <tr>\n",
       "      <th>unique</th>\n",
       "      <td>159</td>\n",
       "      <td>1</td>\n",
       "      <td>1280</td>\n",
       "      <td>337076</td>\n",
       "      <td>229</td>\n",
       "      <td>321009</td>\n",
       "      <td>1652</td>\n",
       "      <td>2026</td>\n",
       "      <td>297365</td>\n",
       "      <td>25405</td>\n",
       "      <td>4549</td>\n",
       "      <td>1184</td>\n",
       "      <td>39</td>\n",
       "      <td>347</td>\n",
       "      <td>24907</td>\n",
       "      <td>2</td>\n",
       "      <td>232944</td>\n",
       "      <td>43939</td>\n",
       "    </tr>\n",
       "    <tr>\n",
       "      <th>top</th>\n",
       "      <td>for sale</td>\n",
       "      <td>Yes</td>\n",
       "      <td>single-family home</td>\n",
       "      <td>Address Not Disclosed</td>\n",
       "      <td>2 Baths</td>\n",
       "      <td>{'atAGlanceFacts': [{'factValue': '', 'factLab...</td>\n",
       "      <td>yes</td>\n",
       "      <td>Houston</td>\n",
       "      <td>[{'rating': [], 'data': {'Distance': [], 'Grad...</td>\n",
       "      <td>0</td>\n",
       "      <td>32137</td>\n",
       "      <td>3 Beds</td>\n",
       "      <td>FL</td>\n",
       "      <td>1.0</td>\n",
       "      <td>No MLS#</td>\n",
       "      <td>yes</td>\n",
       "      <td>NO MLS</td>\n",
       "      <td>$225,000</td>\n",
       "    </tr>\n",
       "    <tr>\n",
       "      <th>freq</th>\n",
       "      <td>156104</td>\n",
       "      <td>4181</td>\n",
       "      <td>92206</td>\n",
       "      <td>672</td>\n",
       "      <td>52466</td>\n",
       "      <td>7174</td>\n",
       "      <td>50356</td>\n",
       "      <td>24442</td>\n",
       "      <td>4204</td>\n",
       "      <td>11854</td>\n",
       "      <td>2141</td>\n",
       "      <td>53459</td>\n",
       "      <td>115449</td>\n",
       "      <td>67454</td>\n",
       "      <td>3</td>\n",
       "      <td>28793</td>\n",
       "      <td>24</td>\n",
       "      <td>1462</td>\n",
       "    </tr>\n",
       "  </tbody>\n",
       "</table>\n",
       "</div>"
      ],
      "text/plain": [
       "          status private pool        propertyType                 street  \\\n",
       "count     337267         4181              342452                 377183   \n",
       "unique       159            1                1280                 337076   \n",
       "top     for sale          Yes  single-family home  Address Not Disclosed   \n",
       "freq      156104         4181               92206                    672   \n",
       "\n",
       "          baths                                          homeFacts fireplace  \\\n",
       "count    270847                                             377185    103114   \n",
       "unique      229                                             321009      1652   \n",
       "top     2 Baths  {'atAGlanceFacts': [{'factValue': '', 'factLab...       yes   \n",
       "freq      52466                                               7174     50356   \n",
       "\n",
       "           city                                            schools    sqft  \\\n",
       "count    377151                                             377185  336608   \n",
       "unique     2026                                             297365   25405   \n",
       "top     Houston  [{'rating': [], 'data': {'Distance': [], 'Grad...       0   \n",
       "freq      24442                                               4204   11854   \n",
       "\n",
       "       zipcode    beds   state stories   mls-id PrivatePool   MlsId    target  \n",
       "count   377185  285903  377185  226469    24942       40311  310305    374704  \n",
       "unique    4549    1184      39     347    24907           2  232944     43939  \n",
       "top      32137  3 Beds      FL     1.0  No MLS#         yes  NO MLS  $225,000  \n",
       "freq      2141   53459  115449   67454        3       28793      24      1462  "
      ]
     },
     "execution_count": 171,
     "metadata": {},
     "output_type": "execute_result"
    }
   ],
   "source": [
    "data.describe()"
   ]
  },
  {
   "cell_type": "markdown",
   "metadata": {},
   "source": [
    "В представленном датасете данные о  блее чем 300 000 объектов недвижимости и 18 их характеристик, все признаки имеют тип данных object. "
   ]
  },
  {
   "cell_type": "markdown",
   "metadata": {},
   "source": [
    "### 2. Очистка данных - обработка пропусков и дубликатов."
   ]
  },
  {
   "cell_type": "markdown",
   "metadata": {},
   "source": [
    "Признаки MlsId и mls-id являются идентификаторами, которые никак не влияют на цену недвижимости, удалим их."
   ]
  },
  {
   "cell_type": "code",
   "execution_count": 172,
   "metadata": {},
   "outputs": [],
   "source": [
    "data = data.drop(['MlsId', 'mls-id'], axis = 1)"
   ]
  },
  {
   "cell_type": "markdown",
   "metadata": {},
   "source": [
    "Посмотрим на наличие пропусков в данных."
   ]
  },
  {
   "cell_type": "code",
   "execution_count": 173,
   "metadata": {},
   "outputs": [
    {
     "name": "stdout",
     "output_type": "stream",
     "text": [
      "private pool    98.891525\n",
      "PrivatePool     89.312672\n",
      "fireplace       72.662221\n",
      "stories         39.958111\n",
      "baths           28.192532\n",
      "beds            24.200856\n",
      "sqft            10.757851\n",
      "status          10.583136\n",
      "propertyType     9.208479\n",
      "target           0.657767\n",
      "city             0.009014\n",
      "street           0.000530\n",
      "dtype: float64\n"
     ]
    }
   ],
   "source": [
    "cols_null_percent = data.isnull().mean() * 100\n",
    "cols_with_null = cols_null_percent[cols_null_percent>0].sort_values(ascending=False)\n",
    "print(cols_with_null)"
   ]
  },
  {
   "cell_type": "code",
   "execution_count": 174,
   "metadata": {},
   "outputs": [
    {
     "data": {
      "image/png": "[encoded data removed]",
      "text/plain": [
       "<Figure size 1000x400 with 1 Axes>"
      ]
     },
     "metadata": {},
     "output_type": "display_data"
    }
   ],
   "source": [
    "cols_with_null.plot(\n",
    "    kind='bar',\n",
    "    figsize=(10, 4),\n",
    "    title='Распределение пропусков в данных'\n",
    ");"
   ]
  },
  {
   "cell_type": "code",
   "execution_count": 175,
   "metadata": {},
   "outputs": [
    {
     "data": {
      "image/png": "[encoded data removed]",
      "text/plain": [
       "<Figure size 1000x400 with 2 Axes>"
      ]
     },
     "metadata": {},
     "output_type": "display_data"
    }
   ],
   "source": [
    "colors = ['blue', 'yellow'] \n",
    "fig = plt.figure(figsize=(10, 4))\n",
    "cols = cols_with_null.index\n",
    "ax = sns.heatmap(\n",
    "    data[cols].isnull(),\n",
    "    cmap=sns.color_palette(colors),\n",
    ")"
   ]
  },
  {
   "cell_type": "markdown",
   "metadata": {},
   "source": [
    "Очевидно, что три признака - private pool, PrivatePool, fireplace - имеют очень большое количество пропусков (более 70%). Кроме того, признаки private pool и PrivatePool несут одинаковую информацию о наличии бассейна, но даже объединив эти данные, доля пропусков все равно будет велика и их замена может исказить данные. Поэтмоу, несмотря на то, что наличие бассейна или камина могут оказывать влияние на стоимость недвижимости, эти данные придется удалить, так как восстановить их не представляется возможным."
   ]
  },
  {
   "cell_type": "code",
   "execution_count": 176,
   "metadata": {},
   "outputs": [],
   "source": [
    "# удалим все столбцы с пропусками более 40%\n",
    "data = data.dropna(thresh=data.shape[0]*0.6, axis=1)"
   ]
  },
  {
   "cell_type": "code",
   "execution_count": 177,
   "metadata": {},
   "outputs": [
    {
     "name": "stdout",
     "output_type": "stream",
     "text": [
      "Число найденных дубликатов: 141\n",
      "Результирующее число записей: 377044\n"
     ]
    }
   ],
   "source": [
    "# найдем и удалим дубликаты\n",
    "dupl_columns = list(data.columns)\n",
    "mask = data.duplicated(subset=dupl_columns)\n",
    "duplicates = data[mask]\n",
    "print(f'Число найденных дубликатов: {duplicates.shape[0]}')\n",
    "sber_dedupped = data.drop_duplicates(subset=dupl_columns)\n",
    "print(f'Результирующее число записей: {sber_dedupped.shape[0]}')"
   ]
  },
  {
   "cell_type": "markdown",
   "metadata": {},
   "source": [
    "Проверим данные на неинформативные признаки, которые не играют роли при моделировании и лишь засоряют таблицу, увеличивая объем данных. Найдем признаки, в которых:\n",
    "- 95% строк содержат одинаковые значения\n",
    "- 95% строк содержат уникальные значения "
   ]
  },
  {
   "cell_type": "code",
   "execution_count": 178,
   "metadata": {},
   "outputs": [
    {
     "name": "stdout",
     "output_type": "stream",
     "text": [
      "status не является неинформативным признаком\n",
      "propertyType не является неинформативным признаком\n",
      "street не является неинформативным признаком\n",
      "baths не является неинформативным признаком\n",
      "homeFacts не является неинформативным признаком\n",
      "city не является неинформативным признаком\n",
      "schools не является неинформативным признаком\n",
      "sqft не является неинформативным признаком\n",
      "zipcode не является неинформативным признаком\n",
      "beds не является неинформативным признаком\n",
      "state не является неинформативным признаком\n",
      "stories не является неинформативным признаком\n",
      "target не является неинформативным признаком\n"
     ]
    }
   ],
   "source": [
    "#список неинформативных признаков\n",
    "low_information_cols = [] \n",
    "\n",
    "#цикл по всем столбцам\n",
    "for col in data.columns:\n",
    "    #наибольшая относительная частота в признаке\n",
    "    top_freq = data[col].value_counts(normalize=True).max()\n",
    "    #доля уникальных значений от размера признака\n",
    "    nunique_ratio = data[col].nunique() / data[col].count()\n",
    "    # сравниваем наибольшую частоту с порогом\n",
    "    if top_freq > 0.95:\n",
    "        low_information_cols.append(col)\n",
    "        print(f'{col}: {round(top_freq*100, 2)}% одинаковых значений')\n",
    "    # сравниваем долю уникальных значений с порогом\n",
    "    if nunique_ratio > 0.95:\n",
    "        low_information_cols.append(col)\n",
    "        print(f'{col}: {round(nunique_ratio*100, 2)}% уникальных значений')\n",
    "    else:\n",
    "        print(f'{col} не является неинформативным признаком')"
   ]
  },
  {
   "cell_type": "markdown",
   "metadata": {},
   "source": [
    "### 3. Преобразование данных и EDA."
   ]
  },
  {
   "cell_type": "markdown",
   "metadata": {},
   "source": [
    "Исследуем и преобразуем каждый признак.\n",
    "\n",
    "Попробуем найти закономерности, позволяющие сформулировать предварительные гипотезы относительно того, какие факторы являются решающими в определении стимости недвижимости."
   ]
  },
  {
   "cell_type": "markdown",
   "metadata": {},
   "source": [
    "#### 3.1 Целевой признак - target."
   ]
  },
  {
   "cell_type": "code",
   "execution_count": 179,
   "metadata": {},
   "outputs": [
    {
     "data": {
      "text/plain": [
       "count       374704\n",
       "unique       43939\n",
       "top       $225,000\n",
       "freq          1462\n",
       "Name: target, dtype: object"
      ]
     },
     "execution_count": 179,
     "metadata": {},
     "output_type": "execute_result"
    }
   ],
   "source": [
    "# выведем статистику\n",
    "data['target'].describe()"
   ]
  },
  {
   "cell_type": "code",
   "execution_count": 180,
   "metadata": {},
   "outputs": [
    {
     "data": {
      "text/plain": [
       "target\n",
       "$225,000    1462\n",
       "$275,000    1355\n",
       "$250,000    1312\n",
       "$350,000    1296\n",
       "$299,900    1276\n",
       "$325,000    1244\n",
       "$249,900    1241\n",
       "$399,000    1239\n",
       "$199,900    1199\n",
       "$299,000    1176\n",
       "$375,000    1163\n",
       "$450,000    1141\n",
       "$499,000    1099\n",
       "$175,000    1096\n",
       "$425,000    1075\n",
       "Name: count, dtype: int64"
      ]
     },
     "execution_count": 180,
     "metadata": {},
     "output_type": "execute_result"
    }
   ],
   "source": [
    "# посмотрим на распределение\n",
    "data['target'].value_counts().nlargest(15)"
   ]
  },
  {
   "cell_type": "markdown",
   "metadata": {},
   "source": [
    "Признак имеет большое количество уникальных значение, что неудивительно, так как цена всегда индивидуальна для каждого объекта. \n",
    "\n",
    "- Проверим признак на пропуски и удалим их, так как это целевой признак, а значит строк с пропусками в нем быть не должно. \n",
    "- Проверим признак на специфические данные (возможно есть данные, не отвечающие сути признака)\n",
    "- Переведем признак в тип данных float.\n",
    "- Проверим и избавимся, если нужно от выбросов."
   ]
  },
  {
   "cell_type": "code",
   "execution_count": 181,
   "metadata": {},
   "outputs": [
    {
     "data": {
      "text/plain": [
       "0.6577674085660883"
      ]
     },
     "execution_count": 181,
     "metadata": {},
     "output_type": "execute_result"
    }
   ],
   "source": [
    "data['target'].isnull().mean()*100"
   ]
  },
  {
   "cell_type": "code",
   "execution_count": 182,
   "metadata": {},
   "outputs": [],
   "source": [
    "data = data.dropna(subset=['target'])"
   ]
  },
  {
   "cell_type": "code",
   "execution_count": 184,
   "metadata": {},
   "outputs": [
    {
     "data": {
      "text/html": [
       "<div>\n",
       "<style scoped>\n",
       "    .dataframe tbody tr th:only-of-type {\n",
       "        vertical-align: middle;\n",
       "    }\n",
       "\n",
       "    .dataframe tbody tr th {\n",
       "        vertical-align: top;\n",
       "    }\n",
       "\n",
       "    .dataframe thead th {\n",
       "        text-align: right;\n",
       "    }\n",
       "</style>\n",
       "<table border=\"1\" class=\"dataframe\">\n",
       "  <thead>\n",
       "    <tr style=\"text-align: right;\">\n",
       "      <th></th>\n",
       "      <th>status</th>\n",
       "      <th>propertyType</th>\n",
       "      <th>street</th>\n",
       "      <th>baths</th>\n",
       "      <th>homeFacts</th>\n",
       "      <th>city</th>\n",
       "      <th>schools</th>\n",
       "      <th>sqft</th>\n",
       "      <th>zipcode</th>\n",
       "      <th>beds</th>\n",
       "      <th>state</th>\n",
       "      <th>stories</th>\n",
       "      <th>target</th>\n",
       "    </tr>\n",
       "  </thead>\n",
       "  <tbody>\n",
       "    <tr>\n",
       "      <th>547</th>\n",
       "      <td>for rent</td>\n",
       "      <td>single-family home</td>\n",
       "      <td>4323 N Central Park Ave</td>\n",
       "      <td>3.5 Baths</td>\n",
       "      <td>{'atAGlanceFacts': [{'factValue': '1913', 'fac...</td>\n",
       "      <td>Chicago</td>\n",
       "      <td>[{'rating': ['1/10', '4/10', '2/10', 'None/10'...</td>\n",
       "      <td>3,300 sqft</td>\n",
       "      <td>60618</td>\n",
       "      <td>4 Beds</td>\n",
       "      <td>IL</td>\n",
       "      <td>NaN</td>\n",
       "      <td>$5,500/mo</td>\n",
       "    </tr>\n",
       "    <tr>\n",
       "      <th>609</th>\n",
       "      <td>for rent</td>\n",
       "      <td>multi-family</td>\n",
       "      <td>220 Boylston St #1412</td>\n",
       "      <td>2 Baths</td>\n",
       "      <td>{'atAGlanceFacts': [{'factValue': '1985', 'fac...</td>\n",
       "      <td>Boston</td>\n",
       "      <td>[{'rating': [], 'data': {'Distance': [], 'Grad...</td>\n",
       "      <td>1,673 sqft</td>\n",
       "      <td>2116</td>\n",
       "      <td>2 Beds</td>\n",
       "      <td>MA</td>\n",
       "      <td>NaN</td>\n",
       "      <td>$10,500/mo</td>\n",
       "    </tr>\n",
       "    <tr>\n",
       "      <th>2075</th>\n",
       "      <td>for rent</td>\n",
       "      <td>single-family home</td>\n",
       "      <td>2830 NE 56th Ct</td>\n",
       "      <td>4 Baths</td>\n",
       "      <td>{'atAGlanceFacts': [{'factValue': '1965', 'fac...</td>\n",
       "      <td>Fort Lauderdale</td>\n",
       "      <td>[{'rating': ['6/10', '2/10', '4/10'], 'data': ...</td>\n",
       "      <td>2,400 sqft</td>\n",
       "      <td>33308</td>\n",
       "      <td>4 Beds</td>\n",
       "      <td>FL</td>\n",
       "      <td>NaN</td>\n",
       "      <td>$6,390/mo</td>\n",
       "    </tr>\n",
       "    <tr>\n",
       "      <th>3025</th>\n",
       "      <td>for rent</td>\n",
       "      <td>multi-family</td>\n",
       "      <td>411 Kline Aly</td>\n",
       "      <td>2.5 Baths</td>\n",
       "      <td>{'atAGlanceFacts': [{'factValue': '2014', 'fac...</td>\n",
       "      <td>Clarksville</td>\n",
       "      <td>[{'rating': ['8/10', '9/10', '7/10'], 'data': ...</td>\n",
       "      <td>1,280 sqft</td>\n",
       "      <td>37040</td>\n",
       "      <td>2 Beds</td>\n",
       "      <td>TN</td>\n",
       "      <td>NaN</td>\n",
       "      <td>$1,200/mo</td>\n",
       "    </tr>\n",
       "    <tr>\n",
       "      <th>3645</th>\n",
       "      <td>for rent</td>\n",
       "      <td>multi-family</td>\n",
       "      <td>240 E Illinois St #2011</td>\n",
       "      <td>2 Baths</td>\n",
       "      <td>{'atAGlanceFacts': [{'factValue': '2003', 'fac...</td>\n",
       "      <td>Chicago</td>\n",
       "      <td>[{'rating': ['4/10', '7/10'], 'data': {'Distan...</td>\n",
       "      <td>1,473 sqft</td>\n",
       "      <td>60611</td>\n",
       "      <td>2 Beds</td>\n",
       "      <td>IL</td>\n",
       "      <td>NaN</td>\n",
       "      <td>$3,600/mo</td>\n",
       "    </tr>\n",
       "    <tr>\n",
       "      <th>...</th>\n",
       "      <td>...</td>\n",
       "      <td>...</td>\n",
       "      <td>...</td>\n",
       "      <td>...</td>\n",
       "      <td>...</td>\n",
       "      <td>...</td>\n",
       "      <td>...</td>\n",
       "      <td>...</td>\n",
       "      <td>...</td>\n",
       "      <td>...</td>\n",
       "      <td>...</td>\n",
       "      <td>...</td>\n",
       "      <td>...</td>\n",
       "    </tr>\n",
       "    <tr>\n",
       "      <th>371791</th>\n",
       "      <td>for rent</td>\n",
       "      <td>multi-family</td>\n",
       "      <td>9436 Turrentine Dr</td>\n",
       "      <td>1.5 Baths</td>\n",
       "      <td>{'atAGlanceFacts': [{'factValue': '', 'factLab...</td>\n",
       "      <td>El Paso</td>\n",
       "      <td>[{'rating': ['4/10', '8/10', '6/10'], 'data': ...</td>\n",
       "      <td>1,050 sqft</td>\n",
       "      <td>79925</td>\n",
       "      <td>2 Beds</td>\n",
       "      <td>TX</td>\n",
       "      <td>NaN</td>\n",
       "      <td>$890/mo</td>\n",
       "    </tr>\n",
       "    <tr>\n",
       "      <th>372459</th>\n",
       "      <td>for rent</td>\n",
       "      <td>townhouse</td>\n",
       "      <td>34 Jonquil Pl</td>\n",
       "      <td>2.5 Baths</td>\n",
       "      <td>{'atAGlanceFacts': [{'factValue': '2014', 'fac...</td>\n",
       "      <td>The Woodlands</td>\n",
       "      <td>[{'rating': ['5/10', '8/10', '7/10', '8/10'], ...</td>\n",
       "      <td>2,601 sqft</td>\n",
       "      <td>77375</td>\n",
       "      <td>3 Beds</td>\n",
       "      <td>TX</td>\n",
       "      <td>NaN</td>\n",
       "      <td>$2,500/mo</td>\n",
       "    </tr>\n",
       "    <tr>\n",
       "      <th>374288</th>\n",
       "      <td>for rent</td>\n",
       "      <td>single-family home</td>\n",
       "      <td>8864 Devonshire Dr</td>\n",
       "      <td>2 Baths</td>\n",
       "      <td>{'atAGlanceFacts': [{'factValue': '2016', 'fac...</td>\n",
       "      <td>Fort Worth</td>\n",
       "      <td>[{'rating': ['6/10', '5/10', '5/10'], 'data': ...</td>\n",
       "      <td>2,000 sqft</td>\n",
       "      <td>76131</td>\n",
       "      <td>4 Beds</td>\n",
       "      <td>TX</td>\n",
       "      <td>NaN</td>\n",
       "      <td>$2,000/mo</td>\n",
       "    </tr>\n",
       "    <tr>\n",
       "      <th>375550</th>\n",
       "      <td>for rent</td>\n",
       "      <td>townhouse</td>\n",
       "      <td>2217 W Seybert St</td>\n",
       "      <td>NaN</td>\n",
       "      <td>{'atAGlanceFacts': [{'factValue': '1920', 'fac...</td>\n",
       "      <td>Philadelphia</td>\n",
       "      <td>[{'rating': ['1/10', '3/10'], 'data': {'Distan...</td>\n",
       "      <td>720 sqft</td>\n",
       "      <td>19121</td>\n",
       "      <td>2 Beds</td>\n",
       "      <td>PA</td>\n",
       "      <td>NaN</td>\n",
       "      <td>$1,500/mo</td>\n",
       "    </tr>\n",
       "    <tr>\n",
       "      <th>376976</th>\n",
       "      <td>for rent</td>\n",
       "      <td>single-family home</td>\n",
       "      <td>3819 Alabama Ave NE</td>\n",
       "      <td>2 Baths</td>\n",
       "      <td>{'atAGlanceFacts': [{'factValue': '1961', 'fac...</td>\n",
       "      <td>Saint Petersburg</td>\n",
       "      <td>[{'rating': ['2/10', '5/10', '4/10'], 'data': ...</td>\n",
       "      <td>1,304 sqft</td>\n",
       "      <td>33703</td>\n",
       "      <td>3 Beds</td>\n",
       "      <td>FL</td>\n",
       "      <td>NaN</td>\n",
       "      <td>$1,900/mo</td>\n",
       "    </tr>\n",
       "  </tbody>\n",
       "</table>\n",
       "<p>398 rows × 13 columns</p>\n",
       "</div>"
      ],
      "text/plain": [
       "          status        propertyType                   street      baths  \\\n",
       "547     for rent  single-family home  4323 N Central Park Ave  3.5 Baths   \n",
       "609     for rent        multi-family    220 Boylston St #1412    2 Baths   \n",
       "2075    for rent  single-family home          2830 NE 56th Ct    4 Baths   \n",
       "3025    for rent        multi-family            411 Kline Aly  2.5 Baths   \n",
       "3645    for rent        multi-family  240 E Illinois St #2011    2 Baths   \n",
       "...          ...                 ...                      ...        ...   \n",
       "371791  for rent        multi-family       9436 Turrentine Dr  1.5 Baths   \n",
       "372459  for rent           townhouse            34 Jonquil Pl  2.5 Baths   \n",
       "374288  for rent  single-family home       8864 Devonshire Dr    2 Baths   \n",
       "375550  for rent           townhouse        2217 W Seybert St        NaN   \n",
       "376976  for rent  single-family home      3819 Alabama Ave NE    2 Baths   \n",
       "\n",
       "                                                homeFacts              city  \\\n",
       "547     {'atAGlanceFacts': [{'factValue': '1913', 'fac...           Chicago   \n",
       "609     {'atAGlanceFacts': [{'factValue': '1985', 'fac...            Boston   \n",
       "2075    {'atAGlanceFacts': [{'factValue': '1965', 'fac...   Fort Lauderdale   \n",
       "3025    {'atAGlanceFacts': [{'factValue': '2014', 'fac...       Clarksville   \n",
       "3645    {'atAGlanceFacts': [{'factValue': '2003', 'fac...           Chicago   \n",
       "...                                                   ...               ...   \n",
       "371791  {'atAGlanceFacts': [{'factValue': '', 'factLab...           El Paso   \n",
       "372459  {'atAGlanceFacts': [{'factValue': '2014', 'fac...     The Woodlands   \n",
       "374288  {'atAGlanceFacts': [{'factValue': '2016', 'fac...        Fort Worth   \n",
       "375550  {'atAGlanceFacts': [{'factValue': '1920', 'fac...      Philadelphia   \n",
       "376976  {'atAGlanceFacts': [{'factValue': '1961', 'fac...  Saint Petersburg   \n",
       "\n",
       "                                                  schools        sqft zipcode  \\\n",
       "547     [{'rating': ['1/10', '4/10', '2/10', 'None/10'...  3,300 sqft   60618   \n",
       "609     [{'rating': [], 'data': {'Distance': [], 'Grad...  1,673 sqft    2116   \n",
       "2075    [{'rating': ['6/10', '2/10', '4/10'], 'data': ...  2,400 sqft   33308   \n",
       "3025    [{'rating': ['8/10', '9/10', '7/10'], 'data': ...  1,280 sqft   37040   \n",
       "3645    [{'rating': ['4/10', '7/10'], 'data': {'Distan...  1,473 sqft   60611   \n",
       "...                                                   ...         ...     ...   \n",
       "371791  [{'rating': ['4/10', '8/10', '6/10'], 'data': ...  1,050 sqft   79925   \n",
       "372459  [{'rating': ['5/10', '8/10', '7/10', '8/10'], ...  2,601 sqft   77375   \n",
       "374288  [{'rating': ['6/10', '5/10', '5/10'], 'data': ...  2,000 sqft   76131   \n",
       "375550  [{'rating': ['1/10', '3/10'], 'data': {'Distan...    720 sqft   19121   \n",
       "376976  [{'rating': ['2/10', '5/10', '4/10'], 'data': ...  1,304 sqft   33703   \n",
       "\n",
       "          beds state stories      target  \n",
       "547     4 Beds    IL     NaN   $5,500/mo  \n",
       "609     2 Beds    MA     NaN  $10,500/mo  \n",
       "2075    4 Beds    FL     NaN   $6,390/mo  \n",
       "3025    2 Beds    TN     NaN   $1,200/mo  \n",
       "3645    2 Beds    IL     NaN   $3,600/mo  \n",
       "...        ...   ...     ...         ...  \n",
       "371791  2 Beds    TX     NaN     $890/mo  \n",
       "372459  3 Beds    TX     NaN   $2,500/mo  \n",
       "374288  4 Beds    TX     NaN   $2,000/mo  \n",
       "375550  2 Beds    PA     NaN   $1,500/mo  \n",
       "376976  3 Beds    FL     NaN   $1,900/mo  \n",
       "\n",
       "[398 rows x 13 columns]"
      ]
     },
     "execution_count": 184,
     "metadata": {},
     "output_type": "execute_result"
    }
   ],
   "source": [
    "data[data.target.str.contains('/mo',regex=True)]"
   ]
  },
  {
   "cell_type": "markdown",
   "metadata": {},
   "source": [
    "В данных есть объекты, предназначенные для аренды, они имеют стоимость за месяц. Такие данных нужно удалить, чтобы не было путаницы между продажей и арендой."
   ]
  },
  {
   "cell_type": "code",
   "execution_count": 185,
   "metadata": {},
   "outputs": [],
   "source": [
    "data = data.drop(data[data['status'] == 'for rent'].index)"
   ]
  },
  {
   "cell_type": "code",
   "execution_count": 187,
   "metadata": {},
   "outputs": [],
   "source": [
    "# удалим ненужные символы и переведем в тип данных float\n",
    "data['target'] = data['target'].apply(lambda x: str(x).replace('$', '').replace(',', '').replace(' ', '').replace('+', '')).astype(float)"
   ]
  },
  {
   "cell_type": "code",
   "execution_count": 188,
   "metadata": {},
   "outputs": [
    {
     "data": {
      "text/plain": [
       "Text(0.5, 1.0, 'Целевой признак до удаления выбросов')"
      ]
     },
     "execution_count": 188,
     "metadata": {},
     "output_type": "execute_result"
    },
    {
     "data": {
      "image/png": "[encoded data removed]",
      "text/plain": [
       "<Figure size 1500x400 with 2 Axes>"
      ]
     },
     "metadata": {},
     "output_type": "display_data"
    }
   ],
   "source": [
    "fig, axes = plt.subplots(1,2, figsize = (15,4))\n",
    "histplot = sns.histplot(data = data, x = 'target', ax = axes[0]);\n",
    "histplot.set_title('Распределение целевого признака до удаления выбросов')\n",
    "boxplot = sns.boxplot( data = data, x = 'target', ax = axes[1])\n",
    "boxplot.set_title('Целевой признак до удаления выбросов')"
   ]
  },
  {
   "cell_type": "code",
   "execution_count": 189,
   "metadata": {},
   "outputs": [
    {
     "data": {
      "image/png": "[encoded data removed]",
      "text/plain": [
       "<Figure size 640x480 with 1 Axes>"
      ]
     },
     "metadata": {},
     "output_type": "display_data"
    }
   ],
   "source": [
    "qqplot(data.target, line='s')\n",
    "plt.title('Квантиль-квантиль график \\n для распределения стоимости недвижимости')\n",
    "plt.show()"
   ]
  },
  {
   "cell_type": "markdown",
   "metadata": {},
   "source": [
    "Визуально распределение целевого признака не выглядит нормально. Проверим эту гипотезу с помощью статистического теста Д’Агостино (так как данных более 5000). \n",
    "\n",
    "H0 = 'Данные распределены нормально'\n",
    "\n",
    "H1 = 'Данные не распределены нормально (мы отклоняем H0)'\n",
    "\n",
    "Значение альфа - 0.5"
   ]
  },
  {
   "cell_type": "code",
   "execution_count": 190,
   "metadata": {},
   "outputs": [
    {
     "name": "stdout",
     "output_type": "stream",
     "text": [
      "p-value = 0.000\n",
      "p-значение меньше, чем заданный уровень значимости 0.5. Распределение отлично от нормального\n"
     ]
    }
   ],
   "source": [
    "alpha=0.5\n",
    "_,p = stats.normaltest(data['target'])\n",
    "print('p-value = %.3f'%(p))\n",
    "if p <= alpha:\n",
    "    print('p-значение меньше, чем заданный уровень значимости {:.1f}. Распределение отлично от нормального'.format(alpha))\n",
    "else:\n",
    "    print('p-значение больше, чем заданный уровень значимости {:.1f}. Распределение является нормальным'.format(alpha))"
   ]
  },
  {
   "cell_type": "code",
   "execution_count": 191,
   "metadata": {},
   "outputs": [],
   "source": [
    "def outliers_z_score(data, feature, log_scale=False):\n",
    "    \"\"\"Функция для определения выбросов в данных по методу z-отклонений и их удалению\n",
    "\n",
    "    Args:\n",
    "        data (DataFrame): таблица с данными\n",
    "        feature: признак\n",
    "        log_scale: параметр, отвечающий за логарифмирование (по умолчанию False)\n",
    "\n",
    "    Returns:\n",
    "        outliers: найденные выбросы\n",
    "        cleaned: очищенная от выбросов таблица\n",
    "    \"\"\"\n",
    "    if log_scale:\n",
    "        x = np.log(data[feature]+1)\n",
    "    else:\n",
    "        x = data[feature]\n",
    "    mu = x.mean()\n",
    "    sigma = x.std()\n",
    "    lower_bound = mu - 3 * sigma\n",
    "    upper_bound = mu + 3 * sigma\n",
    "    outliers = data[(x < lower_bound) | (x > upper_bound)]\n",
    "    cleaned = data[(x >= lower_bound) & (x <= upper_bound)]\n",
    "    return outliers, cleaned"
   ]
  },
  {
   "cell_type": "code",
   "execution_count": 192,
   "metadata": {},
   "outputs": [
    {
     "name": "stdout",
     "output_type": "stream",
     "text": [
      "Число выбросов по методу z-отклонения: 6112\n",
      "Результирующее число записей: 368194\n"
     ]
    }
   ],
   "source": [
    "outliers, cleaned = outliers_z_score(data, 'target', log_scale=True)\n",
    "print(f'Число выбросов по методу z-отклонения: {outliers.shape[0]}')\n",
    "print(f'Результирующее число записей: {cleaned.shape[0]}')"
   ]
  },
  {
   "cell_type": "markdown",
   "metadata": {},
   "source": [
    "### 4. Решение задачи регрессии."
   ]
  },
  {
   "cell_type": "code",
   "execution_count": null,
   "metadata": {},
   "outputs": [],
   "source": [
    "sns.pairplot(data)"
   ]
  },
  {
   "cell_type": "markdown",
   "metadata": {},
   "source": [
    "#### 4.1 Линейная регрессия."
   ]
  },
  {
   "cell_type": "markdown",
   "metadata": {},
   "source": [
    "#### 4.2 Дерево решений."
   ]
  },
  {
   "cell_type": "markdown",
   "metadata": {},
   "source": [
    "#### 4.3 Случайный лес"
   ]
  },
  {
   "cell_type": "markdown",
   "metadata": {},
   "source": [
    "#### 4.3 Градиентыный бустинг"
   ]
  },
  {
   "cell_type": "markdown",
   "metadata": {
    "vscode": {
     "languageId": "plaintext"
    }
   },
   "source": [
    "#### 4.3 Cat бустинг"
   ]
  }
 ],
 "metadata": {
  "kernelspec": {
   "display_name": "Python 3",
   "language": "python",
   "name": "python3"
  },
  "language_info": {
   "codemirror_mode": {
    "name": "ipython",
    "version": 3
   },
   "file_extension": ".py",
   "mimetype": "text/x-python",
   "name": "python",
   "nbconvert_exporter": "python",
   "pygments_lexer": "ipython3",
   "version": "3.12.0"
  }
 },
 "nbformat": 4,
 "nbformat_minor": 2
}
