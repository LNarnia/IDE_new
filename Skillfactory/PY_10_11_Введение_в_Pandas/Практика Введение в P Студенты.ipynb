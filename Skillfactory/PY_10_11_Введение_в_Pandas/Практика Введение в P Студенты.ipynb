{
 "cells": [
  {
   "cell_type": "code",
   "execution_count": 1,
   "metadata": {},
   "outputs": [],
   "source": [
    "import pandas as pd"
   ]
  },
  {
   "cell_type": "code",
   "execution_count": 2,
   "metadata": {},
   "outputs": [
    {
     "data": {
      "text/plain": [
       "'2.1.2'"
      ]
     },
     "execution_count": 2,
     "metadata": {},
     "output_type": "execute_result"
    }
   ],
   "source": [
    "pd.__version__"
   ]
  },
  {
   "cell_type": "code",
   "execution_count": 3,
   "metadata": {},
   "outputs": [
    {
     "name": "stdout",
     "output_type": "stream",
     "text": [
      "     gender race/ethnicity parental level of education         lunch  \\\n",
      "0    female        group B           bachelor's degree      standard   \n",
      "1    female        group C                some college      standard   \n",
      "2    female        group B             master's degree      standard   \n",
      "3      male        group A          associate's degree  free/reduced   \n",
      "4      male        group C                some college      standard   \n",
      "..      ...            ...                         ...           ...   \n",
      "995  female        group E             master's degree      standard   \n",
      "996    male        group C                 high school  free/reduced   \n",
      "997  female        group C                 high school  free/reduced   \n",
      "998  female        group D                some college      standard   \n",
      "999  female        group D                some college  free/reduced   \n",
      "\n",
      "    test preparation course  math score  reading score  writing score  \n",
      "0                      none          72             72             74  \n",
      "1                 completed          69             90             88  \n",
      "2                      none          90             95             93  \n",
      "3                      none          47             57             44  \n",
      "4                      none          76             78             75  \n",
      "..                      ...         ...            ...            ...  \n",
      "995               completed          88             99             95  \n",
      "996                    none          62             55             55  \n",
      "997               completed          59             71             65  \n",
      "998               completed          68             78             77  \n",
      "999                    none          77             86             86  \n",
      "\n",
      "[1000 rows x 8 columns]\n"
     ]
    }
   ],
   "source": [
    "students_data = pd.read_csv('data/students_performance.csv', sep=',')\n",
    "print(students_data)"
   ]
  },
  {
   "cell_type": "code",
   "execution_count": 4,
   "metadata": {},
   "outputs": [
    {
     "data": {
      "text/plain": [
       "gender                               female\n",
       "race/ethnicity                      group C\n",
       "parental level of education    some college\n",
       "lunch                              standard\n",
       "test preparation course           completed\n",
       "math score                               70\n",
       "reading score                            89\n",
       "writing score                            88\n",
       "Name: 155, dtype: object"
      ]
     },
     "execution_count": 4,
     "metadata": {},
     "output_type": "execute_result"
    }
   ],
   "source": [
    "students_data.iloc[155]"
   ]
  },
  {
   "cell_type": "code",
   "execution_count": 5,
   "metadata": {},
   "outputs": [
    {
     "name": "stdout",
     "output_type": "stream",
     "text": [
      "<class 'pandas.core.frame.DataFrame'>\n",
      "RangeIndex: 1000 entries, 0 to 999\n",
      "Data columns (total 8 columns):\n",
      " #   Column                       Non-Null Count  Dtype \n",
      "---  ------                       --------------  ----- \n",
      " 0   gender                       1000 non-null   object\n",
      " 1   race/ethnicity               1000 non-null   object\n",
      " 2   parental level of education  1000 non-null   object\n",
      " 3   lunch                        1000 non-null   object\n",
      " 4   test preparation course      1000 non-null   object\n",
      " 5   math score                   1000 non-null   int64 \n",
      " 6   reading score                1000 non-null   int64 \n",
      " 7   writing score                1000 non-null   int64 \n",
      "dtypes: int64(3), object(5)\n",
      "memory usage: 62.6+ KB\n"
     ]
    }
   ],
   "source": [
    "students_data.info()"
   ]
  },
  {
   "cell_type": "code",
   "execution_count": 6,
   "metadata": {},
   "outputs": [
    {
     "data": {
      "text/plain": [
       "66.089"
      ]
     },
     "execution_count": 6,
     "metadata": {},
     "output_type": "execute_result"
    }
   ],
   "source": [
    "students_data['math score'].mean()"
   ]
  },
  {
   "cell_type": "code",
   "execution_count": 8,
   "metadata": {},
   "outputs": [
    {
     "data": {
      "text/plain": [
       "0    group C\n",
       "Name: race/ethnicity, dtype: object"
      ]
     },
     "execution_count": 8,
     "metadata": {},
     "output_type": "execute_result"
    }
   ],
   "source": [
    "students_data['race/ethnicity'].mode()\n"
   ]
  },
  {
   "cell_type": "code",
   "execution_count": 9,
   "metadata": {},
   "outputs": [
    {
     "data": {
      "text/plain": [
       "73.89385474860335"
      ]
     },
     "execution_count": 9,
     "metadata": {},
     "output_type": "execute_result"
    }
   ],
   "source": [
    "students_data[students_data['test preparation course']=='completed']['reading score'].mean()"
   ]
  },
  {
   "cell_type": "code",
   "execution_count": 11,
   "metadata": {},
   "outputs": [
    {
     "data": {
      "text/plain": [
       "1"
      ]
     },
     "execution_count": 11,
     "metadata": {},
     "output_type": "execute_result"
    }
   ],
   "source": [
    "students_data[students_data['math score']==0].shape[0]"
   ]
  },
  {
   "cell_type": "code",
   "execution_count": 21,
   "metadata": {},
   "outputs": [
    {
     "name": "stdout",
     "output_type": "stream",
     "text": [
      "70.03410852713178 58.92112676056338\n"
     ]
    }
   ],
   "source": [
    "group1 = students_data[students_data['lunch']=='standard']['math score'].mean()\n",
    "group2 = students_data[students_data['lunch']=='free/reduced']['math score'].mean()\n",
    "print(group1,group2)\n"
   ]
  },
  {
   "cell_type": "code",
   "execution_count": 22,
   "metadata": {},
   "outputs": [
    {
     "data": {
      "text/plain": [
       "parental level of education\n",
       "some college          0.226\n",
       "associate's degree    0.222\n",
       "high school           0.196\n",
       "some high school      0.179\n",
       "bachelor's degree     0.118\n",
       "master's degree       0.059\n",
       "Name: proportion, dtype: float64"
      ]
     },
     "execution_count": 22,
     "metadata": {},
     "output_type": "execute_result"
    }
   ],
   "source": [
    "students_data['parental level of education'].value_counts(normalize=True)"
   ]
  },
  {
   "cell_type": "code",
   "execution_count": 31,
   "metadata": {},
   "outputs": [
    {
     "name": "stdout",
     "output_type": "stream",
     "text": [
      "-6.0\n"
     ]
    }
   ],
   "source": [
    "group_a=students_data [students_data['race/ethnicity']=='group A']['writing score'].median()\n",
    "group_c=students_data [students_data['race/ethnicity']=='group C']['writing score'].median()\n",
    "result = group_a-group_c\n",
    "print(result)\n",
    "\n"
   ]
  }
 ],
 "metadata": {
  "kernelspec": {
   "display_name": "Python 3",
   "language": "python",
   "name": "python3"
  },
  "language_info": {
   "codemirror_mode": {
    "name": "ipython",
    "version": 3
   },
   "file_extension": ".py",
   "mimetype": "text/x-python",
   "name": "python",
   "nbconvert_exporter": "python",
   "pygments_lexer": "ipython3",
   "version": "3.11.6"
  }
 },
 "nbformat": 4,
 "nbformat_minor": 2
}
