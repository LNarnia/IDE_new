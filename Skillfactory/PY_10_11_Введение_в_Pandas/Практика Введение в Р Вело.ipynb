{
 "cells": [
  {
   "cell_type": "code",
   "execution_count": 1,
   "metadata": {},
   "outputs": [],
   "source": [
    "import pandas as pd"
   ]
  },
  {
   "cell_type": "code",
   "execution_count": 2,
   "metadata": {},
   "outputs": [
    {
     "name": "stdout",
     "output_type": "stream",
     "text": [
      "                  starttime                  stoptime  start station id  \\\n",
      "0  2018-09-01 00:00:05.2690  2018-09-01 00:27:20.6340             252.0   \n",
      "1  2018-09-01 00:00:11.2810  2018-09-01 00:02:23.4810             314.0   \n",
      "2  2018-09-01 00:00:20.6490  2018-09-01 00:55:58.5470            3142.0   \n",
      "3  2018-09-01 00:00:21.7460  2018-09-01 00:07:38.5830             308.0   \n",
      "4  2018-09-01 00:00:27.3150  2018-09-01 02:21:25.3080             345.0   \n",
      "\n",
      "                start station name  start station latitude  \\\n",
      "0     MacDougal St & Washington Sq               40.732264   \n",
      "1  Cadman Plaza West & Montague St               40.693830   \n",
      "2                  1 Ave & E 62 St               40.761227   \n",
      "3          St James Pl & Oliver St               40.713079   \n",
      "4                  W 13 St & 6 Ave               40.736494   \n",
      "\n",
      "   start station longitude  end station id            end station name  \\\n",
      "0               -73.998522           366.0    Clinton Ave & Myrtle Ave   \n",
      "1               -73.990539          3242.0  Schermerhorn St & Court St   \n",
      "2               -73.960940          3384.0             Smith St & 3 St   \n",
      "3               -73.998512          3690.0         Park Pl & Church St   \n",
      "4               -73.997044           380.0            W 4 St & 7 Ave S   \n",
      "\n",
      "   end station latitude  end station longitude  bikeid    usertype  \\\n",
      "0             40.693261             -73.968896   25577  Subscriber   \n",
      "1             40.691029             -73.991834   34377  Subscriber   \n",
      "2             40.678724             -73.995991   30496  Subscriber   \n",
      "3             40.713342             -74.009355   28866  Subscriber   \n",
      "4             40.734011             -74.002939   20943    Customer   \n",
      "\n",
      "   birth year  gender  \n",
      "0        1980       1  \n",
      "1        1969       0  \n",
      "2        1975       1  \n",
      "3        1984       2  \n",
      "4        1994       1  \n"
     ]
    }
   ],
   "source": [
    "cb_df = pd.read_csv('data/citibike-tripdata.csv')\n",
    "print(cb_df.head())"
   ]
  },
  {
   "cell_type": "code",
   "execution_count": 3,
   "metadata": {},
   "outputs": [
    {
     "name": "stdout",
     "output_type": "stream",
     "text": [
      "<class 'pandas.core.frame.DataFrame'>\n",
      "RangeIndex: 300000 entries, 0 to 299999\n",
      "Data columns (total 14 columns):\n",
      " #   Column                   Non-Null Count   Dtype  \n",
      "---  ------                   --------------   -----  \n",
      " 0   starttime                300000 non-null  object \n",
      " 1   stoptime                 300000 non-null  object \n",
      " 2   start station id         299831 non-null  float64\n",
      " 3   start station name       299831 non-null  object \n",
      " 4   start station latitude   300000 non-null  float64\n",
      " 5   start station longitude  300000 non-null  float64\n",
      " 6   end station id           299831 non-null  float64\n",
      " 7   end station name         299831 non-null  object \n",
      " 8   end station latitude     300000 non-null  float64\n",
      " 9   end station longitude    300000 non-null  float64\n",
      " 10  bikeid                   300000 non-null  int64  \n",
      " 11  usertype                 300000 non-null  object \n",
      " 12  birth year               300000 non-null  int64  \n",
      " 13  gender                   300000 non-null  int64  \n",
      "dtypes: float64(6), int64(3), object(5)\n",
      "memory usage: 32.0+ MB\n",
      "None\n"
     ]
    }
   ],
   "source": [
    "print(cb_df.info())"
   ]
  },
  {
   "cell_type": "code",
   "execution_count": 4,
   "metadata": {},
   "outputs": [
    {
     "name": "stdout",
     "output_type": "stream",
     "text": [
      "0    281.0\n",
      "Name: start station id, dtype: float64\n"
     ]
    }
   ],
   "source": [
    "print(cb_df['start station id'].mode())"
   ]
  },
  {
   "cell_type": "code",
   "execution_count": 5,
   "metadata": {},
   "outputs": [
    {
     "name": "stdout",
     "output_type": "stream",
     "text": [
      "0    33887\n",
      "Name: bikeid, dtype: int64\n"
     ]
    }
   ],
   "source": [
    "print(cb_df['bikeid'].mode())"
   ]
  },
  {
   "cell_type": "code",
   "execution_count": 6,
   "metadata": {},
   "outputs": [
    {
     "data": {
      "text/plain": [
       "usertype\n",
       "Subscriber    0.774007\n",
       "Customer      0.225993\n",
       "Name: proportion, dtype: float64"
      ]
     },
     "execution_count": 6,
     "metadata": {},
     "output_type": "execute_result"
    }
   ],
   "source": [
    "cb_df['usertype'].value_counts(normalize=True)"
   ]
  },
  {
   "cell_type": "code",
   "execution_count": 7,
   "metadata": {},
   "outputs": [
    {
     "data": {
      "text/plain": [
       "gender\n",
       "1    183582\n",
       "2     74506\n",
       "0     41912\n",
       "Name: count, dtype: int64"
      ]
     },
     "execution_count": 7,
     "metadata": {},
     "output_type": "execute_result"
    }
   ],
   "source": [
    "cb_df['gender'].value_counts()"
   ]
  },
  {
   "cell_type": "code",
   "execution_count": 8,
   "metadata": {},
   "outputs": [
    {
     "data": {
      "text/plain": [
       "start station id\n",
       "281.0     1928\n",
       "2006.0    1909\n",
       "519.0     1873\n",
       "514.0     1845\n",
       "426.0     1835\n",
       "          ... \n",
       "3432.0      15\n",
       "3599.0      11\n",
       "2005.0       9\n",
       "3704.0       7\n",
       "3583.0       6\n",
       "Name: count, Length: 759, dtype: int64"
      ]
     },
     "execution_count": 8,
     "metadata": {},
     "output_type": "execute_result"
    }
   ],
   "source": [
    "cb_df['start station id'].value_counts()"
   ]
  },
  {
   "cell_type": "code",
   "execution_count": 9,
   "metadata": {},
   "outputs": [
    {
     "data": {
      "text/plain": [
       "end station id\n",
       "426.0     1963\n",
       "514.0     1909\n",
       "519.0     1850\n",
       "2006.0    1828\n",
       "497.0     1804\n",
       "          ... \n",
       "3183.0       3\n",
       "3191.0       1\n",
       "3187.0       1\n",
       "3074.0       1\n",
       "3192.0       1\n",
       "Name: count, Length: 765, dtype: int64"
      ]
     },
     "execution_count": 9,
     "metadata": {},
     "output_type": "execute_result"
    }
   ],
   "source": [
    "cb_df['end station id'].value_counts()"
   ]
  },
  {
   "cell_type": "code",
   "execution_count": 10,
   "metadata": {},
   "outputs": [
    {
     "data": {
      "text/plain": [
       "count    300000.000000\n",
       "mean       1979.364803\n",
       "std          11.920796\n",
       "min        1885.000000\n",
       "25%        1969.000000\n",
       "50%        1982.000000\n",
       "75%        1989.000000\n",
       "max        2002.000000\n",
       "Name: birth year, dtype: float64"
      ]
     },
     "execution_count": 10,
     "metadata": {},
     "output_type": "execute_result"
    }
   ],
   "source": [
    "cb_df['birth year'].describe()"
   ]
  },
  {
   "cell_type": "code",
   "execution_count": 11,
   "metadata": {},
   "outputs": [
    {
     "data": {
      "text/plain": [
       "start station name\n",
       "Grand Army Plaza & Central Park S    1928\n",
       "Central Park S & 6 Ave               1909\n",
       "Pershing Square North                1873\n",
       "12 Ave & W 40 St                     1845\n",
       "West St & Chambers St                1835\n",
       "                                     ... \n",
       "NYCBS Depot - GOW                      15\n",
       "Franklin Ave & Empire Blvd             11\n",
       "Railroad Ave & Kay Ave                  9\n",
       "47 Ave & Skillman Ave                   7\n",
       "Eastern Pkwy & Washington Ave           6\n",
       "Name: count, Length: 759, dtype: int64"
      ]
     },
     "execution_count": 11,
     "metadata": {},
     "output_type": "execute_result"
    }
   ],
   "source": [
    "cb_df['start station name'].value_counts()"
   ]
  },
  {
   "cell_type": "code",
   "execution_count": 12,
   "metadata": {},
   "outputs": [
    {
     "data": {
      "text/plain": [
       "count                    299831\n",
       "unique                      765\n",
       "top       West St & Chambers St\n",
       "freq                       1963\n",
       "Name: end station name, dtype: object"
      ]
     },
     "execution_count": 12,
     "metadata": {},
     "output_type": "execute_result"
    }
   ],
   "source": [
    "cb_df['end station name'].describe()"
   ]
  },
  {
   "cell_type": "code",
   "execution_count": 13,
   "metadata": {},
   "outputs": [
    {
     "name": "stdout",
     "output_type": "stream",
     "text": [
      "<class 'pandas.core.frame.DataFrame'>\n",
      "RangeIndex: 300000 entries, 0 to 299999\n",
      "Data columns (total 12 columns):\n",
      " #   Column                   Non-Null Count   Dtype  \n",
      "---  ------                   --------------   -----  \n",
      " 0   starttime                300000 non-null  object \n",
      " 1   stoptime                 300000 non-null  object \n",
      " 2   start station name       299831 non-null  object \n",
      " 3   start station latitude   300000 non-null  float64\n",
      " 4   start station longitude  300000 non-null  float64\n",
      " 5   end station name         299831 non-null  object \n",
      " 6   end station latitude     300000 non-null  float64\n",
      " 7   end station longitude    300000 non-null  float64\n",
      " 8   bikeid                   300000 non-null  int64  \n",
      " 9   usertype                 300000 non-null  object \n",
      " 10  birth year               300000 non-null  int64  \n",
      " 11  gender                   300000 non-null  int64  \n",
      "dtypes: float64(4), int64(3), object(5)\n",
      "memory usage: 27.5+ MB\n"
     ]
    }
   ],
   "source": [
    "cb_df = cb_df.drop(['start station id'], axis=1)\n",
    "cb_df = cb_df.drop(['end station id'], axis =1)\n",
    "cb_df.info()"
   ]
  },
  {
   "cell_type": "code",
   "execution_count": 14,
   "metadata": {},
   "outputs": [
    {
     "name": "stdout",
     "output_type": "stream",
     "text": [
      "0         38\n",
      "1         49\n",
      "2         43\n",
      "3         34\n",
      "4         24\n",
      "          ..\n",
      "299995    28\n",
      "299996    36\n",
      "299997    27\n",
      "299998    43\n",
      "299999    52\n",
      "Name: age, Length: 300000, dtype: int64\n"
     ]
    }
   ],
   "source": [
    "cb_df['age'] = 2018-cb_df['birth year']\n",
    "print(cb_df['age'])"
   ]
  },
  {
   "cell_type": "code",
   "execution_count": 15,
   "metadata": {},
   "outputs": [],
   "source": [
    "cb_df = cb_df.drop(['birth year'],axis=1)"
   ]
  },
  {
   "cell_type": "code",
   "execution_count": 16,
   "metadata": {},
   "outputs": [
    {
     "data": {
      "text/plain": [
       "11837"
      ]
     },
     "execution_count": 16,
     "metadata": {},
     "output_type": "execute_result"
    }
   ],
   "source": [
    "cb_df[cb_df['age']>60].shape[0]"
   ]
  },
  {
   "cell_type": "code",
   "execution_count": 17,
   "metadata": {},
   "outputs": [
    {
     "data": {
      "text/plain": [
       "Timedelta('0 days 00:07:16.837000')"
      ]
     },
     "execution_count": 17,
     "metadata": {},
     "output_type": "execute_result"
    }
   ],
   "source": [
    "\n",
    "cb_df['starttime'] = pd.to_datetime(cb_df['starttime'])\n",
    "cb_df['stoptime'] = pd.to_datetime(cb_df['stoptime'])\n",
    "cb_df['trip duration'] = (cb_df['stoptime']-cb_df['starttime'])\n",
    "cb_df.loc[3, 'trip duration']\n",
    "#print (cb_df['trip duration'])"
   ]
  },
  {
   "cell_type": "code",
   "execution_count": 21,
   "metadata": {},
   "outputs": [
    {
     "data": {
      "text/plain": [
       "weekend\n",
       "0    184865\n",
       "1    115135\n",
       "Name: count, dtype: int64"
      ]
     },
     "execution_count": 21,
     "metadata": {},
     "output_type": "execute_result"
    }
   ],
   "source": [
    "week = cb_df['starttime'].dt.dayofweek\n",
    "cb_df['weekend'] = week.apply(lambda x: 1 if x==5 or x==6 else 0)\n",
    "cb_df['weekend'].value_counts()\n",
    "#print(cb_df['weekend'])"
   ]
  },
  {
   "cell_type": "code",
   "execution_count": null,
   "metadata": {},
   "outputs": [],
   "source": [
    "weekday = data['starttime'].dt.dayofweek\n",
    "data['weekend'] = weekday.apply(lambda x: 1 if x ==5 or x == 6 else 0)\n",
    "data['weekend'].sum()"
   ]
  },
  {
   "cell_type": "code",
   "execution_count": 22,
   "metadata": {},
   "outputs": [
    {
     "name": "stdout",
     "output_type": "stream",
     "text": [
      "9\n"
     ]
    }
   ],
   "source": [
    "def time_start (starttime):\n",
    "    if starttime >=0 and starttime <= 6:\n",
    "        return 'night'\n",
    "    elif starttime >6 and starttime <= 12:\n",
    "        return 'morning'\n",
    "    elif starttime >12 and starttime <=18:\n",
    "        return 'day'\n",
    "    elif starttime >18 and starttime <=23:\n",
    "        return 'evening'\n",
    "\n",
    "cb_df['time_of_day'] = cb_df['starttime'].dt.hour.apply(time_start)\n",
    "day_count = cb_df[cb_df['time_of_day']=='day'].shape[0]\n",
    "night_count = cb_df[cb_df['time_of_day']=='night'].shape[0]\n",
    "result = round(day_count/night_count)\n",
    "print(result)\n"
   ]
  }
 ],
 "metadata": {
  "kernelspec": {
   "display_name": "Python 3",
   "language": "python",
   "name": "python3"
  },
  "language_info": {
   "codemirror_mode": {
    "name": "ipython",
    "version": 3
   },
   "file_extension": ".py",
   "mimetype": "text/x-python",
   "name": "python",
   "nbconvert_exporter": "python",
   "pygments_lexer": "ipython3",
   "version": "3.11.6"
  }
 },
 "nbformat": 4,
 "nbformat_minor": 2
}
