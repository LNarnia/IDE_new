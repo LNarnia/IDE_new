{
 "cells": [
  {
   "cell_type": "markdown",
   "metadata": {},
   "source": [
    "## HW_3 Прогнозирование биологического ответа"
   ]
  },
  {
   "cell_type": "code",
   "execution_count": 1,
   "metadata": {},
   "outputs": [],
   "source": [
    "#импорт библиотек\n",
    "import numpy as np #для матричных вычислений\n",
    "import pandas as pd #для анализа и предобработки данных\n",
    "import matplotlib.pyplot as plt #для визуализации\n",
    "import seaborn as sns #для визуализации\n",
    "\n",
    "from sklearn import linear_model #линейные моделиё\n",
    "from sklearn import tree #деревья решений\n",
    "from sklearn import ensemble #ансамбли\n",
    "from sklearn import metrics #метрики\n",
    "from sklearn import preprocessing #предобработка\n",
    "from sklearn import model_selection #методы разделения и валидации\n",
    "from sklearn.model_selection import train_test_split #сплитование выборки"
   ]
  },
  {
   "cell_type": "markdown",
   "metadata": {},
   "source": [
    "#### 1. Знакомство с данными"
   ]
  },
  {
   "cell_type": "code",
   "execution_count": 2,
   "metadata": {},
   "outputs": [
    {
     "data": {
      "text/html": [
       "<div>\n",
       "<style scoped>\n",
       "    .dataframe tbody tr th:only-of-type {\n",
       "        vertical-align: middle;\n",
       "    }\n",
       "\n",
       "    .dataframe tbody tr th {\n",
       "        vertical-align: top;\n",
       "    }\n",
       "\n",
       "    .dataframe thead th {\n",
       "        text-align: right;\n",
       "    }\n",
       "</style>\n",
       "<table border=\"1\" class=\"dataframe\">\n",
       "  <thead>\n",
       "    <tr style=\"text-align: right;\">\n",
       "      <th></th>\n",
       "      <th>Activity</th>\n",
       "      <th>D1</th>\n",
       "      <th>D2</th>\n",
       "      <th>D3</th>\n",
       "      <th>D4</th>\n",
       "      <th>D5</th>\n",
       "      <th>D6</th>\n",
       "      <th>D7</th>\n",
       "      <th>D8</th>\n",
       "      <th>D9</th>\n",
       "      <th>...</th>\n",
       "      <th>D1767</th>\n",
       "      <th>D1768</th>\n",
       "      <th>D1769</th>\n",
       "      <th>D1770</th>\n",
       "      <th>D1771</th>\n",
       "      <th>D1772</th>\n",
       "      <th>D1773</th>\n",
       "      <th>D1774</th>\n",
       "      <th>D1775</th>\n",
       "      <th>D1776</th>\n",
       "    </tr>\n",
       "  </thead>\n",
       "  <tbody>\n",
       "    <tr>\n",
       "      <th>0</th>\n",
       "      <td>1</td>\n",
       "      <td>0.000000</td>\n",
       "      <td>0.497009</td>\n",
       "      <td>0.10</td>\n",
       "      <td>0.0</td>\n",
       "      <td>0.132956</td>\n",
       "      <td>0.678031</td>\n",
       "      <td>0.273166</td>\n",
       "      <td>0.585445</td>\n",
       "      <td>0.743663</td>\n",
       "      <td>...</td>\n",
       "      <td>0</td>\n",
       "      <td>0</td>\n",
       "      <td>0</td>\n",
       "      <td>0</td>\n",
       "      <td>0</td>\n",
       "      <td>0</td>\n",
       "      <td>0</td>\n",
       "      <td>0</td>\n",
       "      <td>0</td>\n",
       "      <td>0</td>\n",
       "    </tr>\n",
       "    <tr>\n",
       "      <th>1</th>\n",
       "      <td>1</td>\n",
       "      <td>0.366667</td>\n",
       "      <td>0.606291</td>\n",
       "      <td>0.05</td>\n",
       "      <td>0.0</td>\n",
       "      <td>0.111209</td>\n",
       "      <td>0.803455</td>\n",
       "      <td>0.106105</td>\n",
       "      <td>0.411754</td>\n",
       "      <td>0.836582</td>\n",
       "      <td>...</td>\n",
       "      <td>1</td>\n",
       "      <td>1</td>\n",
       "      <td>1</td>\n",
       "      <td>1</td>\n",
       "      <td>0</td>\n",
       "      <td>1</td>\n",
       "      <td>0</td>\n",
       "      <td>0</td>\n",
       "      <td>1</td>\n",
       "      <td>0</td>\n",
       "    </tr>\n",
       "    <tr>\n",
       "      <th>2</th>\n",
       "      <td>1</td>\n",
       "      <td>0.033300</td>\n",
       "      <td>0.480124</td>\n",
       "      <td>0.00</td>\n",
       "      <td>0.0</td>\n",
       "      <td>0.209791</td>\n",
       "      <td>0.610350</td>\n",
       "      <td>0.356453</td>\n",
       "      <td>0.517720</td>\n",
       "      <td>0.679051</td>\n",
       "      <td>...</td>\n",
       "      <td>0</td>\n",
       "      <td>0</td>\n",
       "      <td>0</td>\n",
       "      <td>0</td>\n",
       "      <td>0</td>\n",
       "      <td>0</td>\n",
       "      <td>0</td>\n",
       "      <td>0</td>\n",
       "      <td>0</td>\n",
       "      <td>0</td>\n",
       "    </tr>\n",
       "    <tr>\n",
       "      <th>3</th>\n",
       "      <td>1</td>\n",
       "      <td>0.000000</td>\n",
       "      <td>0.538825</td>\n",
       "      <td>0.00</td>\n",
       "      <td>0.5</td>\n",
       "      <td>0.196344</td>\n",
       "      <td>0.724230</td>\n",
       "      <td>0.235606</td>\n",
       "      <td>0.288764</td>\n",
       "      <td>0.805110</td>\n",
       "      <td>...</td>\n",
       "      <td>0</td>\n",
       "      <td>0</td>\n",
       "      <td>0</td>\n",
       "      <td>0</td>\n",
       "      <td>0</td>\n",
       "      <td>0</td>\n",
       "      <td>0</td>\n",
       "      <td>0</td>\n",
       "      <td>0</td>\n",
       "      <td>0</td>\n",
       "    </tr>\n",
       "    <tr>\n",
       "      <th>4</th>\n",
       "      <td>0</td>\n",
       "      <td>0.100000</td>\n",
       "      <td>0.517794</td>\n",
       "      <td>0.00</td>\n",
       "      <td>0.0</td>\n",
       "      <td>0.494734</td>\n",
       "      <td>0.781422</td>\n",
       "      <td>0.154361</td>\n",
       "      <td>0.303809</td>\n",
       "      <td>0.812646</td>\n",
       "      <td>...</td>\n",
       "      <td>0</td>\n",
       "      <td>0</td>\n",
       "      <td>0</td>\n",
       "      <td>0</td>\n",
       "      <td>0</td>\n",
       "      <td>0</td>\n",
       "      <td>0</td>\n",
       "      <td>0</td>\n",
       "      <td>0</td>\n",
       "      <td>0</td>\n",
       "    </tr>\n",
       "  </tbody>\n",
       "</table>\n",
       "<p>5 rows × 1777 columns</p>\n",
       "</div>"
      ],
      "text/plain": [
       "   Activity        D1        D2    D3   D4        D5        D6        D7  \\\n",
       "0         1  0.000000  0.497009  0.10  0.0  0.132956  0.678031  0.273166   \n",
       "1         1  0.366667  0.606291  0.05  0.0  0.111209  0.803455  0.106105   \n",
       "2         1  0.033300  0.480124  0.00  0.0  0.209791  0.610350  0.356453   \n",
       "3         1  0.000000  0.538825  0.00  0.5  0.196344  0.724230  0.235606   \n",
       "4         0  0.100000  0.517794  0.00  0.0  0.494734  0.781422  0.154361   \n",
       "\n",
       "         D8        D9  ...  D1767  D1768  D1769  D1770  D1771  D1772  D1773  \\\n",
       "0  0.585445  0.743663  ...      0      0      0      0      0      0      0   \n",
       "1  0.411754  0.836582  ...      1      1      1      1      0      1      0   \n",
       "2  0.517720  0.679051  ...      0      0      0      0      0      0      0   \n",
       "3  0.288764  0.805110  ...      0      0      0      0      0      0      0   \n",
       "4  0.303809  0.812646  ...      0      0      0      0      0      0      0   \n",
       "\n",
       "   D1774  D1775  D1776  \n",
       "0      0      0      0  \n",
       "1      0      1      0  \n",
       "2      0      0      0  \n",
       "3      0      0      0  \n",
       "4      0      0      0  \n",
       "\n",
       "[5 rows x 1777 columns]"
      ]
     },
     "execution_count": 2,
     "metadata": {},
     "output_type": "execute_result"
    }
   ],
   "source": [
    "\n",
    "data = pd.read_csv('data/_train_sem09.csv')\n",
    "data.head()"
   ]
  },
  {
   "cell_type": "code",
   "execution_count": 3,
   "metadata": {},
   "outputs": [
    {
     "data": {
      "image/png": "[encoded data removed]",
      "text/plain": [
       "<Figure size 640x480 with 1 Axes>"
      ]
     },
     "metadata": {},
     "output_type": "display_data"
    }
   ],
   "source": [
    "# Проверяем сбалансированность классов\n",
    "sns.countplot(data=data, x='Activity');"
   ]
  },
  {
   "cell_type": "markdown",
   "metadata": {},
   "source": [
    "Данные в выборке сбалансированы, стратифицированное разбиение не требуется."
   ]
  },
  {
   "cell_type": "markdown",
   "metadata": {},
   "source": [
    "#### 2. Подготовка данных"
   ]
  },
  {
   "cell_type": "code",
   "execution_count": 3,
   "metadata": {},
   "outputs": [],
   "source": [
    "X = data.drop(['Activity'], axis=1)\n",
    "y = data['Activity']"
   ]
  },
  {
   "cell_type": "code",
   "execution_count": 4,
   "metadata": {},
   "outputs": [],
   "source": [
    "X_train, X_test, y_train, y_test = train_test_split(X, y, random_state = 42, test_size = 0.2)"
   ]
  },
  {
   "cell_type": "markdown",
   "metadata": {},
   "source": [
    "### 3. Оптимизация гиперпараметров модели.\n",
    "#### 3.1. Логистичекая регрессия"
   ]
  },
  {
   "cell_type": "code",
   "execution_count": 21,
   "metadata": {},
   "outputs": [
    {
     "name": "stdout",
     "output_type": "stream",
     "text": [
      "F1 score на тестовой выборке:0.79\n"
     ]
    },
    {
     "name": "stderr",
     "output_type": "stream",
     "text": [
      "C:\\Users\\Настенька\\AppData\\Local\\Packages\\PythonSoftwareFoundation.Python.3.11_qbz5n2kfra8p0\\LocalCache\\local-packages\\Python311\\site-packages\\sklearn\\linear_model\\_logistic.py:469: ConvergenceWarning: lbfgs failed to converge (status=1):\n",
      "STOP: TOTAL NO. of ITERATIONS REACHED LIMIT.\n",
      "\n",
      "Increase the number of iterations (max_iter) or scale the data as shown in:\n",
      "    https://scikit-learn.org/stable/modules/preprocessing.html\n",
      "Please also refer to the documentation for alternative solver options:\n",
      "    https://scikit-learn.org/stable/modules/linear_model.html#logistic-regression\n",
      "  n_iter_i = _check_optimize_result(\n"
     ]
    }
   ],
   "source": [
    "# Обучаем модель логистической регрессии, делаем предсказание на тестовой выборке, фиксируем значение F1\n",
    "log_reg = linear_model.LogisticRegression(random_state=5, max_iter=50)\n",
    "log_reg.fit(X_train, y_train)\n",
    "y_test_pred = log_reg.predict(X_test)\n",
    "print('F1 score на тестовой выборке:{:.2f}'.format(metrics.f1_score(y_test, y_test_pred)))\n"
   ]
  },
  {
   "cell_type": "code",
   "execution_count": 22,
   "metadata": {},
   "outputs": [
    {
     "name": "stderr",
     "output_type": "stream",
     "text": [
      "C:\\Users\\Настенька\\AppData\\Local\\Packages\\PythonSoftwareFoundation.Python.3.11_qbz5n2kfra8p0\\LocalCache\\local-packages\\Python311\\site-packages\\sklearn\\linear_model\\_logistic.py:469: ConvergenceWarning: lbfgs failed to converge (status=1):\n",
      "STOP: TOTAL NO. of ITERATIONS REACHED LIMIT.\n",
      "\n",
      "Increase the number of iterations (max_iter) or scale the data as shown in:\n",
      "    https://scikit-learn.org/stable/modules/preprocessing.html\n",
      "Please also refer to the documentation for alternative solver options:\n",
      "    https://scikit-learn.org/stable/modules/linear_model.html#logistic-regression\n",
      "  n_iter_i = _check_optimize_result(\n",
      "C:\\Users\\Настенька\\AppData\\Local\\Packages\\PythonSoftwareFoundation.Python.3.11_qbz5n2kfra8p0\\LocalCache\\local-packages\\Python311\\site-packages\\sklearn\\linear_model\\_logistic.py:469: ConvergenceWarning: lbfgs failed to converge (status=1):\n",
      "STOP: TOTAL NO. of ITERATIONS REACHED LIMIT.\n",
      "\n",
      "Increase the number of iterations (max_iter) or scale the data as shown in:\n",
      "    https://scikit-learn.org/stable/modules/preprocessing.html\n",
      "Please also refer to the documentation for alternative solver options:\n",
      "    https://scikit-learn.org/stable/modules/linear_model.html#logistic-regression\n",
      "  n_iter_i = _check_optimize_result(\n",
      "C:\\Users\\Настенька\\AppData\\Local\\Packages\\PythonSoftwareFoundation.Python.3.11_qbz5n2kfra8p0\\LocalCache\\local-packages\\Python311\\site-packages\\sklearn\\linear_model\\_logistic.py:469: ConvergenceWarning: lbfgs failed to converge (status=1):\n",
      "STOP: TOTAL NO. of ITERATIONS REACHED LIMIT.\n",
      "\n",
      "Increase the number of iterations (max_iter) or scale the data as shown in:\n",
      "    https://scikit-learn.org/stable/modules/preprocessing.html\n",
      "Please also refer to the documentation for alternative solver options:\n",
      "    https://scikit-learn.org/stable/modules/linear_model.html#logistic-regression\n",
      "  n_iter_i = _check_optimize_result(\n",
      "C:\\Users\\Настенька\\AppData\\Local\\Packages\\PythonSoftwareFoundation.Python.3.11_qbz5n2kfra8p0\\LocalCache\\local-packages\\Python311\\site-packages\\sklearn\\linear_model\\_logistic.py:469: ConvergenceWarning: lbfgs failed to converge (status=1):\n",
      "STOP: TOTAL NO. of ITERATIONS REACHED LIMIT.\n",
      "\n",
      "Increase the number of iterations (max_iter) or scale the data as shown in:\n",
      "    https://scikit-learn.org/stable/modules/preprocessing.html\n",
      "Please also refer to the documentation for alternative solver options:\n",
      "    https://scikit-learn.org/stable/modules/linear_model.html#logistic-regression\n",
      "  n_iter_i = _check_optimize_result(\n",
      "C:\\Users\\Настенька\\AppData\\Local\\Packages\\PythonSoftwareFoundation.Python.3.11_qbz5n2kfra8p0\\LocalCache\\local-packages\\Python311\\site-packages\\sklearn\\linear_model\\_logistic.py:469: ConvergenceWarning: lbfgs failed to converge (status=1):\n",
      "STOP: TOTAL NO. of ITERATIONS REACHED LIMIT.\n",
      "\n",
      "Increase the number of iterations (max_iter) or scale the data as shown in:\n",
      "    https://scikit-learn.org/stable/modules/preprocessing.html\n",
      "Please also refer to the documentation for alternative solver options:\n",
      "    https://scikit-learn.org/stable/modules/linear_model.html#logistic-regression\n",
      "  n_iter_i = _check_optimize_result(\n",
      "C:\\Users\\Настенька\\AppData\\Local\\Packages\\PythonSoftwareFoundation.Python.3.11_qbz5n2kfra8p0\\LocalCache\\local-packages\\Python311\\site-packages\\sklearn\\linear_model\\_logistic.py:469: ConvergenceWarning: lbfgs failed to converge (status=1):\n",
      "STOP: TOTAL NO. of ITERATIONS REACHED LIMIT.\n",
      "\n",
      "Increase the number of iterations (max_iter) or scale the data as shown in:\n",
      "    https://scikit-learn.org/stable/modules/preprocessing.html\n",
      "Please also refer to the documentation for alternative solver options:\n",
      "    https://scikit-learn.org/stable/modules/linear_model.html#logistic-regression\n",
      "  n_iter_i = _check_optimize_result(\n",
      "C:\\Users\\Настенька\\AppData\\Local\\Packages\\PythonSoftwareFoundation.Python.3.11_qbz5n2kfra8p0\\LocalCache\\local-packages\\Python311\\site-packages\\sklearn\\linear_model\\_logistic.py:469: ConvergenceWarning: lbfgs failed to converge (status=1):\n",
      "STOP: TOTAL NO. of ITERATIONS REACHED LIMIT.\n",
      "\n",
      "Increase the number of iterations (max_iter) or scale the data as shown in:\n",
      "    https://scikit-learn.org/stable/modules/preprocessing.html\n",
      "Please also refer to the documentation for alternative solver options:\n",
      "    https://scikit-learn.org/stable/modules/linear_model.html#logistic-regression\n",
      "  n_iter_i = _check_optimize_result(\n",
      "C:\\Users\\Настенька\\AppData\\Local\\Packages\\PythonSoftwareFoundation.Python.3.11_qbz5n2kfra8p0\\LocalCache\\local-packages\\Python311\\site-packages\\sklearn\\linear_model\\_logistic.py:469: ConvergenceWarning: lbfgs failed to converge (status=1):\n",
      "STOP: TOTAL NO. of ITERATIONS REACHED LIMIT.\n",
      "\n",
      "Increase the number of iterations (max_iter) or scale the data as shown in:\n",
      "    https://scikit-learn.org/stable/modules/preprocessing.html\n",
      "Please also refer to the documentation for alternative solver options:\n",
      "    https://scikit-learn.org/stable/modules/linear_model.html#logistic-regression\n",
      "  n_iter_i = _check_optimize_result(\n",
      "C:\\Users\\Настенька\\AppData\\Local\\Packages\\PythonSoftwareFoundation.Python.3.11_qbz5n2kfra8p0\\LocalCache\\local-packages\\Python311\\site-packages\\sklearn\\linear_model\\_logistic.py:469: ConvergenceWarning: lbfgs failed to converge (status=1):\n",
      "STOP: TOTAL NO. of ITERATIONS REACHED LIMIT.\n",
      "\n",
      "Increase the number of iterations (max_iter) or scale the data as shown in:\n",
      "    https://scikit-learn.org/stable/modules/preprocessing.html\n",
      "Please also refer to the documentation for alternative solver options:\n",
      "    https://scikit-learn.org/stable/modules/linear_model.html#logistic-regression\n",
      "  n_iter_i = _check_optimize_result(\n"
     ]
    },
    {
     "name": "stdout",
     "output_type": "stream",
     "text": [
      "Среднее значение F1 на тестовой выборке:0.78\n"
     ]
    },
    {
     "name": "stderr",
     "output_type": "stream",
     "text": [
      "C:\\Users\\Настенька\\AppData\\Local\\Packages\\PythonSoftwareFoundation.Python.3.11_qbz5n2kfra8p0\\LocalCache\\local-packages\\Python311\\site-packages\\sklearn\\linear_model\\_logistic.py:469: ConvergenceWarning: lbfgs failed to converge (status=1):\n",
      "STOP: TOTAL NO. of ITERATIONS REACHED LIMIT.\n",
      "\n",
      "Increase the number of iterations (max_iter) or scale the data as shown in:\n",
      "    https://scikit-learn.org/stable/modules/preprocessing.html\n",
      "Please also refer to the documentation for alternative solver options:\n",
      "    https://scikit-learn.org/stable/modules/linear_model.html#logistic-regression\n",
      "  n_iter_i = _check_optimize_result(\n"
     ]
    }
   ],
   "source": [
    "# Обучаем модель логистической регрессии с кросс-валидацией, фиксируем значение F1\n",
    "log_reg_cross = linear_model.LogisticRegression(random_state=5, max_iter=50)\n",
    "kf = model_selection.KFold(n_splits = 10)\n",
    "cv_metrics = model_selection.cross_validate(\n",
    "    estimator=log_reg_cross,\n",
    "    X=X,\n",
    "    y=y,\n",
    "    cv=kf,\n",
    "    scoring='f1'\n",
    "    )\n",
    "print('Среднее значение F1 на тестовой выборке:{:.2f}'.format(np.mean(cv_metrics['test_score'])))\n",
    "        "
   ]
  },
  {
   "cell_type": "markdown",
   "metadata": {},
   "source": [
    "Значение f1 на тестовой выборке при использовании кросс-валидации незначительно снизилось."
   ]
  },
  {
   "cell_type": "markdown",
   "metadata": {},
   "source": [
    "#### 3.1.1 GridSearchCV"
   ]
  },
  {
   "cell_type": "code",
   "execution_count": 5,
   "metadata": {},
   "outputs": [],
   "source": [
    "from sklearn.model_selection import GridSearchCV"
   ]
  },
  {
   "cell_type": "code",
   "execution_count": 33,
   "metadata": {},
   "outputs": [
    {
     "name": "stderr",
     "output_type": "stream",
     "text": [
      "C:\\Users\\Настенька\\AppData\\Local\\Packages\\PythonSoftwareFoundation.Python.3.11_qbz5n2kfra8p0\\LocalCache\\local-packages\\Python311\\site-packages\\sklearn\\model_selection\\_validation.py:547: FitFailedWarning: \n",
      "200 fits failed out of a total of 800.\n",
      "The score on these train-test partitions for these parameters will be set to nan.\n",
      "If these failures are not expected, you can try to debug them by setting error_score='raise'.\n",
      "\n",
      "Below are more details about the failures:\n",
      "--------------------------------------------------------------------------------\n",
      "84 fits failed with the following error:\n",
      "Traceback (most recent call last):\n",
      "  File \"C:\\Users\\Настенька\\AppData\\Local\\Packages\\PythonSoftwareFoundation.Python.3.11_qbz5n2kfra8p0\\LocalCache\\local-packages\\Python311\\site-packages\\sklearn\\model_selection\\_validation.py\", line 895, in _fit_and_score\n",
      "    estimator.fit(X_train, y_train, **fit_params)\n",
      "  File \"C:\\Users\\Настенька\\AppData\\Local\\Packages\\PythonSoftwareFoundation.Python.3.11_qbz5n2kfra8p0\\LocalCache\\local-packages\\Python311\\site-packages\\sklearn\\base.py\", line 1467, in wrapper\n",
      "    estimator._validate_params()\n",
      "  File \"C:\\Users\\Настенька\\AppData\\Local\\Packages\\PythonSoftwareFoundation.Python.3.11_qbz5n2kfra8p0\\LocalCache\\local-packages\\Python311\\site-packages\\sklearn\\base.py\", line 666, in _validate_params\n",
      "    validate_parameter_constraints(\n",
      "  File \"C:\\Users\\Настенька\\AppData\\Local\\Packages\\PythonSoftwareFoundation.Python.3.11_qbz5n2kfra8p0\\LocalCache\\local-packages\\Python311\\site-packages\\sklearn\\utils\\_param_validation.py\", line 95, in validate_parameter_constraints\n",
      "    raise InvalidParameterError(\n",
      "sklearn.utils._param_validation.InvalidParameterError: The 'penalty' parameter of LogisticRegression must be a str among {'l1', 'l2', 'elasticnet'} or None. Got 'none' instead.\n",
      "\n",
      "--------------------------------------------------------------------------------\n",
      "66 fits failed with the following error:\n",
      "Traceback (most recent call last):\n",
      "  File \"C:\\Users\\Настенька\\AppData\\Local\\Packages\\PythonSoftwareFoundation.Python.3.11_qbz5n2kfra8p0\\LocalCache\\local-packages\\Python311\\site-packages\\sklearn\\model_selection\\_validation.py\", line 895, in _fit_and_score\n",
      "    estimator.fit(X_train, y_train, **fit_params)\n",
      "  File \"C:\\Users\\Настенька\\AppData\\Local\\Packages\\PythonSoftwareFoundation.Python.3.11_qbz5n2kfra8p0\\LocalCache\\local-packages\\Python311\\site-packages\\sklearn\\base.py\", line 1467, in wrapper\n",
      "    estimator._validate_params()\n",
      "  File \"C:\\Users\\Настенька\\AppData\\Local\\Packages\\PythonSoftwareFoundation.Python.3.11_qbz5n2kfra8p0\\LocalCache\\local-packages\\Python311\\site-packages\\sklearn\\base.py\", line 666, in _validate_params\n",
      "    validate_parameter_constraints(\n",
      "  File \"C:\\Users\\Настенька\\AppData\\Local\\Packages\\PythonSoftwareFoundation.Python.3.11_qbz5n2kfra8p0\\LocalCache\\local-packages\\Python311\\site-packages\\sklearn\\utils\\_param_validation.py\", line 95, in validate_parameter_constraints\n",
      "    raise InvalidParameterError(\n",
      "sklearn.utils._param_validation.InvalidParameterError: The 'penalty' parameter of LogisticRegression must be a str among {'l2', 'l1', 'elasticnet'} or None. Got 'none' instead.\n",
      "\n",
      "--------------------------------------------------------------------------------\n",
      "46 fits failed with the following error:\n",
      "Traceback (most recent call last):\n",
      "  File \"C:\\Users\\Настенька\\AppData\\Local\\Packages\\PythonSoftwareFoundation.Python.3.11_qbz5n2kfra8p0\\LocalCache\\local-packages\\Python311\\site-packages\\sklearn\\model_selection\\_validation.py\", line 895, in _fit_and_score\n",
      "    estimator.fit(X_train, y_train, **fit_params)\n",
      "  File \"C:\\Users\\Настенька\\AppData\\Local\\Packages\\PythonSoftwareFoundation.Python.3.11_qbz5n2kfra8p0\\LocalCache\\local-packages\\Python311\\site-packages\\sklearn\\base.py\", line 1467, in wrapper\n",
      "    estimator._validate_params()\n",
      "  File \"C:\\Users\\Настенька\\AppData\\Local\\Packages\\PythonSoftwareFoundation.Python.3.11_qbz5n2kfra8p0\\LocalCache\\local-packages\\Python311\\site-packages\\sklearn\\base.py\", line 666, in _validate_params\n",
      "    validate_parameter_constraints(\n",
      "  File \"C:\\Users\\Настенька\\AppData\\Local\\Packages\\PythonSoftwareFoundation.Python.3.11_qbz5n2kfra8p0\\LocalCache\\local-packages\\Python311\\site-packages\\sklearn\\utils\\_param_validation.py\", line 95, in validate_parameter_constraints\n",
      "    raise InvalidParameterError(\n",
      "sklearn.utils._param_validation.InvalidParameterError: The 'penalty' parameter of LogisticRegression must be a str among {'elasticnet', 'l2', 'l1'} or None. Got 'none' instead.\n",
      "\n",
      "--------------------------------------------------------------------------------\n",
      "4 fits failed with the following error:\n",
      "Traceback (most recent call last):\n",
      "  File \"C:\\Users\\Настенька\\AppData\\Local\\Packages\\PythonSoftwareFoundation.Python.3.11_qbz5n2kfra8p0\\LocalCache\\local-packages\\Python311\\site-packages\\sklearn\\model_selection\\_validation.py\", line 895, in _fit_and_score\n",
      "    estimator.fit(X_train, y_train, **fit_params)\n",
      "  File \"C:\\Users\\Настенька\\AppData\\Local\\Packages\\PythonSoftwareFoundation.Python.3.11_qbz5n2kfra8p0\\LocalCache\\local-packages\\Python311\\site-packages\\sklearn\\base.py\", line 1467, in wrapper\n",
      "    estimator._validate_params()\n",
      "  File \"C:\\Users\\Настенька\\AppData\\Local\\Packages\\PythonSoftwareFoundation.Python.3.11_qbz5n2kfra8p0\\LocalCache\\local-packages\\Python311\\site-packages\\sklearn\\base.py\", line 666, in _validate_params\n",
      "    validate_parameter_constraints(\n",
      "  File \"C:\\Users\\Настенька\\AppData\\Local\\Packages\\PythonSoftwareFoundation.Python.3.11_qbz5n2kfra8p0\\LocalCache\\local-packages\\Python311\\site-packages\\sklearn\\utils\\_param_validation.py\", line 95, in validate_parameter_constraints\n",
      "    raise InvalidParameterError(\n",
      "sklearn.utils._param_validation.InvalidParameterError: The 'penalty' parameter of LogisticRegression must be a str among {'l1', 'elasticnet', 'l2'} or None. Got 'none' instead.\n",
      "\n",
      "  warnings.warn(some_fits_failed_message, FitFailedWarning)\n",
      "C:\\Users\\Настенька\\AppData\\Local\\Packages\\PythonSoftwareFoundation.Python.3.11_qbz5n2kfra8p0\\LocalCache\\local-packages\\Python311\\site-packages\\sklearn\\model_selection\\_search.py:1051: UserWarning: One or more of the test scores are non-finite: [0.768      0.76733333        nan        nan 0.76233333 0.765\n",
      "        nan        nan 0.76       0.76              nan        nan\n",
      " 0.75533333 0.75866667        nan        nan 0.75466667 0.75766667\n",
      "        nan        nan 0.75466667 0.75733333        nan        nan\n",
      " 0.75366667 0.75666667        nan        nan 0.75266667 0.756\n",
      "        nan        nan 0.75633333 0.756             nan        nan\n",
      " 0.75333333 0.75566667        nan        nan 0.76833333 0.76866667\n",
      " 0.75433333 0.756      0.76533333 0.76533333 0.757      0.755\n",
      " 0.76       0.76233333 0.762      0.76266667 0.75966667 0.76033333\n",
      " 0.76233333 0.763      0.758      0.75933333 0.762      0.76333333\n",
      " 0.75433333 0.758      0.76266667 0.76333333 0.75466667 0.758\n",
      " 0.76533333 0.764      0.754      0.75666667 0.76366667 0.763\n",
      " 0.75366667 0.75666667 0.764      0.76466667 0.75366667 0.757\n",
      " 0.763      0.765     ]\n",
      "  warnings.warn(\n"
     ]
    },
    {
     "name": "stdout",
     "output_type": "stream",
     "text": [
      "F1 на тестовом наборе:0.79\n",
      "Наилучшие значения гиперпараметров: {'C': 0.1, 'penalty': 'l2', 'solver': 'saga'}\n"
     ]
    },
    {
     "name": "stderr",
     "output_type": "stream",
     "text": [
      "C:\\Users\\Настенька\\AppData\\Local\\Packages\\PythonSoftwareFoundation.Python.3.11_qbz5n2kfra8p0\\LocalCache\\local-packages\\Python311\\site-packages\\sklearn\\linear_model\\_sag.py:350: ConvergenceWarning: The max_iter was reached which means the coef_ did not converge\n",
      "  warnings.warn(\n"
     ]
    }
   ],
   "source": [
    "# создаем список гиперпараметров\n",
    "param_grid = [{'penalty':['l2', 'none'],\n",
    "              'solver': ['lbfgs', 'sag'],\n",
    "              'C': list(np.linspace(0.1, 1, 10, dtype=float))},\n",
    "              {'penalty':['l2', 'l1'],\n",
    "              'solver': ['liblinear', 'saga'],\n",
    "              'C': list(np.linspace(0.1, 1, 10, dtype=float))}\n",
    "]\n",
    "# Обучаем модель логистической регрессии с GridSearch, делаем предсказание, фиксируем значение F1 и наилучшие значения гиперпараметров\n",
    "grid_search = GridSearchCV(\n",
    "    estimator=linear_model.LogisticRegression(\n",
    "        random_state=5,\n",
    "        max_iter=50    \n",
    "    ),\n",
    "    param_grid=param_grid,\n",
    "    cv=10,\n",
    "    n_jobs=-1\n",
    ")\n",
    "grid_search.fit(X_train, y_train)\n",
    "y_test_pred_grid = grid_search.predict(X_test)\n",
    "print('F1 на тестовом наборе:{:.2f}'.format(metrics.f1_score(y_test, y_test_pred_grid)))\n",
    "print(\"Наилучшие значения гиперпараметров: {}\".format(grid_search.best_params_))"
   ]
  },
  {
   "cell_type": "markdown",
   "metadata": {},
   "source": [
    "Значение метрики f1 не изменилось."
   ]
  },
  {
   "cell_type": "markdown",
   "metadata": {},
   "source": [
    "### 3.1.2 RandomizedSearchCV"
   ]
  },
  {
   "cell_type": "code",
   "execution_count": 6,
   "metadata": {},
   "outputs": [],
   "source": [
    "from sklearn.model_selection import RandomizedSearchCV"
   ]
  },
  {
   "cell_type": "code",
   "execution_count": 36,
   "metadata": {},
   "outputs": [
    {
     "name": "stdout",
     "output_type": "stream",
     "text": [
      "F1 на тестовом наборе:0.80\n",
      "Наилучшие значения гиперпараметров: {'solver': 'saga', 'penalty': 'l1', 'C': 0.45}\n"
     ]
    },
    {
     "name": "stderr",
     "output_type": "stream",
     "text": [
      "C:\\Users\\Настенька\\AppData\\Local\\Packages\\PythonSoftwareFoundation.Python.3.11_qbz5n2kfra8p0\\LocalCache\\local-packages\\Python311\\site-packages\\sklearn\\linear_model\\_sag.py:350: ConvergenceWarning: The max_iter was reached which means the coef_ did not converge\n",
      "  warnings.warn(\n"
     ]
    }
   ],
   "source": [
    "# создаем список гиперпараметров\n",
    "param_random = {'penalty':['l2', 'l1'],\n",
    "              'solver': ['liblinear', 'saga'],\n",
    "               'C': list(np.linspace(0.01, 1, 10, dtype=float))\n",
    "               }\n",
    "# Обучаем модель логистической регрессии с RandomizedSearch, делаем предсказание, фиксируем значение F1 и наилучшие значения гиперпараметров\n",
    "random_search = RandomizedSearchCV(\n",
    "    estimator=linear_model.LogisticRegression(\n",
    "        random_state=5,\n",
    "        max_iter=50\n",
    "    ),\n",
    "    param_distributions=param_random,\n",
    "    cv=10,\n",
    "    n_iter=5,\n",
    "    n_jobs=-1\n",
    ")\n",
    "random_search.fit(X_train, y_train)\n",
    "y_test_pred_random = random_search.predict(X_test)\n",
    "print('F1 на тестовом наборе:{:.2f}'.format(metrics.f1_score(y_test, y_test_pred_random)))\n",
    "print(\"Наилучшие значения гиперпараметров: {}\".format(random_search.best_params_))"
   ]
  },
  {
   "cell_type": "markdown",
   "metadata": {},
   "source": [
    "Значение метрики f1 выросло."
   ]
  },
  {
   "cell_type": "markdown",
   "metadata": {},
   "source": [
    "### 3.1.3 Hyperopt"
   ]
  },
  {
   "cell_type": "code",
   "execution_count": 7,
   "metadata": {},
   "outputs": [],
   "source": [
    "from sklearn.model_selection import cross_val_score\n",
    "import hyperopt\n",
    "from hyperopt import hp, fmin, tpe, Trials, space_eval"
   ]
  },
  {
   "cell_type": "code",
   "execution_count": 41,
   "metadata": {},
   "outputs": [],
   "source": [
    "# задаем пространство поиска гиперпараметров\n",
    "space = {'penalty':hp.choice('penalty', ['l2', 'l1']),\n",
    "         'solver':hp.choice('solver', ['liblinear', 'saga']),\n",
    "         'C':hp.uniform('C', 0.1, 1)\n",
    "         }"
   ]
  },
  {
   "cell_type": "code",
   "execution_count": 73,
   "metadata": {},
   "outputs": [],
   "source": [
    "# зафксируем random_state\n",
    "random_state = 5\n",
    "\n",
    "def hyperopt_lr(params, cv=10, X=X_train, y=y_train, random_state=random_state):\n",
    "   \"\"\" Функция, обучающая модель LogisticRegression\n",
    "    по переданным гиперпараметрам\n",
    "    \n",
    "  Args:\n",
    "      params: комбинация гиперпараметров, \n",
    "      cv: количество фолдов кросс-валидации, \n",
    "      X: матрица наблюдений, \n",
    "      y: вектор меток объектов, \n",
    "      random_state: случайное число для воспроизводимости\n",
    "\n",
    "  Returns:\n",
    "      -score: минимизированная метрика f1\n",
    "      \"\"\"\n",
    "    \n",
    "   params = {'penalty': str(params['penalty']), \n",
    "              'solver': str(params['solver']), \n",
    "             'C': float(params['C'])\n",
    "              }\n",
    "   model = linear_model.LogisticRegression(**params, random_state=random_state)\n",
    "   model.fit(X, y)\n",
    "   score = cross_val_score(model, X, y, cv=cv, scoring=\"f1\", n_jobs=-1).mean()\n",
    "   return -score"
   ]
  },
  {
   "cell_type": "code",
   "execution_count": 74,
   "metadata": {},
   "outputs": [
    {
     "name": "stderr",
     "output_type": "stream",
     "text": [
      "TPE is being used as the default algorithm.\n"
     ]
    },
    {
     "name": "stdout",
     "output_type": "stream",
     "text": [
      "  0%|          | 0/50 [00:00<?, ?trial/s, best loss=?]"
     ]
    },
    {
     "name": "stderr",
     "output_type": "stream",
     "text": [
      "C:\\Users\\Настенька\\AppData\\Local\\Packages\\PythonSoftwareFoundation.Python.3.11_qbz5n2kfra8p0\\LocalCache\\local-packages\\Python311\\site-packages\\sklearn\\linear_model\\_sag.py:350: ConvergenceWarning: The max_iter was reached which means the coef_ did not converge\n",
      "  warnings.warn(\n",
      "\n"
     ]
    },
    {
     "name": "stdout",
     "output_type": "stream",
     "text": [
      "  6%|▌         | 3/50 [00:30<06:07,  7.81s/trial, best loss: -0.7875640708986744]"
     ]
    },
    {
     "name": "stderr",
     "output_type": "stream",
     "text": [
      "C:\\Users\\Настенька\\AppData\\Local\\Packages\\PythonSoftwareFoundation.Python.3.11_qbz5n2kfra8p0\\LocalCache\\local-packages\\Python311\\site-packages\\sklearn\\linear_model\\_sag.py:350: ConvergenceWarning: The max_iter was reached which means the coef_ did not converge\n",
      "  warnings.warn(\n",
      "\n"
     ]
    },
    {
     "name": "stdout",
     "output_type": "stream",
     "text": [
      " 16%|█▌        | 8/50 [01:02<03:42,  5.29s/trial, best loss: -0.7875640708986744]"
     ]
    },
    {
     "name": "stderr",
     "output_type": "stream",
     "text": [
      "C:\\Users\\Настенька\\AppData\\Local\\Packages\\PythonSoftwareFoundation.Python.3.11_qbz5n2kfra8p0\\LocalCache\\local-packages\\Python311\\site-packages\\sklearn\\linear_model\\_sag.py:350: ConvergenceWarning: The max_iter was reached which means the coef_ did not converge\n",
      "  warnings.warn(\n",
      "\n"
     ]
    },
    {
     "name": "stdout",
     "output_type": "stream",
     "text": [
      " 20%|██        | 10/50 [01:23<04:54,  7.35s/trial, best loss: -0.7875640708986744]"
     ]
    },
    {
     "name": "stderr",
     "output_type": "stream",
     "text": [
      "C:\\Users\\Настенька\\AppData\\Local\\Packages\\PythonSoftwareFoundation.Python.3.11_qbz5n2kfra8p0\\LocalCache\\local-packages\\Python311\\site-packages\\sklearn\\linear_model\\_sag.py:350: ConvergenceWarning: The max_iter was reached which means the coef_ did not converge\n",
      "  warnings.warn(\n",
      "\n"
     ]
    },
    {
     "name": "stdout",
     "output_type": "stream",
     "text": [
      " 22%|██▏       | 11/50 [01:46<07:50, 12.07s/trial, best loss: -0.7875640708986744]"
     ]
    },
    {
     "name": "stderr",
     "output_type": "stream",
     "text": [
      "C:\\Users\\Настенька\\AppData\\Local\\Packages\\PythonSoftwareFoundation.Python.3.11_qbz5n2kfra8p0\\LocalCache\\local-packages\\Python311\\site-packages\\sklearn\\linear_model\\_sag.py:350: ConvergenceWarning: The max_iter was reached which means the coef_ did not converge\n",
      "  warnings.warn(\n",
      "\n"
     ]
    },
    {
     "name": "stdout",
     "output_type": "stream",
     "text": [
      " 24%|██▍       | 12/50 [02:12<10:24, 16.43s/trial, best loss: -0.7875640708986744]"
     ]
    },
    {
     "name": "stderr",
     "output_type": "stream",
     "text": [
      "C:\\Users\\Настенька\\AppData\\Local\\Packages\\PythonSoftwareFoundation.Python.3.11_qbz5n2kfra8p0\\LocalCache\\local-packages\\Python311\\site-packages\\sklearn\\linear_model\\_sag.py:350: ConvergenceWarning: The max_iter was reached which means the coef_ did not converge\n",
      "  warnings.warn(\n",
      "\n"
     ]
    },
    {
     "name": "stdout",
     "output_type": "stream",
     "text": [
      " 32%|███▏      | 16/50 [02:42<04:44,  8.38s/trial, best loss: -0.7875640708986744]"
     ]
    },
    {
     "name": "stderr",
     "output_type": "stream",
     "text": [
      "C:\\Users\\Настенька\\AppData\\Local\\Packages\\PythonSoftwareFoundation.Python.3.11_qbz5n2kfra8p0\\LocalCache\\local-packages\\Python311\\site-packages\\sklearn\\linear_model\\_sag.py:350: ConvergenceWarning: The max_iter was reached which means the coef_ did not converge\n",
      "  warnings.warn(\n",
      "\n"
     ]
    },
    {
     "name": "stdout",
     "output_type": "stream",
     "text": [
      " 40%|████      | 20/50 [03:10<03:06,  6.22s/trial, best loss: -0.7875640708986744]"
     ]
    },
    {
     "name": "stderr",
     "output_type": "stream",
     "text": [
      "C:\\Users\\Настенька\\AppData\\Local\\Packages\\PythonSoftwareFoundation.Python.3.11_qbz5n2kfra8p0\\LocalCache\\local-packages\\Python311\\site-packages\\sklearn\\linear_model\\_sag.py:350: ConvergenceWarning: The max_iter was reached which means the coef_ did not converge\n",
      "  warnings.warn(\n",
      "\n"
     ]
    },
    {
     "name": "stdout",
     "output_type": "stream",
     "text": [
      " 42%|████▏     | 21/50 [03:28<04:43,  9.78s/trial, best loss: -0.7875640708986744]"
     ]
    },
    {
     "name": "stderr",
     "output_type": "stream",
     "text": [
      "C:\\Users\\Настенька\\AppData\\Local\\Packages\\PythonSoftwareFoundation.Python.3.11_qbz5n2kfra8p0\\LocalCache\\local-packages\\Python311\\site-packages\\sklearn\\linear_model\\_sag.py:350: ConvergenceWarning: The max_iter was reached which means the coef_ did not converge\n",
      "  warnings.warn(\n",
      "\n"
     ]
    },
    {
     "name": "stdout",
     "output_type": "stream",
     "text": [
      " 44%|████▍     | 22/50 [03:51<06:23, 13.70s/trial, best loss: -0.7875640708986744]"
     ]
    },
    {
     "name": "stderr",
     "output_type": "stream",
     "text": [
      "C:\\Users\\Настенька\\AppData\\Local\\Packages\\PythonSoftwareFoundation.Python.3.11_qbz5n2kfra8p0\\LocalCache\\local-packages\\Python311\\site-packages\\sklearn\\linear_model\\_sag.py:350: ConvergenceWarning: The max_iter was reached which means the coef_ did not converge\n",
      "  warnings.warn(\n",
      "\n"
     ]
    },
    {
     "name": "stdout",
     "output_type": "stream",
     "text": [
      " 46%|████▌     | 23/50 [04:17<07:44, 17.22s/trial, best loss: -0.7875640708986744]"
     ]
    },
    {
     "name": "stderr",
     "output_type": "stream",
     "text": [
      "C:\\Users\\Настенька\\AppData\\Local\\Packages\\PythonSoftwareFoundation.Python.3.11_qbz5n2kfra8p0\\LocalCache\\local-packages\\Python311\\site-packages\\sklearn\\linear_model\\_sag.py:350: ConvergenceWarning: The max_iter was reached which means the coef_ did not converge\n",
      "  warnings.warn(\n",
      "\n"
     ]
    },
    {
     "name": "stdout",
     "output_type": "stream",
     "text": [
      " 48%|████▊     | 24/50 [04:35<07:33, 17.45s/trial, best loss: -0.7875640708986744]"
     ]
    },
    {
     "name": "stderr",
     "output_type": "stream",
     "text": [
      "C:\\Users\\Настенька\\AppData\\Local\\Packages\\PythonSoftwareFoundation.Python.3.11_qbz5n2kfra8p0\\LocalCache\\local-packages\\Python311\\site-packages\\sklearn\\linear_model\\_sag.py:350: ConvergenceWarning: The max_iter was reached which means the coef_ did not converge\n",
      "  warnings.warn(\n",
      "\n"
     ]
    },
    {
     "name": "stdout",
     "output_type": "stream",
     "text": [
      " 50%|█████     | 25/50 [04:53<07:20, 17.61s/trial, best loss: -0.7875640708986744]"
     ]
    },
    {
     "name": "stderr",
     "output_type": "stream",
     "text": [
      "C:\\Users\\Настенька\\AppData\\Local\\Packages\\PythonSoftwareFoundation.Python.3.11_qbz5n2kfra8p0\\LocalCache\\local-packages\\Python311\\site-packages\\sklearn\\linear_model\\_sag.py:350: ConvergenceWarning: The max_iter was reached which means the coef_ did not converge\n",
      "  warnings.warn(\n",
      "\n"
     ]
    },
    {
     "name": "stdout",
     "output_type": "stream",
     "text": [
      " 52%|█████▏    | 26/50 [05:16<07:43, 19.32s/trial, best loss: -0.7875640708986744]"
     ]
    },
    {
     "name": "stderr",
     "output_type": "stream",
     "text": [
      "C:\\Users\\Настенька\\AppData\\Local\\Packages\\PythonSoftwareFoundation.Python.3.11_qbz5n2kfra8p0\\LocalCache\\local-packages\\Python311\\site-packages\\sklearn\\linear_model\\_sag.py:350: ConvergenceWarning: The max_iter was reached which means the coef_ did not converge\n",
      "  warnings.warn(\n",
      "\n"
     ]
    },
    {
     "name": "stdout",
     "output_type": "stream",
     "text": [
      " 54%|█████▍    | 27/50 [05:41<08:02, 20.98s/trial, best loss: -0.7875640708986744]"
     ]
    },
    {
     "name": "stderr",
     "output_type": "stream",
     "text": [
      "C:\\Users\\Настенька\\AppData\\Local\\Packages\\PythonSoftwareFoundation.Python.3.11_qbz5n2kfra8p0\\LocalCache\\local-packages\\Python311\\site-packages\\sklearn\\linear_model\\_sag.py:350: ConvergenceWarning: The max_iter was reached which means the coef_ did not converge\n",
      "  warnings.warn(\n",
      "\n"
     ]
    },
    {
     "name": "stdout",
     "output_type": "stream",
     "text": [
      " 56%|█████▌    | 28/50 [05:59<07:21, 20.06s/trial, best loss: -0.7875640708986744]"
     ]
    },
    {
     "name": "stderr",
     "output_type": "stream",
     "text": [
      "C:\\Users\\Настенька\\AppData\\Local\\Packages\\PythonSoftwareFoundation.Python.3.11_qbz5n2kfra8p0\\LocalCache\\local-packages\\Python311\\site-packages\\sklearn\\linear_model\\_sag.py:350: ConvergenceWarning: The max_iter was reached which means the coef_ did not converge\n",
      "  warnings.warn(\n",
      "\n"
     ]
    },
    {
     "name": "stdout",
     "output_type": "stream",
     "text": [
      " 58%|█████▊    | 29/50 [06:22<07:20, 20.99s/trial, best loss: -0.7875640708986744]"
     ]
    },
    {
     "name": "stderr",
     "output_type": "stream",
     "text": [
      "C:\\Users\\Настенька\\AppData\\Local\\Packages\\PythonSoftwareFoundation.Python.3.11_qbz5n2kfra8p0\\LocalCache\\local-packages\\Python311\\site-packages\\sklearn\\linear_model\\_sag.py:350: ConvergenceWarning: The max_iter was reached which means the coef_ did not converge\n",
      "  warnings.warn(\n",
      "\n"
     ]
    },
    {
     "name": "stdout",
     "output_type": "stream",
     "text": [
      " 60%|██████    | 30/50 [06:40<06:41, 20.09s/trial, best loss: -0.7875640708986744]"
     ]
    },
    {
     "name": "stderr",
     "output_type": "stream",
     "text": [
      "C:\\Users\\Настенька\\AppData\\Local\\Packages\\PythonSoftwareFoundation.Python.3.11_qbz5n2kfra8p0\\LocalCache\\local-packages\\Python311\\site-packages\\sklearn\\linear_model\\_sag.py:350: ConvergenceWarning: The max_iter was reached which means the coef_ did not converge\n",
      "  warnings.warn(\n",
      "\n"
     ]
    },
    {
     "name": "stdout",
     "output_type": "stream",
     "text": [
      " 62%|██████▏   | 31/50 [07:05<06:49, 21.54s/trial, best loss: -0.7875640708986744]"
     ]
    },
    {
     "name": "stderr",
     "output_type": "stream",
     "text": [
      "C:\\Users\\Настенька\\AppData\\Local\\Packages\\PythonSoftwareFoundation.Python.3.11_qbz5n2kfra8p0\\LocalCache\\local-packages\\Python311\\site-packages\\sklearn\\linear_model\\_sag.py:350: ConvergenceWarning: The max_iter was reached which means the coef_ did not converge\n",
      "  warnings.warn(\n",
      "\n"
     ]
    },
    {
     "name": "stdout",
     "output_type": "stream",
     "text": [
      " 64%|██████▍   | 32/50 [07:23<06:09, 20.54s/trial, best loss: -0.7875640708986744]"
     ]
    },
    {
     "name": "stderr",
     "output_type": "stream",
     "text": [
      "C:\\Users\\Настенька\\AppData\\Local\\Packages\\PythonSoftwareFoundation.Python.3.11_qbz5n2kfra8p0\\LocalCache\\local-packages\\Python311\\site-packages\\sklearn\\linear_model\\_sag.py:350: ConvergenceWarning: The max_iter was reached which means the coef_ did not converge\n",
      "  warnings.warn(\n",
      "\n"
     ]
    },
    {
     "name": "stdout",
     "output_type": "stream",
     "text": [
      " 66%|██████▌   | 33/50 [07:46<06:01, 21.27s/trial, best loss: -0.7875640708986744]"
     ]
    },
    {
     "name": "stderr",
     "output_type": "stream",
     "text": [
      "C:\\Users\\Настенька\\AppData\\Local\\Packages\\PythonSoftwareFoundation.Python.3.11_qbz5n2kfra8p0\\LocalCache\\local-packages\\Python311\\site-packages\\sklearn\\linear_model\\_sag.py:350: ConvergenceWarning: The max_iter was reached which means the coef_ did not converge\n",
      "  warnings.warn(\n",
      "\n"
     ]
    },
    {
     "name": "stdout",
     "output_type": "stream",
     "text": [
      " 68%|██████▊   | 34/50 [08:04<05:25, 20.32s/trial, best loss: -0.7875640708986744]"
     ]
    },
    {
     "name": "stderr",
     "output_type": "stream",
     "text": [
      "C:\\Users\\Настенька\\AppData\\Local\\Packages\\PythonSoftwareFoundation.Python.3.11_qbz5n2kfra8p0\\LocalCache\\local-packages\\Python311\\site-packages\\sklearn\\linear_model\\_sag.py:350: ConvergenceWarning: The max_iter was reached which means the coef_ did not converge\n",
      "  warnings.warn(\n",
      "\n"
     ]
    },
    {
     "name": "stdout",
     "output_type": "stream",
     "text": [
      " 70%|███████   | 35/50 [08:22<04:53, 19.60s/trial, best loss: -0.7875640708986744]"
     ]
    },
    {
     "name": "stderr",
     "output_type": "stream",
     "text": [
      "C:\\Users\\Настенька\\AppData\\Local\\Packages\\PythonSoftwareFoundation.Python.3.11_qbz5n2kfra8p0\\LocalCache\\local-packages\\Python311\\site-packages\\sklearn\\linear_model\\_sag.py:350: ConvergenceWarning: The max_iter was reached which means the coef_ did not converge\n",
      "  warnings.warn(\n",
      "\n"
     ]
    },
    {
     "name": "stdout",
     "output_type": "stream",
     "text": [
      " 72%|███████▏  | 36/50 [08:47<04:56, 21.16s/trial, best loss: -0.7875640708986744]"
     ]
    },
    {
     "name": "stderr",
     "output_type": "stream",
     "text": [
      "C:\\Users\\Настенька\\AppData\\Local\\Packages\\PythonSoftwareFoundation.Python.3.11_qbz5n2kfra8p0\\LocalCache\\local-packages\\Python311\\site-packages\\sklearn\\linear_model\\_sag.py:350: ConvergenceWarning: The max_iter was reached which means the coef_ did not converge\n",
      "  warnings.warn(\n",
      "\n"
     ]
    },
    {
     "name": "stdout",
     "output_type": "stream",
     "text": [
      " 74%|███████▍  | 37/50 [09:05<04:22, 20.18s/trial, best loss: -0.7875640708986744]"
     ]
    },
    {
     "name": "stderr",
     "output_type": "stream",
     "text": [
      "C:\\Users\\Настенька\\AppData\\Local\\Packages\\PythonSoftwareFoundation.Python.3.11_qbz5n2kfra8p0\\LocalCache\\local-packages\\Python311\\site-packages\\sklearn\\linear_model\\_sag.py:350: ConvergenceWarning: The max_iter was reached which means the coef_ did not converge\n",
      "  warnings.warn(\n",
      "\n"
     ]
    },
    {
     "name": "stdout",
     "output_type": "stream",
     "text": [
      " 76%|███████▌  | 38/50 [09:23<03:54, 19.52s/trial, best loss: -0.7875640708986744]"
     ]
    },
    {
     "name": "stderr",
     "output_type": "stream",
     "text": [
      "C:\\Users\\Настенька\\AppData\\Local\\Packages\\PythonSoftwareFoundation.Python.3.11_qbz5n2kfra8p0\\LocalCache\\local-packages\\Python311\\site-packages\\sklearn\\linear_model\\_sag.py:350: ConvergenceWarning: The max_iter was reached which means the coef_ did not converge\n",
      "  warnings.warn(\n",
      "\n"
     ]
    },
    {
     "name": "stdout",
     "output_type": "stream",
     "text": [
      " 78%|███████▊  | 39/50 [09:45<03:45, 20.46s/trial, best loss: -0.7875640708986744]"
     ]
    },
    {
     "name": "stderr",
     "output_type": "stream",
     "text": [
      "C:\\Users\\Настенька\\AppData\\Local\\Packages\\PythonSoftwareFoundation.Python.3.11_qbz5n2kfra8p0\\LocalCache\\local-packages\\Python311\\site-packages\\sklearn\\linear_model\\_sag.py:350: ConvergenceWarning: The max_iter was reached which means the coef_ did not converge\n",
      "  warnings.warn(\n",
      "\n"
     ]
    },
    {
     "name": "stdout",
     "output_type": "stream",
     "text": [
      " 80%|████████  | 40/50 [10:03<03:16, 19.66s/trial, best loss: -0.7875640708986744]"
     ]
    },
    {
     "name": "stderr",
     "output_type": "stream",
     "text": [
      "C:\\Users\\Настенька\\AppData\\Local\\Packages\\PythonSoftwareFoundation.Python.3.11_qbz5n2kfra8p0\\LocalCache\\local-packages\\Python311\\site-packages\\sklearn\\linear_model\\_sag.py:350: ConvergenceWarning: The max_iter was reached which means the coef_ did not converge\n",
      "  warnings.warn(\n",
      "\n"
     ]
    },
    {
     "name": "stdout",
     "output_type": "stream",
     "text": [
      " 82%|████████▏ | 41/50 [10:21<02:52, 19.21s/trial, best loss: -0.7875640708986744]"
     ]
    },
    {
     "name": "stderr",
     "output_type": "stream",
     "text": [
      "C:\\Users\\Настенька\\AppData\\Local\\Packages\\PythonSoftwareFoundation.Python.3.11_qbz5n2kfra8p0\\LocalCache\\local-packages\\Python311\\site-packages\\sklearn\\linear_model\\_sag.py:350: ConvergenceWarning: The max_iter was reached which means the coef_ did not converge\n",
      "  warnings.warn(\n",
      "\n"
     ]
    },
    {
     "name": "stdout",
     "output_type": "stream",
     "text": [
      " 84%|████████▍ | 42/50 [10:48<02:52, 21.61s/trial, best loss: -0.7875640708986744]"
     ]
    },
    {
     "name": "stderr",
     "output_type": "stream",
     "text": [
      "C:\\Users\\Настенька\\AppData\\Local\\Packages\\PythonSoftwareFoundation.Python.3.11_qbz5n2kfra8p0\\LocalCache\\local-packages\\Python311\\site-packages\\sklearn\\linear_model\\_sag.py:350: ConvergenceWarning: The max_iter was reached which means the coef_ did not converge\n",
      "  warnings.warn(\n",
      "\n"
     ]
    },
    {
     "name": "stdout",
     "output_type": "stream",
     "text": [
      " 88%|████████▊ | 44/50 [11:11<01:33, 15.64s/trial, best loss: -0.7875640708986744]"
     ]
    },
    {
     "name": "stderr",
     "output_type": "stream",
     "text": [
      "C:\\Users\\Настенька\\AppData\\Local\\Packages\\PythonSoftwareFoundation.Python.3.11_qbz5n2kfra8p0\\LocalCache\\local-packages\\Python311\\site-packages\\sklearn\\linear_model\\_sag.py:350: ConvergenceWarning: The max_iter was reached which means the coef_ did not converge\n",
      "  warnings.warn(\n",
      "\n"
     ]
    },
    {
     "name": "stdout",
     "output_type": "stream",
     "text": [
      " 92%|█████████▏| 46/50 [11:30<00:47, 11.95s/trial, best loss: -0.7879700695936037]"
     ]
    },
    {
     "name": "stderr",
     "output_type": "stream",
     "text": [
      "C:\\Users\\Настенька\\AppData\\Local\\Packages\\PythonSoftwareFoundation.Python.3.11_qbz5n2kfra8p0\\LocalCache\\local-packages\\Python311\\site-packages\\sklearn\\linear_model\\_sag.py:350: ConvergenceWarning: The max_iter was reached which means the coef_ did not converge\n",
      "  warnings.warn(\n",
      "\n"
     ]
    },
    {
     "name": "stdout",
     "output_type": "stream",
     "text": [
      " 94%|█████████▍| 47/50 [11:54<00:46, 15.60s/trial, best loss: -0.7879700695936037]"
     ]
    },
    {
     "name": "stderr",
     "output_type": "stream",
     "text": [
      "C:\\Users\\Настенька\\AppData\\Local\\Packages\\PythonSoftwareFoundation.Python.3.11_qbz5n2kfra8p0\\LocalCache\\local-packages\\Python311\\site-packages\\sklearn\\linear_model\\_sag.py:350: ConvergenceWarning: The max_iter was reached which means the coef_ did not converge\n",
      "  warnings.warn(\n",
      "\n"
     ]
    },
    {
     "name": "stdout",
     "output_type": "stream",
     "text": [
      " 98%|█████████▊| 49/50 [12:16<00:12, 12.38s/trial, best loss: -0.7879700695936037]"
     ]
    },
    {
     "name": "stderr",
     "output_type": "stream",
     "text": [
      "C:\\Users\\Настенька\\AppData\\Local\\Packages\\PythonSoftwareFoundation.Python.3.11_qbz5n2kfra8p0\\LocalCache\\local-packages\\Python311\\site-packages\\sklearn\\linear_model\\_sag.py:350: ConvergenceWarning: The max_iter was reached which means the coef_ did not converge\n",
      "  warnings.warn(\n",
      "\n"
     ]
    },
    {
     "name": "stdout",
     "output_type": "stream",
     "text": [
      "100%|██████████| 50/50 [12:34<00:00, 15.08s/trial, best loss: -0.7879700695936037]\n",
      "Наилучшие значения гиперпараметров {'C': 0.10059073210640976, 'penalty': 'l2', 'solver': 'saga'}\n"
     ]
    }
   ],
   "source": [
    "# подбор гиперпараметров\n",
    "best = fmin(hyperopt_lr,\n",
    "            space=space,\n",
    "            max_evals=50,\n",
    "            rstate=np.random.default_rng(random_state))\n",
    "print('Наилучшие значения гиперпараметров {}'.format(space_eval(space, best)))"
   ]
  },
  {
   "cell_type": "code",
   "execution_count": 75,
   "metadata": {},
   "outputs": [
    {
     "name": "stderr",
     "output_type": "stream",
     "text": [
      "C:\\Users\\Настенька\\AppData\\Local\\Packages\\PythonSoftwareFoundation.Python.3.11_qbz5n2kfra8p0\\LocalCache\\local-packages\\Python311\\site-packages\\sklearn\\linear_model\\_sag.py:350: ConvergenceWarning: The max_iter was reached which means the coef_ did not converge\n",
      "  warnings.warn(\n"
     ]
    },
    {
     "name": "stdout",
     "output_type": "stream",
     "text": [
      "f1_score на тестовом наборе: 0.79\n"
     ]
    }
   ],
   "source": [
    "# обучаем модель с подобранными гиперпараметрами, делаем предсказание\n",
    "model_ho = linear_model.LogisticRegression(\n",
    "    penalty=space_eval(space, best)['penalty'],\n",
    "    solver=space_eval(space, best)['solver'],\n",
    "    C = float(best['C']),\n",
    "    random_state=random_state,\n",
    "    max_iter=50\n",
    ")\n",
    "model_ho.fit(X_train, y_train)\n",
    "y_test_pred_ho = cross_val_score(model_ho, X, y, cv=10, scoring=\"f1\", n_jobs=-1).mean()\n",
    "print('f1_score на тестовом наборе: {:.2f}'.format(y_test_pred_ho))"
   ]
  },
  {
   "cell_type": "markdown",
   "metadata": {},
   "source": [
    "Значение метрики f1 не изменилось."
   ]
  },
  {
   "cell_type": "markdown",
   "metadata": {},
   "source": [
    "### 3.1.4 Optuna"
   ]
  },
  {
   "cell_type": "code",
   "execution_count": 8,
   "metadata": {},
   "outputs": [],
   "source": [
    "import optuna"
   ]
  },
  {
   "cell_type": "code",
   "execution_count": 65,
   "metadata": {},
   "outputs": [],
   "source": [
    "def optuna_lr(trial):\n",
    "  \n",
    "  \"\"\"Функция, обучающая модель LogisticRegression\n",
    "    по переданным гиперпараметрам\n",
    "\n",
    "  Args:\n",
    "      trial : класс, от которого вызываются гиперпараметры\n",
    "\n",
    "  Returns:\n",
    "      score(float): метрика F1\n",
    "      \"\"\"\n",
    "      \n",
    "  penalty = trial.suggest_categorical('penalty', ['l2', 'l1'])\n",
    "  solver = trial.suggest_categorical('solver', ['liblinear', 'saga'])\n",
    "  C = trial.suggest_float('C', 0.1, 1)\n",
    "\n",
    "  # создаем модель\n",
    "  model = linear_model.LogisticRegression(penalty=penalty,\n",
    "                                          solver=solver,\n",
    "                                          C=C,\n",
    "                                          random_state=random_state,\n",
    "                                          max_iter=50)\n",
    "  # обучаем модель\n",
    "  score = cross_val_score(model, X, y, cv=10, scoring=\"f1\", n_jobs=-1).mean()\n",
    "  \n",
    "  return score"
   ]
  },
  {
   "cell_type": "code",
   "execution_count": 66,
   "metadata": {},
   "outputs": [
    {
     "name": "stderr",
     "output_type": "stream",
     "text": [
      "[I 2024-05-14 19:09:09,229] A new study created in memory with name: LogisticRegression\n",
      "[I 2024-05-14 19:09:27,989] Trial 0 finished with value: 0.7851069024425358 and parameters: {'penalty': 'l2', 'solver': 'saga', 'C': 0.2767756794107626}. Best is trial 0 with value: 0.7851069024425358.\n",
      "[I 2024-05-14 19:09:30,332] Trial 1 finished with value: 0.7870176393091557 and parameters: {'penalty': 'l1', 'solver': 'liblinear', 'C': 0.2410888121099819}. Best is trial 1 with value: 0.7870176393091557.\n",
      "[I 2024-05-14 19:09:44,051] Trial 2 finished with value: 0.7861734177931579 and parameters: {'penalty': 'l1', 'solver': 'saga', 'C': 0.7920799794812781}. Best is trial 1 with value: 0.7870176393091557.\n",
      "[I 2024-05-14 19:09:56,040] Trial 3 finished with value: 0.7857458957549421 and parameters: {'penalty': 'l1', 'solver': 'saga', 'C': 0.27196093941814536}. Best is trial 1 with value: 0.7870176393091557.\n",
      "[I 2024-05-14 19:10:10,038] Trial 4 finished with value: 0.7858965446987372 and parameters: {'penalty': 'l1', 'solver': 'saga', 'C': 0.6717423698140519}. Best is trial 1 with value: 0.7870176393091557.\n",
      "[I 2024-05-14 19:10:14,732] Trial 5 finished with value: 0.7806810724440665 and parameters: {'penalty': 'l2', 'solver': 'liblinear', 'C': 0.6913346567974094}. Best is trial 1 with value: 0.7870176393091557.\n",
      "[I 2024-05-14 19:10:18,723] Trial 6 finished with value: 0.78435735749167 and parameters: {'penalty': 'l1', 'solver': 'liblinear', 'C': 0.7347596182756774}. Best is trial 1 with value: 0.7870176393091557.\n",
      "[I 2024-05-14 19:10:27,641] Trial 7 finished with value: 0.7823702073595508 and parameters: {'penalty': 'l2', 'solver': 'saga', 'C': 0.9267915252735887}. Best is trial 1 with value: 0.7870176393091557.\n",
      "[I 2024-05-14 19:10:41,312] Trial 8 finished with value: 0.7857903200234698 and parameters: {'penalty': 'l1', 'solver': 'saga', 'C': 0.7760407641355198}. Best is trial 1 with value: 0.7870176393091557.\n",
      "[I 2024-05-14 19:10:49,916] Trial 9 finished with value: 0.7834694335580138 and parameters: {'penalty': 'l2', 'solver': 'saga', 'C': 0.5231709896425638}. Best is trial 1 with value: 0.7870176393091557.\n",
      "[I 2024-05-14 19:10:51,680] Trial 10 finished with value: 0.7847493591122175 and parameters: {'penalty': 'l1', 'solver': 'liblinear', 'C': 0.1331731495712331}. Best is trial 1 with value: 0.7870176393091557.\n",
      "[I 2024-05-14 19:10:54,765] Trial 11 finished with value: 0.7861954514527499 and parameters: {'penalty': 'l1', 'solver': 'liblinear', 'C': 0.4546227587837615}. Best is trial 1 with value: 0.7870176393091557.\n",
      "[I 2024-05-14 19:10:57,495] Trial 12 finished with value: 0.7861855029046606 and parameters: {'penalty': 'l1', 'solver': 'liblinear', 'C': 0.4400751845830575}. Best is trial 1 with value: 0.7870176393091557.\n",
      "[I 2024-05-14 19:11:00,984] Trial 13 finished with value: 0.7888308623675157 and parameters: {'penalty': 'l1', 'solver': 'liblinear', 'C': 0.37278449853017936}. Best is trial 13 with value: 0.7888308623675157.\n",
      "[I 2024-05-14 19:11:03,453] Trial 14 finished with value: 0.7882530624988944 and parameters: {'penalty': 'l1', 'solver': 'liblinear', 'C': 0.3109281090523789}. Best is trial 13 with value: 0.7888308623675157.\n",
      "[I 2024-05-14 19:11:06,116] Trial 15 finished with value: 0.7883350953706152 and parameters: {'penalty': 'l1', 'solver': 'liblinear', 'C': 0.39531995571169126}. Best is trial 13 with value: 0.7888308623675157.\n",
      "[I 2024-05-14 19:11:09,081] Trial 16 finished with value: 0.7883440645344411 and parameters: {'penalty': 'l1', 'solver': 'liblinear', 'C': 0.3728312705583749}. Best is trial 13 with value: 0.7888308623675157.\n",
      "[I 2024-05-14 19:11:12,489] Trial 17 finished with value: 0.7864188347278397 and parameters: {'penalty': 'l1', 'solver': 'liblinear', 'C': 0.5813114490318831}. Best is trial 13 with value: 0.7888308623675157.\n",
      "[I 2024-05-14 19:11:15,636] Trial 18 finished with value: 0.7880338879042076 and parameters: {'penalty': 'l2', 'solver': 'liblinear', 'C': 0.11524468490480466}. Best is trial 13 with value: 0.7888308623675157.\n",
      "[I 2024-05-14 19:11:18,187] Trial 19 finished with value: 0.7887247217840698 and parameters: {'penalty': 'l1', 'solver': 'liblinear', 'C': 0.36791025595782234}. Best is trial 13 with value: 0.7888308623675157.\n",
      "[I 2024-05-14 19:11:21,559] Trial 20 finished with value: 0.7862389470164672 and parameters: {'penalty': 'l1', 'solver': 'liblinear', 'C': 0.5564380969384328}. Best is trial 13 with value: 0.7888308623675157.\n",
      "[I 2024-05-14 19:11:24,493] Trial 21 finished with value: 0.7893188055078738 and parameters: {'penalty': 'l1', 'solver': 'liblinear', 'C': 0.36998011324463465}. Best is trial 21 with value: 0.7893188055078738.\n",
      "[I 2024-05-14 19:11:26,392] Trial 22 finished with value: 0.7858499096731644 and parameters: {'penalty': 'l1', 'solver': 'liblinear', 'C': 0.20020360107678536}. Best is trial 21 with value: 0.7893188055078738.\n",
      "[I 2024-05-14 19:11:29,313] Trial 23 finished with value: 0.7888458525328377 and parameters: {'penalty': 'l1', 'solver': 'liblinear', 'C': 0.33835938527106457}. Best is trial 21 with value: 0.7893188055078738.\n",
      "[I 2024-05-14 19:11:32,450] Trial 24 finished with value: 0.7853311685794837 and parameters: {'penalty': 'l1', 'solver': 'liblinear', 'C': 0.49650700159529226}. Best is trial 21 with value: 0.7893188055078738.\n",
      "[I 2024-05-14 19:11:35,011] Trial 25 finished with value: 0.7893956827142214 and parameters: {'penalty': 'l1', 'solver': 'liblinear', 'C': 0.3392485694628138}. Best is trial 25 with value: 0.7893956827142214.\n",
      "[I 2024-05-14 19:11:38,377] Trial 26 finished with value: 0.7863150046053509 and parameters: {'penalty': 'l2', 'solver': 'liblinear', 'C': 0.17914294880966708}. Best is trial 25 with value: 0.7893956827142214.\n",
      "[I 2024-05-14 19:11:40,936] Trial 27 finished with value: 0.7885181072496009 and parameters: {'penalty': 'l1', 'solver': 'liblinear', 'C': 0.3187187281343926}. Best is trial 25 with value: 0.7893956827142214.\n",
      "[I 2024-05-14 19:11:43,981] Trial 28 finished with value: 0.787672250926427 and parameters: {'penalty': 'l1', 'solver': 'liblinear', 'C': 0.5976698877661453}. Best is trial 25 with value: 0.7893956827142214.\n",
      "[I 2024-05-14 19:11:47,422] Trial 29 finished with value: 0.785084564323135 and parameters: {'penalty': 'l2', 'solver': 'liblinear', 'C': 0.2414665590396129}. Best is trial 25 with value: 0.7893956827142214.\n",
      "[I 2024-05-14 19:11:50,524] Trial 30 finished with value: 0.7864964714949954 and parameters: {'penalty': 'l1', 'solver': 'liblinear', 'C': 0.4484292336817311}. Best is trial 25 with value: 0.7893956827142214.\n",
      "[I 2024-05-14 19:11:53,203] Trial 31 finished with value: 0.788441895215768 and parameters: {'penalty': 'l1', 'solver': 'liblinear', 'C': 0.3359831431841293}. Best is trial 25 with value: 0.7893956827142214.\n",
      "[I 2024-05-14 19:11:56,173] Trial 32 finished with value: 0.7879390825193243 and parameters: {'penalty': 'l1', 'solver': 'liblinear', 'C': 0.40908114779780685}. Best is trial 25 with value: 0.7893956827142214.\n",
      "[I 2024-05-14 19:11:58,808] Trial 33 finished with value: 0.7873942146484624 and parameters: {'penalty': 'l1', 'solver': 'liblinear', 'C': 0.2870297118836234}. Best is trial 25 with value: 0.7893956827142214.\n",
      "[I 2024-05-14 19:12:01,267] Trial 34 finished with value: 0.7875900683195826 and parameters: {'penalty': 'l1', 'solver': 'liblinear', 'C': 0.2350827799948752}. Best is trial 25 with value: 0.7893956827142214.\n",
      "[I 2024-05-14 19:12:13,734] Trial 35 finished with value: 0.7886269117638178 and parameters: {'penalty': 'l1', 'solver': 'saga', 'C': 0.33493845436885705}. Best is trial 25 with value: 0.7893956827142214.\n",
      "[I 2024-05-14 19:12:17,113] Trial 36 finished with value: 0.785454383028082 and parameters: {'penalty': 'l1', 'solver': 'liblinear', 'C': 0.48512407762050797}. Best is trial 25 with value: 0.7893956827142214.\n",
      "[I 2024-05-14 19:12:28,631] Trial 37 finished with value: 0.7832660983104588 and parameters: {'penalty': 'l1', 'solver': 'saga', 'C': 0.18973275488560992}. Best is trial 25 with value: 0.7893956827142214.\n",
      "[I 2024-05-14 19:12:32,288] Trial 38 finished with value: 0.784497101628506 and parameters: {'penalty': 'l2', 'solver': 'liblinear', 'C': 0.2675099536645636}. Best is trial 25 with value: 0.7893956827142214.\n",
      "[I 2024-05-14 19:12:36,152] Trial 39 finished with value: 0.7876463552540601 and parameters: {'penalty': 'l1', 'solver': 'liblinear', 'C': 0.6385283956072045}. Best is trial 25 with value: 0.7893956827142214.\n",
      "[I 2024-05-14 19:12:50,655] Trial 40 finished with value: 0.7857517604730385 and parameters: {'penalty': 'l1', 'solver': 'saga', 'C': 0.9034254531412651}. Best is trial 25 with value: 0.7893956827142214.\n",
      "[I 2024-05-14 19:12:53,224] Trial 41 finished with value: 0.787960320464115 and parameters: {'penalty': 'l1', 'solver': 'liblinear', 'C': 0.3812279249843608}. Best is trial 25 with value: 0.7893956827142214.\n",
      "[I 2024-05-14 19:12:55,716] Trial 42 finished with value: 0.7901904035240277 and parameters: {'penalty': 'l1', 'solver': 'liblinear', 'C': 0.3580874991797323}. Best is trial 42 with value: 0.7901904035240277.\n",
      "[I 2024-05-14 19:12:59,496] Trial 43 finished with value: 0.7865685787147362 and parameters: {'penalty': 'l1', 'solver': 'liblinear', 'C': 0.42728335559681674}. Best is trial 42 with value: 0.7901904035240277.\n",
      "[I 2024-05-14 19:13:02,138] Trial 44 finished with value: 0.7899081935574955 and parameters: {'penalty': 'l1', 'solver': 'liblinear', 'C': 0.3472037662561281}. Best is trial 42 with value: 0.7901904035240277.\n",
      "[I 2024-05-14 19:13:04,985] Trial 45 finished with value: 0.7866437320812902 and parameters: {'penalty': 'l1', 'solver': 'liblinear', 'C': 0.26703392783825}. Best is trial 42 with value: 0.7901904035240277.\n",
      "[I 2024-05-14 19:13:17,398] Trial 46 finished with value: 0.7880648828357069 and parameters: {'penalty': 'l1', 'solver': 'saga', 'C': 0.34203390265022804}. Best is trial 42 with value: 0.7901904035240277.\n",
      "[I 2024-05-14 19:13:21,780] Trial 47 finished with value: 0.7800155361039358 and parameters: {'penalty': 'l2', 'solver': 'liblinear', 'C': 0.4868970933774826}. Best is trial 42 with value: 0.7901904035240277.\n",
      "[I 2024-05-14 19:13:23,595] Trial 48 finished with value: 0.784600069686898 and parameters: {'penalty': 'l1', 'solver': 'liblinear', 'C': 0.15605887214858344}. Best is trial 42 with value: 0.7901904035240277.\n",
      "[I 2024-05-14 19:13:25,770] Trial 49 finished with value: 0.7873883576547323 and parameters: {'penalty': 'l1', 'solver': 'liblinear', 'C': 0.22143270011087973}. Best is trial 42 with value: 0.7901904035240277.\n"
     ]
    },
    {
     "name": "stdout",
     "output_type": "stream",
     "text": [
      "Наилучшие значения гиперпараметров {'penalty': 'l1', 'solver': 'liblinear', 'C': 0.3580874991797323}\n"
     ]
    }
   ],
   "source": [
    "# создаем объект исследования и ищем лучшую комбинацию гиперпараметров\n",
    "study = optuna.create_study(study_name = 'LogisticRegression', direction = 'maximize')\n",
    "study.optimize(optuna_lr, n_trials = 50)\n",
    "print(\"Наилучшие значения гиперпараметров {}\".format(study.best_params))"
   ]
  },
  {
   "cell_type": "code",
   "execution_count": 70,
   "metadata": {},
   "outputs": [
    {
     "name": "stdout",
     "output_type": "stream",
     "text": [
      "f1_score на тестовом наборе: 0.79\n"
     ]
    }
   ],
   "source": [
    "# Обучаем модель и делаем предсказание\n",
    "model_opt = linear_model.LogisticRegression(**study.best_params, random_state = random_state)\n",
    "model_opt.fit(X_train, y_train)\n",
    "y_test_pred_opt = cross_val_score(model_opt, X, y, cv=10, scoring=\"f1\", n_jobs=-1).mean()\n",
    "print('f1_score на тестовом наборе: {:.2f}'.format(y_test_pred_opt ))"
   ]
  },
  {
   "cell_type": "markdown",
   "metadata": {},
   "source": [
    "Значение метрики f1 не изменилось."
   ]
  },
  {
   "cell_type": "markdown",
   "metadata": {},
   "source": [
    "Все представленные модели показали одинаковое значение метрики F1 - 0.79. \n",
    "\n",
    "Подбор гиперпараметров с помощью RandomizedSearchCV позволил незначительно повысить F1 до 0.8. Значения гиперпараметров для такого F1: 'solver': 'saga', 'penalty': 'l1', 'C': 0.45."
   ]
  },
  {
   "cell_type": "markdown",
   "metadata": {},
   "source": [
    "### 3.2 Случайный лес"
   ]
  },
  {
   "cell_type": "code",
   "execution_count": 8,
   "metadata": {},
   "outputs": [
    {
     "name": "stdout",
     "output_type": "stream",
     "text": [
      "f1_score на тестовом наборе: 0.83\n"
     ]
    }
   ],
   "source": [
    "# Обучаем модель случайный лес, делаем предсказание на тестовой выборке, фиксируем значение F1\n",
    "model_rf = ensemble.RandomForestClassifier(random_state=5)\n",
    "model_rf.fit(X_train, y_train)\n",
    "y_test_pred_rf = model_rf.predict(X_test)\n",
    "print('f1_score на тестовом наборе: {:.2f}'.format(metrics.f1_score(y_test, y_test_pred_rf)))"
   ]
  },
  {
   "cell_type": "markdown",
   "metadata": {},
   "source": [
    "По сравнению с логистической регрессией метрика F1 улучшилась при использовании случайного леса, даже без подбора гиперпараметров."
   ]
  },
  {
   "cell_type": "code",
   "execution_count": 9,
   "metadata": {},
   "outputs": [
    {
     "name": "stdout",
     "output_type": "stream",
     "text": [
      "Среднее значение F1 на тестовой выборке:0.81\n"
     ]
    }
   ],
   "source": [
    "# Обучаем модель случайный лес с кросс-валидацией, делаем предсказание на тестовой выборке, фиксируем значение F1\n",
    "model_rf_cross = ensemble.RandomForestClassifier(random_state=5)\n",
    "kf = model_selection.KFold(n_splits=10)\n",
    "cv_rf_metrics = model_selection.cross_validate(\n",
    "    estimator=model_rf_cross,\n",
    "    X=X,\n",
    "    y=y,\n",
    "    cv=kf,\n",
    "    scoring='f1'\n",
    ")\n",
    "print('Среднее значение F1 на тестовой выборке:{:.2f}'.format(np.mean(cv_rf_metrics['test_score'])))"
   ]
  },
  {
   "cell_type": "markdown",
   "metadata": {},
   "source": [
    "Использование кросс-валидации не помогло уведичить значение метрики f1."
   ]
  },
  {
   "cell_type": "markdown",
   "metadata": {},
   "source": [
    "#### 3.2.1 GridSearchCV"
   ]
  },
  {
   "cell_type": "code",
   "execution_count": 9,
   "metadata": {},
   "outputs": [
    {
     "name": "stdout",
     "output_type": "stream",
     "text": [
      "F1 на тестовом наборе:0.84\n",
      "Наилучшие значения гиперпараметров: {'criterion': 'entropy', 'max_depth': 30, 'min_samples_leaf': 2, 'n_estimators': 180}\n"
     ]
    }
   ],
   "source": [
    "# создаем список гиперпараметров\n",
    "param_grid_rf = {'n_estimators':list(range(60, 200, 20)),\n",
    "               'criterion':['entropy','gini'],\n",
    "               'max_depth': list(np.linspace(5, 30, 5, dtype=int)),\n",
    "               'min_samples_leaf': list(range(2, 10, 2))\n",
    "               }\n",
    "\n",
    "\n",
    "# Обучаем модель слуйчайного леса с GridSearch, делаем предсказание, фиксируем значение F1 и наилучшие значения гиперпараметров\n",
    "grid_search_rf = GridSearchCV(\n",
    "    estimator=ensemble.RandomForestClassifier(random_state=5),\n",
    "    param_grid=param_grid_rf,\n",
    "    cv=10,\n",
    "    n_jobs=-1\n",
    ")\n",
    "grid_search_rf.fit(X_train, y_train)\n",
    "y_test_pred_grid_rf = grid_search_rf.predict(X_test)\n",
    "print('F1 на тестовом наборе:{:.2f}'.format(metrics.f1_score(y_test, y_test_pred_grid_rf)))\n",
    "print(\"Наилучшие значения гиперпараметров: {}\".format(grid_search_rf.best_params_))"
   ]
  },
  {
   "cell_type": "markdown",
   "metadata": {},
   "source": [
    "### 3.2.2 RandomizedSearchCV"
   ]
  },
  {
   "cell_type": "code",
   "execution_count": null,
   "metadata": {},
   "outputs": [],
   "source": [
    "# создаем список гиперпараметров\n",
    "param_random_rf = {'n_estimators':list(range(60, 200, 20)),\n",
    "               'criterion':['entropy','gini'],\n",
    "               'max_depth': list(np.linspace(5, 30, 5, dtype=int)),\n",
    "               'min_samples_leaf': list(range(2, 10, 2))\n",
    "               }\n",
    "# Обучаем модель логистической регрессии с RandomizedSearch, делаем предсказание, фиксируем значение F1 и наилучшие значения гиперпараметров\n",
    "random_search_rf = RandomizedSearchCV(\n",
    "    estimator=ensemble.RandomForestClassifier(random_state=5),\n",
    "    param_distributions=param_random_rf,\n",
    "    cv=10,\n",
    "    n_iter=5,\n",
    "    n_jobs=-1\n",
    ")\n",
    "random_search.fit(X_train, y_train)\n",
    "y_test_pred_random = random_search.predict(X_test)\n",
    "print('F1 на тестовом наборе:{:.2f}'.format(metrics.f1_score(y_test, y_test_pred_random)))\n",
    "print(\"Наилучшие значения гиперпараметров: {}\".format(random_search.best_params_))"
   ]
  }
 ],
 "metadata": {
  "kernelspec": {
   "display_name": "Python 3",
   "language": "python",
   "name": "python3"
  },
  "language_info": {
   "codemirror_mode": {
    "name": "ipython",
    "version": 3
   },
   "file_extension": ".py",
   "mimetype": "text/x-python",
   "name": "python",
   "nbconvert_exporter": "python",
   "pygments_lexer": "ipython3",
   "version": "3.11.9"
  }
 },
 "nbformat": 4,
 "nbformat_minor": 2
}
