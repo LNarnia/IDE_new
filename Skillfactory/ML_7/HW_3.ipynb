{
 "cells": [
  {
   "cell_type": "markdown",
   "metadata": {},
   "source": [
    "## HW_3 Прогнозирование биологического ответа"
   ]
  },
  {
   "cell_type": "code",
   "execution_count": 1,
   "metadata": {},
   "outputs": [],
   "source": [
    "#импорт библиотек\n",
    "import numpy as np #для матричных вычислений\n",
    "import pandas as pd #для анализа и предобработки данных\n",
    "import matplotlib.pyplot as plt #для визуализации\n",
    "import seaborn as sns #для визуализации\n",
    "\n",
    "from sklearn import linear_model #линейные моделиё\n",
    "from sklearn import tree #деревья решений\n",
    "from sklearn import ensemble #ансамбли\n",
    "from sklearn import metrics #метрики\n",
    "from sklearn import preprocessing #предобработка\n",
    "from sklearn import model_selection #методы разделения и валидации\n",
    "from sklearn.model_selection import train_test_split #сплитование выборки"
   ]
  },
  {
   "cell_type": "markdown",
   "metadata": {},
   "source": [
    "#### 1. Знакомство с данными"
   ]
  },
  {
   "cell_type": "code",
   "execution_count": 2,
   "metadata": {},
   "outputs": [
    {
     "data": {
      "text/html": [
       "<div>\n",
       "<style scoped>\n",
       "    .dataframe tbody tr th:only-of-type {\n",
       "        vertical-align: middle;\n",
       "    }\n",
       "\n",
       "    .dataframe tbody tr th {\n",
       "        vertical-align: top;\n",
       "    }\n",
       "\n",
       "    .dataframe thead th {\n",
       "        text-align: right;\n",
       "    }\n",
       "</style>\n",
       "<table border=\"1\" class=\"dataframe\">\n",
       "  <thead>\n",
       "    <tr style=\"text-align: right;\">\n",
       "      <th></th>\n",
       "      <th>Activity</th>\n",
       "      <th>D1</th>\n",
       "      <th>D2</th>\n",
       "      <th>D3</th>\n",
       "      <th>D4</th>\n",
       "      <th>D5</th>\n",
       "      <th>D6</th>\n",
       "      <th>D7</th>\n",
       "      <th>D8</th>\n",
       "      <th>D9</th>\n",
       "      <th>...</th>\n",
       "      <th>D1767</th>\n",
       "      <th>D1768</th>\n",
       "      <th>D1769</th>\n",
       "      <th>D1770</th>\n",
       "      <th>D1771</th>\n",
       "      <th>D1772</th>\n",
       "      <th>D1773</th>\n",
       "      <th>D1774</th>\n",
       "      <th>D1775</th>\n",
       "      <th>D1776</th>\n",
       "    </tr>\n",
       "  </thead>\n",
       "  <tbody>\n",
       "    <tr>\n",
       "      <th>0</th>\n",
       "      <td>1</td>\n",
       "      <td>0.000000</td>\n",
       "      <td>0.497009</td>\n",
       "      <td>0.10</td>\n",
       "      <td>0.0</td>\n",
       "      <td>0.132956</td>\n",
       "      <td>0.678031</td>\n",
       "      <td>0.273166</td>\n",
       "      <td>0.585445</td>\n",
       "      <td>0.743663</td>\n",
       "      <td>...</td>\n",
       "      <td>0</td>\n",
       "      <td>0</td>\n",
       "      <td>0</td>\n",
       "      <td>0</td>\n",
       "      <td>0</td>\n",
       "      <td>0</td>\n",
       "      <td>0</td>\n",
       "      <td>0</td>\n",
       "      <td>0</td>\n",
       "      <td>0</td>\n",
       "    </tr>\n",
       "    <tr>\n",
       "      <th>1</th>\n",
       "      <td>1</td>\n",
       "      <td>0.366667</td>\n",
       "      <td>0.606291</td>\n",
       "      <td>0.05</td>\n",
       "      <td>0.0</td>\n",
       "      <td>0.111209</td>\n",
       "      <td>0.803455</td>\n",
       "      <td>0.106105</td>\n",
       "      <td>0.411754</td>\n",
       "      <td>0.836582</td>\n",
       "      <td>...</td>\n",
       "      <td>1</td>\n",
       "      <td>1</td>\n",
       "      <td>1</td>\n",
       "      <td>1</td>\n",
       "      <td>0</td>\n",
       "      <td>1</td>\n",
       "      <td>0</td>\n",
       "      <td>0</td>\n",
       "      <td>1</td>\n",
       "      <td>0</td>\n",
       "    </tr>\n",
       "    <tr>\n",
       "      <th>2</th>\n",
       "      <td>1</td>\n",
       "      <td>0.033300</td>\n",
       "      <td>0.480124</td>\n",
       "      <td>0.00</td>\n",
       "      <td>0.0</td>\n",
       "      <td>0.209791</td>\n",
       "      <td>0.610350</td>\n",
       "      <td>0.356453</td>\n",
       "      <td>0.517720</td>\n",
       "      <td>0.679051</td>\n",
       "      <td>...</td>\n",
       "      <td>0</td>\n",
       "      <td>0</td>\n",
       "      <td>0</td>\n",
       "      <td>0</td>\n",
       "      <td>0</td>\n",
       "      <td>0</td>\n",
       "      <td>0</td>\n",
       "      <td>0</td>\n",
       "      <td>0</td>\n",
       "      <td>0</td>\n",
       "    </tr>\n",
       "    <tr>\n",
       "      <th>3</th>\n",
       "      <td>1</td>\n",
       "      <td>0.000000</td>\n",
       "      <td>0.538825</td>\n",
       "      <td>0.00</td>\n",
       "      <td>0.5</td>\n",
       "      <td>0.196344</td>\n",
       "      <td>0.724230</td>\n",
       "      <td>0.235606</td>\n",
       "      <td>0.288764</td>\n",
       "      <td>0.805110</td>\n",
       "      <td>...</td>\n",
       "      <td>0</td>\n",
       "      <td>0</td>\n",
       "      <td>0</td>\n",
       "      <td>0</td>\n",
       "      <td>0</td>\n",
       "      <td>0</td>\n",
       "      <td>0</td>\n",
       "      <td>0</td>\n",
       "      <td>0</td>\n",
       "      <td>0</td>\n",
       "    </tr>\n",
       "    <tr>\n",
       "      <th>4</th>\n",
       "      <td>0</td>\n",
       "      <td>0.100000</td>\n",
       "      <td>0.517794</td>\n",
       "      <td>0.00</td>\n",
       "      <td>0.0</td>\n",
       "      <td>0.494734</td>\n",
       "      <td>0.781422</td>\n",
       "      <td>0.154361</td>\n",
       "      <td>0.303809</td>\n",
       "      <td>0.812646</td>\n",
       "      <td>...</td>\n",
       "      <td>0</td>\n",
       "      <td>0</td>\n",
       "      <td>0</td>\n",
       "      <td>0</td>\n",
       "      <td>0</td>\n",
       "      <td>0</td>\n",
       "      <td>0</td>\n",
       "      <td>0</td>\n",
       "      <td>0</td>\n",
       "      <td>0</td>\n",
       "    </tr>\n",
       "  </tbody>\n",
       "</table>\n",
       "<p>5 rows × 1777 columns</p>\n",
       "</div>"
      ],
      "text/plain": [
       "   Activity        D1        D2    D3   D4        D5        D6        D7  \\\n",
       "0         1  0.000000  0.497009  0.10  0.0  0.132956  0.678031  0.273166   \n",
       "1         1  0.366667  0.606291  0.05  0.0  0.111209  0.803455  0.106105   \n",
       "2         1  0.033300  0.480124  0.00  0.0  0.209791  0.610350  0.356453   \n",
       "3         1  0.000000  0.538825  0.00  0.5  0.196344  0.724230  0.235606   \n",
       "4         0  0.100000  0.517794  0.00  0.0  0.494734  0.781422  0.154361   \n",
       "\n",
       "         D8        D9  ...  D1767  D1768  D1769  D1770  D1771  D1772  D1773  \\\n",
       "0  0.585445  0.743663  ...      0      0      0      0      0      0      0   \n",
       "1  0.411754  0.836582  ...      1      1      1      1      0      1      0   \n",
       "2  0.517720  0.679051  ...      0      0      0      0      0      0      0   \n",
       "3  0.288764  0.805110  ...      0      0      0      0      0      0      0   \n",
       "4  0.303809  0.812646  ...      0      0      0      0      0      0      0   \n",
       "\n",
       "   D1774  D1775  D1776  \n",
       "0      0      0      0  \n",
       "1      0      1      0  \n",
       "2      0      0      0  \n",
       "3      0      0      0  \n",
       "4      0      0      0  \n",
       "\n",
       "[5 rows x 1777 columns]"
      ]
     },
     "execution_count": 2,
     "metadata": {},
     "output_type": "execute_result"
    }
   ],
   "source": [
    "\n",
    "data = pd.read_csv('data/_train_sem09.csv')\n",
    "data.head()"
   ]
  },
  {
   "cell_type": "code",
   "execution_count": 3,
   "metadata": {},
   "outputs": [
    {
     "data": {
      "image/png": "[encoded data removed]",
      "text/plain": [
       "<Figure size 640x480 with 1 Axes>"
      ]
     },
     "metadata": {},
     "output_type": "display_data"
    }
   ],
   "source": [
    "# Проверяем сбалансированность классов\n",
    "sns.countplot(data=data, x='Activity');"
   ]
  },
  {
   "cell_type": "markdown",
   "metadata": {},
   "source": [
    "Данные в выборке сбалансированы, стратифицированное разбиение не требуется."
   ]
  },
  {
   "cell_type": "markdown",
   "metadata": {},
   "source": [
    "#### 2. Подготовка данных"
   ]
  },
  {
   "cell_type": "code",
   "execution_count": 4,
   "metadata": {},
   "outputs": [],
   "source": [
    "X = data.drop(['Activity'], axis=1)\n",
    "y = data['Activity']"
   ]
  },
  {
   "cell_type": "code",
   "execution_count": 5,
   "metadata": {},
   "outputs": [],
   "source": [
    "X_train, X_test, y_train, y_test = train_test_split(X, y, random_state = 42, test_size = 0.2)"
   ]
  },
  {
   "cell_type": "markdown",
   "metadata": {},
   "source": [
    "### 3. Оптимизация гиперпараметров модели.\n",
    "#### 3.1. Логистичекая регрессия"
   ]
  },
  {
   "cell_type": "code",
   "execution_count": 6,
   "metadata": {},
   "outputs": [
    {
     "name": "stdout",
     "output_type": "stream",
     "text": [
      "F1 score на тестовой выборке:0.79\n"
     ]
    },
    {
     "name": "stderr",
     "output_type": "stream",
     "text": [
      "C:\\Users\\Настенька\\AppData\\Local\\Packages\\PythonSoftwareFoundation.Python.3.11_qbz5n2kfra8p0\\LocalCache\\local-packages\\Python311\\site-packages\\sklearn\\linear_model\\_logistic.py:469: ConvergenceWarning: lbfgs failed to converge (status=1):\n",
      "STOP: TOTAL NO. of ITERATIONS REACHED LIMIT.\n",
      "\n",
      "Increase the number of iterations (max_iter) or scale the data as shown in:\n",
      "    https://scikit-learn.org/stable/modules/preprocessing.html\n",
      "Please also refer to the documentation for alternative solver options:\n",
      "    https://scikit-learn.org/stable/modules/linear_model.html#logistic-regression\n",
      "  n_iter_i = _check_optimize_result(\n"
     ]
    }
   ],
   "source": [
    "# Обучаем модель логистической регрессии, делаем предсказание на тестовой выборке, фиксируем значение F1\n",
    "log_reg = linear_model.LogisticRegression(random_state=5, max_iter=50)\n",
    "log_reg.fit(X_train, y_train)\n",
    "y_test_pred = log_reg.predict(X_test)\n",
    "print('F1 score на тестовой выборке:{:.2f}'.format(metrics.f1_score(y_test, y_test_pred)))\n"
   ]
  },
  {
   "cell_type": "code",
   "execution_count": 7,
   "metadata": {},
   "outputs": [
    {
     "name": "stderr",
     "output_type": "stream",
     "text": [
      "C:\\Users\\Настенька\\AppData\\Local\\Packages\\PythonSoftwareFoundation.Python.3.11_qbz5n2kfra8p0\\LocalCache\\local-packages\\Python311\\site-packages\\sklearn\\linear_model\\_logistic.py:469: ConvergenceWarning: lbfgs failed to converge (status=1):\n",
      "STOP: TOTAL NO. of ITERATIONS REACHED LIMIT.\n",
      "\n",
      "Increase the number of iterations (max_iter) or scale the data as shown in:\n",
      "    https://scikit-learn.org/stable/modules/preprocessing.html\n",
      "Please also refer to the documentation for alternative solver options:\n",
      "    https://scikit-learn.org/stable/modules/linear_model.html#logistic-regression\n",
      "  n_iter_i = _check_optimize_result(\n",
      "C:\\Users\\Настенька\\AppData\\Local\\Packages\\PythonSoftwareFoundation.Python.3.11_qbz5n2kfra8p0\\LocalCache\\local-packages\\Python311\\site-packages\\sklearn\\linear_model\\_logistic.py:469: ConvergenceWarning: lbfgs failed to converge (status=1):\n",
      "STOP: TOTAL NO. of ITERATIONS REACHED LIMIT.\n",
      "\n",
      "Increase the number of iterations (max_iter) or scale the data as shown in:\n",
      "    https://scikit-learn.org/stable/modules/preprocessing.html\n",
      "Please also refer to the documentation for alternative solver options:\n",
      "    https://scikit-learn.org/stable/modules/linear_model.html#logistic-regression\n",
      "  n_iter_i = _check_optimize_result(\n",
      "C:\\Users\\Настенька\\AppData\\Local\\Packages\\PythonSoftwareFoundation.Python.3.11_qbz5n2kfra8p0\\LocalCache\\local-packages\\Python311\\site-packages\\sklearn\\linear_model\\_logistic.py:469: ConvergenceWarning: lbfgs failed to converge (status=1):\n",
      "STOP: TOTAL NO. of ITERATIONS REACHED LIMIT.\n",
      "\n",
      "Increase the number of iterations (max_iter) or scale the data as shown in:\n",
      "    https://scikit-learn.org/stable/modules/preprocessing.html\n",
      "Please also refer to the documentation for alternative solver options:\n",
      "    https://scikit-learn.org/stable/modules/linear_model.html#logistic-regression\n",
      "  n_iter_i = _check_optimize_result(\n",
      "C:\\Users\\Настенька\\AppData\\Local\\Packages\\PythonSoftwareFoundation.Python.3.11_qbz5n2kfra8p0\\LocalCache\\local-packages\\Python311\\site-packages\\sklearn\\linear_model\\_logistic.py:469: ConvergenceWarning: lbfgs failed to converge (status=1):\n",
      "STOP: TOTAL NO. of ITERATIONS REACHED LIMIT.\n",
      "\n",
      "Increase the number of iterations (max_iter) or scale the data as shown in:\n",
      "    https://scikit-learn.org/stable/modules/preprocessing.html\n",
      "Please also refer to the documentation for alternative solver options:\n",
      "    https://scikit-learn.org/stable/modules/linear_model.html#logistic-regression\n",
      "  n_iter_i = _check_optimize_result(\n",
      "C:\\Users\\Настенька\\AppData\\Local\\Packages\\PythonSoftwareFoundation.Python.3.11_qbz5n2kfra8p0\\LocalCache\\local-packages\\Python311\\site-packages\\sklearn\\linear_model\\_logistic.py:469: ConvergenceWarning: lbfgs failed to converge (status=1):\n",
      "STOP: TOTAL NO. of ITERATIONS REACHED LIMIT.\n",
      "\n",
      "Increase the number of iterations (max_iter) or scale the data as shown in:\n",
      "    https://scikit-learn.org/stable/modules/preprocessing.html\n",
      "Please also refer to the documentation for alternative solver options:\n",
      "    https://scikit-learn.org/stable/modules/linear_model.html#logistic-regression\n",
      "  n_iter_i = _check_optimize_result(\n",
      "C:\\Users\\Настенька\\AppData\\Local\\Packages\\PythonSoftwareFoundation.Python.3.11_qbz5n2kfra8p0\\LocalCache\\local-packages\\Python311\\site-packages\\sklearn\\linear_model\\_logistic.py:469: ConvergenceWarning: lbfgs failed to converge (status=1):\n",
      "STOP: TOTAL NO. of ITERATIONS REACHED LIMIT.\n",
      "\n",
      "Increase the number of iterations (max_iter) or scale the data as shown in:\n",
      "    https://scikit-learn.org/stable/modules/preprocessing.html\n",
      "Please also refer to the documentation for alternative solver options:\n",
      "    https://scikit-learn.org/stable/modules/linear_model.html#logistic-regression\n",
      "  n_iter_i = _check_optimize_result(\n",
      "C:\\Users\\Настенька\\AppData\\Local\\Packages\\PythonSoftwareFoundation.Python.3.11_qbz5n2kfra8p0\\LocalCache\\local-packages\\Python311\\site-packages\\sklearn\\linear_model\\_logistic.py:469: ConvergenceWarning: lbfgs failed to converge (status=1):\n",
      "STOP: TOTAL NO. of ITERATIONS REACHED LIMIT.\n",
      "\n",
      "Increase the number of iterations (max_iter) or scale the data as shown in:\n",
      "    https://scikit-learn.org/stable/modules/preprocessing.html\n",
      "Please also refer to the documentation for alternative solver options:\n",
      "    https://scikit-learn.org/stable/modules/linear_model.html#logistic-regression\n",
      "  n_iter_i = _check_optimize_result(\n",
      "C:\\Users\\Настенька\\AppData\\Local\\Packages\\PythonSoftwareFoundation.Python.3.11_qbz5n2kfra8p0\\LocalCache\\local-packages\\Python311\\site-packages\\sklearn\\linear_model\\_logistic.py:469: ConvergenceWarning: lbfgs failed to converge (status=1):\n",
      "STOP: TOTAL NO. of ITERATIONS REACHED LIMIT.\n",
      "\n",
      "Increase the number of iterations (max_iter) or scale the data as shown in:\n",
      "    https://scikit-learn.org/stable/modules/preprocessing.html\n",
      "Please also refer to the documentation for alternative solver options:\n",
      "    https://scikit-learn.org/stable/modules/linear_model.html#logistic-regression\n",
      "  n_iter_i = _check_optimize_result(\n",
      "C:\\Users\\Настенька\\AppData\\Local\\Packages\\PythonSoftwareFoundation.Python.3.11_qbz5n2kfra8p0\\LocalCache\\local-packages\\Python311\\site-packages\\sklearn\\linear_model\\_logistic.py:469: ConvergenceWarning: lbfgs failed to converge (status=1):\n",
      "STOP: TOTAL NO. of ITERATIONS REACHED LIMIT.\n",
      "\n",
      "Increase the number of iterations (max_iter) or scale the data as shown in:\n",
      "    https://scikit-learn.org/stable/modules/preprocessing.html\n",
      "Please also refer to the documentation for alternative solver options:\n",
      "    https://scikit-learn.org/stable/modules/linear_model.html#logistic-regression\n",
      "  n_iter_i = _check_optimize_result(\n"
     ]
    },
    {
     "name": "stdout",
     "output_type": "stream",
     "text": [
      "Среднее значение F1 на тестовой выборке:0.78\n"
     ]
    },
    {
     "name": "stderr",
     "output_type": "stream",
     "text": [
      "C:\\Users\\Настенька\\AppData\\Local\\Packages\\PythonSoftwareFoundation.Python.3.11_qbz5n2kfra8p0\\LocalCache\\local-packages\\Python311\\site-packages\\sklearn\\linear_model\\_logistic.py:469: ConvergenceWarning: lbfgs failed to converge (status=1):\n",
      "STOP: TOTAL NO. of ITERATIONS REACHED LIMIT.\n",
      "\n",
      "Increase the number of iterations (max_iter) or scale the data as shown in:\n",
      "    https://scikit-learn.org/stable/modules/preprocessing.html\n",
      "Please also refer to the documentation for alternative solver options:\n",
      "    https://scikit-learn.org/stable/modules/linear_model.html#logistic-regression\n",
      "  n_iter_i = _check_optimize_result(\n"
     ]
    }
   ],
   "source": [
    "# Обучаем модель логистической регрессии с кросс-валидацией, фиксируем значение F1\n",
    "log_reg_cross = linear_model.LogisticRegression(random_state=5, max_iter=50)\n",
    "kf = model_selection.KFold(n_splits = 10)\n",
    "cv_metrics = model_selection.cross_validate(\n",
    "    estimator=log_reg_cross,\n",
    "    X=X,\n",
    "    y=y,\n",
    "    cv=kf,\n",
    "    scoring='f1'\n",
    "    )\n",
    "print('Среднее значение F1 на тестовой выборке:{:.2f}'.format(np.mean(cv_metrics['test_score'])))\n",
    "        "
   ]
  },
  {
   "cell_type": "markdown",
   "metadata": {},
   "source": [
    "Значение f1 на тестовой выборке при использовании кросс-валидации незначительно снизилось."
   ]
  },
  {
   "cell_type": "markdown",
   "metadata": {},
   "source": [
    "#### 3.1.1 GridSearchCV"
   ]
  },
  {
   "cell_type": "code",
   "execution_count": 8,
   "metadata": {},
   "outputs": [],
   "source": [
    "from sklearn.model_selection import GridSearchCV"
   ]
  },
  {
   "cell_type": "code",
   "execution_count": 9,
   "metadata": {},
   "outputs": [
    {
     "name": "stderr",
     "output_type": "stream",
     "text": [
      "C:\\Users\\Настенька\\AppData\\Local\\Packages\\PythonSoftwareFoundation.Python.3.11_qbz5n2kfra8p0\\LocalCache\\local-packages\\Python311\\site-packages\\sklearn\\model_selection\\_validation.py:547: FitFailedWarning: \n",
      "200 fits failed out of a total of 800.\n",
      "The score on these train-test partitions for these parameters will be set to nan.\n",
      "If these failures are not expected, you can try to debug them by setting error_score='raise'.\n",
      "\n",
      "Below are more details about the failures:\n",
      "--------------------------------------------------------------------------------\n",
      "50 fits failed with the following error:\n",
      "Traceback (most recent call last):\n",
      "  File \"C:\\Users\\Настенька\\AppData\\Local\\Packages\\PythonSoftwareFoundation.Python.3.11_qbz5n2kfra8p0\\LocalCache\\local-packages\\Python311\\site-packages\\sklearn\\model_selection\\_validation.py\", line 895, in _fit_and_score\n",
      "    estimator.fit(X_train, y_train, **fit_params)\n",
      "  File \"C:\\Users\\Настенька\\AppData\\Local\\Packages\\PythonSoftwareFoundation.Python.3.11_qbz5n2kfra8p0\\LocalCache\\local-packages\\Python311\\site-packages\\sklearn\\base.py\", line 1467, in wrapper\n",
      "    estimator._validate_params()\n",
      "  File \"C:\\Users\\Настенька\\AppData\\Local\\Packages\\PythonSoftwareFoundation.Python.3.11_qbz5n2kfra8p0\\LocalCache\\local-packages\\Python311\\site-packages\\sklearn\\base.py\", line 666, in _validate_params\n",
      "    validate_parameter_constraints(\n",
      "  File \"C:\\Users\\Настенька\\AppData\\Local\\Packages\\PythonSoftwareFoundation.Python.3.11_qbz5n2kfra8p0\\LocalCache\\local-packages\\Python311\\site-packages\\sklearn\\utils\\_param_validation.py\", line 95, in validate_parameter_constraints\n",
      "    raise InvalidParameterError(\n",
      "sklearn.utils._param_validation.InvalidParameterError: The 'penalty' parameter of LogisticRegression must be a str among {'l2', 'elasticnet', 'l1'} or None. Got 'none' instead.\n",
      "\n",
      "--------------------------------------------------------------------------------\n",
      "62 fits failed with the following error:\n",
      "Traceback (most recent call last):\n",
      "  File \"C:\\Users\\Настенька\\AppData\\Local\\Packages\\PythonSoftwareFoundation.Python.3.11_qbz5n2kfra8p0\\LocalCache\\local-packages\\Python311\\site-packages\\sklearn\\model_selection\\_validation.py\", line 895, in _fit_and_score\n",
      "    estimator.fit(X_train, y_train, **fit_params)\n",
      "  File \"C:\\Users\\Настенька\\AppData\\Local\\Packages\\PythonSoftwareFoundation.Python.3.11_qbz5n2kfra8p0\\LocalCache\\local-packages\\Python311\\site-packages\\sklearn\\base.py\", line 1467, in wrapper\n",
      "    estimator._validate_params()\n",
      "  File \"C:\\Users\\Настенька\\AppData\\Local\\Packages\\PythonSoftwareFoundation.Python.3.11_qbz5n2kfra8p0\\LocalCache\\local-packages\\Python311\\site-packages\\sklearn\\base.py\", line 666, in _validate_params\n",
      "    validate_parameter_constraints(\n",
      "  File \"C:\\Users\\Настенька\\AppData\\Local\\Packages\\PythonSoftwareFoundation.Python.3.11_qbz5n2kfra8p0\\LocalCache\\local-packages\\Python311\\site-packages\\sklearn\\utils\\_param_validation.py\", line 95, in validate_parameter_constraints\n",
      "    raise InvalidParameterError(\n",
      "sklearn.utils._param_validation.InvalidParameterError: The 'penalty' parameter of LogisticRegression must be a str among {'l1', 'l2', 'elasticnet'} or None. Got 'none' instead.\n",
      "\n",
      "--------------------------------------------------------------------------------\n",
      "41 fits failed with the following error:\n",
      "Traceback (most recent call last):\n",
      "  File \"C:\\Users\\Настенька\\AppData\\Local\\Packages\\PythonSoftwareFoundation.Python.3.11_qbz5n2kfra8p0\\LocalCache\\local-packages\\Python311\\site-packages\\sklearn\\model_selection\\_validation.py\", line 895, in _fit_and_score\n",
      "    estimator.fit(X_train, y_train, **fit_params)\n",
      "  File \"C:\\Users\\Настенька\\AppData\\Local\\Packages\\PythonSoftwareFoundation.Python.3.11_qbz5n2kfra8p0\\LocalCache\\local-packages\\Python311\\site-packages\\sklearn\\base.py\", line 1467, in wrapper\n",
      "    estimator._validate_params()\n",
      "  File \"C:\\Users\\Настенька\\AppData\\Local\\Packages\\PythonSoftwareFoundation.Python.3.11_qbz5n2kfra8p0\\LocalCache\\local-packages\\Python311\\site-packages\\sklearn\\base.py\", line 666, in _validate_params\n",
      "    validate_parameter_constraints(\n",
      "  File \"C:\\Users\\Настенька\\AppData\\Local\\Packages\\PythonSoftwareFoundation.Python.3.11_qbz5n2kfra8p0\\LocalCache\\local-packages\\Python311\\site-packages\\sklearn\\utils\\_param_validation.py\", line 95, in validate_parameter_constraints\n",
      "    raise InvalidParameterError(\n",
      "sklearn.utils._param_validation.InvalidParameterError: The 'penalty' parameter of LogisticRegression must be a str among {'elasticnet', 'l1', 'l2'} or None. Got 'none' instead.\n",
      "\n",
      "--------------------------------------------------------------------------------\n",
      "47 fits failed with the following error:\n",
      "Traceback (most recent call last):\n",
      "  File \"C:\\Users\\Настенька\\AppData\\Local\\Packages\\PythonSoftwareFoundation.Python.3.11_qbz5n2kfra8p0\\LocalCache\\local-packages\\Python311\\site-packages\\sklearn\\model_selection\\_validation.py\", line 895, in _fit_and_score\n",
      "    estimator.fit(X_train, y_train, **fit_params)\n",
      "  File \"C:\\Users\\Настенька\\AppData\\Local\\Packages\\PythonSoftwareFoundation.Python.3.11_qbz5n2kfra8p0\\LocalCache\\local-packages\\Python311\\site-packages\\sklearn\\base.py\", line 1467, in wrapper\n",
      "    estimator._validate_params()\n",
      "  File \"C:\\Users\\Настенька\\AppData\\Local\\Packages\\PythonSoftwareFoundation.Python.3.11_qbz5n2kfra8p0\\LocalCache\\local-packages\\Python311\\site-packages\\sklearn\\base.py\", line 666, in _validate_params\n",
      "    validate_parameter_constraints(\n",
      "  File \"C:\\Users\\Настенька\\AppData\\Local\\Packages\\PythonSoftwareFoundation.Python.3.11_qbz5n2kfra8p0\\LocalCache\\local-packages\\Python311\\site-packages\\sklearn\\utils\\_param_validation.py\", line 95, in validate_parameter_constraints\n",
      "    raise InvalidParameterError(\n",
      "sklearn.utils._param_validation.InvalidParameterError: The 'penalty' parameter of LogisticRegression must be a str among {'l2', 'l1', 'elasticnet'} or None. Got 'none' instead.\n",
      "\n",
      "  warnings.warn(some_fits_failed_message, FitFailedWarning)\n",
      "C:\\Users\\Настенька\\AppData\\Local\\Packages\\PythonSoftwareFoundation.Python.3.11_qbz5n2kfra8p0\\LocalCache\\local-packages\\Python311\\site-packages\\sklearn\\model_selection\\_search.py:1051: UserWarning: One or more of the test scores are non-finite: [0.768      0.76733333        nan        nan 0.76233333 0.765\n",
      "        nan        nan 0.76       0.76              nan        nan\n",
      " 0.75533333 0.75866667        nan        nan 0.75466667 0.75766667\n",
      "        nan        nan 0.75466667 0.75733333        nan        nan\n",
      " 0.75366667 0.75666667        nan        nan 0.75266667 0.756\n",
      "        nan        nan 0.75633333 0.756             nan        nan\n",
      " 0.75333333 0.75566667        nan        nan 0.76833333 0.76866667\n",
      " 0.75433333 0.756      0.76533333 0.76533333 0.757      0.755\n",
      " 0.76       0.76233333 0.762      0.76266667 0.75966667 0.76033333\n",
      " 0.76233333 0.763      0.758      0.75933333 0.762      0.76333333\n",
      " 0.75433333 0.758      0.76266667 0.76333333 0.75466667 0.758\n",
      " 0.76533333 0.764      0.754      0.75666667 0.76366667 0.763\n",
      " 0.75366667 0.75666667 0.764      0.76466667 0.75366667 0.757\n",
      " 0.763      0.765     ]\n",
      "  warnings.warn(\n"
     ]
    },
    {
     "name": "stdout",
     "output_type": "stream",
     "text": [
      "CPU times: total: 14.9 s\n",
      "Wall time: 4min 41s\n",
      "F1 на тестовом наборе:0.79\n",
      "Наилучшие значения гиперпараметров: {'C': 0.1, 'penalty': 'l2', 'solver': 'saga'}\n"
     ]
    },
    {
     "name": "stderr",
     "output_type": "stream",
     "text": [
      "C:\\Users\\Настенька\\AppData\\Local\\Packages\\PythonSoftwareFoundation.Python.3.11_qbz5n2kfra8p0\\LocalCache\\local-packages\\Python311\\site-packages\\sklearn\\linear_model\\_sag.py:350: ConvergenceWarning: The max_iter was reached which means the coef_ did not converge\n",
      "  warnings.warn(\n"
     ]
    }
   ],
   "source": [
    "# создаем список гиперпараметров\n",
    "param_grid = [{'penalty':['l2', 'none'],\n",
    "              'solver': ['lbfgs', 'sag'],\n",
    "              'C': list(np.linspace(0.1, 1, 10, dtype=float))},\n",
    "              {'penalty':['l2', 'l1'],\n",
    "              'solver': ['liblinear', 'saga'],\n",
    "              'C': list(np.linspace(0.1, 1, 10, dtype=float))}\n",
    "]\n",
    "# Обучаем модель логистической регрессии с GridSearch, делаем предсказание, фиксируем значение F1 и наилучшие значения гиперпараметров\n",
    "grid_search = GridSearchCV(\n",
    "    estimator=linear_model.LogisticRegression(\n",
    "        random_state=5,\n",
    "        max_iter=50    \n",
    "    ),\n",
    "    param_grid=param_grid,\n",
    "    cv=10,\n",
    "    n_jobs=-1\n",
    ")\n",
    "%time grid_search.fit(X_train, y_train)\n",
    "y_test_pred_grid = grid_search.predict(X_test)\n",
    "print('F1 на тестовом наборе:{:.2f}'.format(metrics.f1_score(y_test, y_test_pred_grid)))\n",
    "print(\"Наилучшие значения гиперпараметров: {}\".format(grid_search.best_params_))"
   ]
  },
  {
   "cell_type": "markdown",
   "metadata": {},
   "source": [
    "Значение метрики f1 повысить не удалось."
   ]
  },
  {
   "cell_type": "markdown",
   "metadata": {},
   "source": [
    "### 3.1.2 RandomizedSearchCV"
   ]
  },
  {
   "cell_type": "code",
   "execution_count": 10,
   "metadata": {},
   "outputs": [],
   "source": [
    "from sklearn.model_selection import RandomizedSearchCV"
   ]
  },
  {
   "cell_type": "code",
   "execution_count": 11,
   "metadata": {},
   "outputs": [
    {
     "name": "stdout",
     "output_type": "stream",
     "text": [
      "CPU times: total: 3.33 s\n",
      "Wall time: 25.9 s\n",
      "F1 на тестовом наборе:0.79\n",
      "Наилучшие значения гиперпараметров: {'solver': 'saga', 'penalty': 'l2', 'C': 0.23}\n"
     ]
    },
    {
     "name": "stderr",
     "output_type": "stream",
     "text": [
      "C:\\Users\\Настенька\\AppData\\Local\\Packages\\PythonSoftwareFoundation.Python.3.11_qbz5n2kfra8p0\\LocalCache\\local-packages\\Python311\\site-packages\\sklearn\\linear_model\\_sag.py:350: ConvergenceWarning: The max_iter was reached which means the coef_ did not converge\n",
      "  warnings.warn(\n"
     ]
    }
   ],
   "source": [
    "# создаем список гиперпараметров\n",
    "param_random = {'penalty':['l2', 'l1'],\n",
    "              'solver': ['liblinear', 'saga'],\n",
    "               'C': list(np.linspace(0.01, 1, 10, dtype=float))\n",
    "               }\n",
    "# Обучаем модель логистической регрессии с RandomizedSearch, делаем предсказание, фиксируем значение F1 и наилучшие значения гиперпараметров\n",
    "random_search = RandomizedSearchCV(\n",
    "    estimator=linear_model.LogisticRegression(\n",
    "        random_state=5,\n",
    "        max_iter=50\n",
    "    ),\n",
    "    param_distributions=param_random,\n",
    "    cv=10,\n",
    "    n_iter=5,\n",
    "    n_jobs=-1\n",
    ")\n",
    "%time random_search.fit(X_train, y_train)\n",
    "y_test_pred_random = random_search.predict(X_test)\n",
    "print('F1 на тестовом наборе:{:.2f}'.format(metrics.f1_score(y_test, y_test_pred_random)))\n",
    "print(\"Наилучшие значения гиперпараметров: {}\".format(random_search.best_params_))"
   ]
  },
  {
   "cell_type": "markdown",
   "metadata": {},
   "source": [
    "Значение метрики f1 повысить не удалось, но времени затрачено намного меньше чем, при использовании GridSearchCV"
   ]
  },
  {
   "cell_type": "markdown",
   "metadata": {},
   "source": [
    "### 3.1.3 Hyperopt"
   ]
  },
  {
   "cell_type": "code",
   "execution_count": 12,
   "metadata": {},
   "outputs": [],
   "source": [
    "from sklearn.model_selection import cross_val_score\n",
    "import hyperopt\n",
    "from hyperopt import hp, fmin, tpe, Trials, space_eval"
   ]
  },
  {
   "cell_type": "code",
   "execution_count": 13,
   "metadata": {},
   "outputs": [],
   "source": [
    "# задаем пространство поиска гиперпараметров\n",
    "space = {'penalty':hp.choice('penalty', ['l2', 'l1']),\n",
    "         'solver':hp.choice('solver', ['liblinear', 'saga']),\n",
    "         'C':hp.uniform('C', 0.1, 1)\n",
    "         }"
   ]
  },
  {
   "cell_type": "code",
   "execution_count": 14,
   "metadata": {},
   "outputs": [],
   "source": [
    "# зафксируем random_state\n",
    "random_state = 5\n",
    "\n",
    "def hyperopt_lr(params, cv=10, X=X_train, y=y_train, random_state=random_state):\n",
    "   \"\"\" Функция, обучающая модель LogisticRegression\n",
    "    по переданным гиперпараметрам\n",
    "    \n",
    "  Args:\n",
    "      params: комбинация гиперпараметров, \n",
    "      cv: количество фолдов кросс-валидации, \n",
    "      X: матрица наблюдений, \n",
    "      y: вектор меток объектов, \n",
    "      random_state: случайное число для воспроизводимости\n",
    "\n",
    "  Returns:\n",
    "      -score: минимизированная метрика f1\n",
    "      \"\"\"\n",
    "    \n",
    "   params = {'penalty': str(params['penalty']), \n",
    "              'solver': str(params['solver']), \n",
    "             'C': float(params['C'])\n",
    "              }\n",
    "   model = linear_model.LogisticRegression(**params, random_state=random_state)\n",
    "   model.fit(X, y)\n",
    "   score = cross_val_score(model, X, y, cv=cv, scoring=\"f1\", n_jobs=-1).mean()\n",
    "   return -score"
   ]
  },
  {
   "cell_type": "code",
   "execution_count": 15,
   "metadata": {},
   "outputs": [
    {
     "name": "stderr",
     "output_type": "stream",
     "text": [
      "TPE is being used as the default algorithm.\n"
     ]
    },
    {
     "name": "stdout",
     "output_type": "stream",
     "text": [
      "  0%|          | 0/50 [00:00<?, ?trial/s, best loss=?]"
     ]
    },
    {
     "name": "stderr",
     "output_type": "stream",
     "text": [
      "C:\\Users\\Настенька\\AppData\\Local\\Packages\\PythonSoftwareFoundation.Python.3.11_qbz5n2kfra8p0\\LocalCache\\local-packages\\Python311\\site-packages\\sklearn\\linear_model\\_sag.py:350: ConvergenceWarning: The max_iter was reached which means the coef_ did not converge\n",
      "  warnings.warn(\n",
      "\n"
     ]
    },
    {
     "name": "stdout",
     "output_type": "stream",
     "text": [
      "  6%|▌         | 3/50 [00:31<06:25,  8.20s/trial, best loss: -0.7875640708986744]"
     ]
    },
    {
     "name": "stderr",
     "output_type": "stream",
     "text": [
      "C:\\Users\\Настенька\\AppData\\Local\\Packages\\PythonSoftwareFoundation.Python.3.11_qbz5n2kfra8p0\\LocalCache\\local-packages\\Python311\\site-packages\\sklearn\\linear_model\\_sag.py:350: ConvergenceWarning: The max_iter was reached which means the coef_ did not converge\n",
      "  warnings.warn(\n",
      "\n"
     ]
    },
    {
     "name": "stdout",
     "output_type": "stream",
     "text": [
      " 16%|█▌        | 8/50 [01:04<03:47,  5.42s/trial, best loss: -0.7875640708986744]"
     ]
    },
    {
     "name": "stderr",
     "output_type": "stream",
     "text": [
      "C:\\Users\\Настенька\\AppData\\Local\\Packages\\PythonSoftwareFoundation.Python.3.11_qbz5n2kfra8p0\\LocalCache\\local-packages\\Python311\\site-packages\\sklearn\\linear_model\\_sag.py:350: ConvergenceWarning: The max_iter was reached which means the coef_ did not converge\n",
      "  warnings.warn(\n",
      "\n"
     ]
    },
    {
     "name": "stdout",
     "output_type": "stream",
     "text": [
      " 20%|██        | 10/50 [01:25<05:00,  7.51s/trial, best loss: -0.7875640708986744]"
     ]
    },
    {
     "name": "stderr",
     "output_type": "stream",
     "text": [
      "C:\\Users\\Настенька\\AppData\\Local\\Packages\\PythonSoftwareFoundation.Python.3.11_qbz5n2kfra8p0\\LocalCache\\local-packages\\Python311\\site-packages\\sklearn\\linear_model\\_sag.py:350: ConvergenceWarning: The max_iter was reached which means the coef_ did not converge\n",
      "  warnings.warn(\n",
      "\n"
     ]
    },
    {
     "name": "stdout",
     "output_type": "stream",
     "text": [
      " 22%|██▏       | 11/50 [01:49<08:02, 12.37s/trial, best loss: -0.7875640708986744]"
     ]
    },
    {
     "name": "stderr",
     "output_type": "stream",
     "text": [
      "C:\\Users\\Настенька\\AppData\\Local\\Packages\\PythonSoftwareFoundation.Python.3.11_qbz5n2kfra8p0\\LocalCache\\local-packages\\Python311\\site-packages\\sklearn\\linear_model\\_sag.py:350: ConvergenceWarning: The max_iter was reached which means the coef_ did not converge\n",
      "  warnings.warn(\n",
      "\n"
     ]
    },
    {
     "name": "stdout",
     "output_type": "stream",
     "text": [
      " 24%|██▍       | 12/50 [02:15<10:27, 16.52s/trial, best loss: -0.7875640708986744]"
     ]
    },
    {
     "name": "stderr",
     "output_type": "stream",
     "text": [
      "C:\\Users\\Настенька\\AppData\\Local\\Packages\\PythonSoftwareFoundation.Python.3.11_qbz5n2kfra8p0\\LocalCache\\local-packages\\Python311\\site-packages\\sklearn\\linear_model\\_sag.py:350: ConvergenceWarning: The max_iter was reached which means the coef_ did not converge\n",
      "  warnings.warn(\n",
      "\n"
     ]
    },
    {
     "name": "stdout",
     "output_type": "stream",
     "text": [
      " 32%|███▏      | 16/50 [02:44<04:45,  8.41s/trial, best loss: -0.7875640708986744]"
     ]
    },
    {
     "name": "stderr",
     "output_type": "stream",
     "text": [
      "C:\\Users\\Настенька\\AppData\\Local\\Packages\\PythonSoftwareFoundation.Python.3.11_qbz5n2kfra8p0\\LocalCache\\local-packages\\Python311\\site-packages\\sklearn\\linear_model\\_sag.py:350: ConvergenceWarning: The max_iter was reached which means the coef_ did not converge\n",
      "  warnings.warn(\n",
      "\n"
     ]
    },
    {
     "name": "stdout",
     "output_type": "stream",
     "text": [
      " 40%|████      | 20/50 [03:13<03:06,  6.20s/trial, best loss: -0.7875640708986744]"
     ]
    },
    {
     "name": "stderr",
     "output_type": "stream",
     "text": [
      "C:\\Users\\Настенька\\AppData\\Local\\Packages\\PythonSoftwareFoundation.Python.3.11_qbz5n2kfra8p0\\LocalCache\\local-packages\\Python311\\site-packages\\sklearn\\linear_model\\_sag.py:350: ConvergenceWarning: The max_iter was reached which means the coef_ did not converge\n",
      "  warnings.warn(\n",
      "\n"
     ]
    },
    {
     "name": "stdout",
     "output_type": "stream",
     "text": [
      " 42%|████▏     | 21/50 [03:31<04:43,  9.77s/trial, best loss: -0.7875640708986744]"
     ]
    },
    {
     "name": "stderr",
     "output_type": "stream",
     "text": [
      "C:\\Users\\Настенька\\AppData\\Local\\Packages\\PythonSoftwareFoundation.Python.3.11_qbz5n2kfra8p0\\LocalCache\\local-packages\\Python311\\site-packages\\sklearn\\linear_model\\_sag.py:350: ConvergenceWarning: The max_iter was reached which means the coef_ did not converge\n",
      "  warnings.warn(\n",
      "\n"
     ]
    },
    {
     "name": "stdout",
     "output_type": "stream",
     "text": [
      " 44%|████▍     | 22/50 [03:54<06:25, 13.75s/trial, best loss: -0.7875640708986744]"
     ]
    },
    {
     "name": "stderr",
     "output_type": "stream",
     "text": [
      "C:\\Users\\Настенька\\AppData\\Local\\Packages\\PythonSoftwareFoundation.Python.3.11_qbz5n2kfra8p0\\LocalCache\\local-packages\\Python311\\site-packages\\sklearn\\linear_model\\_sag.py:350: ConvergenceWarning: The max_iter was reached which means the coef_ did not converge\n",
      "  warnings.warn(\n",
      "\n"
     ]
    },
    {
     "name": "stdout",
     "output_type": "stream",
     "text": [
      " 46%|████▌     | 23/50 [04:19<07:43, 17.17s/trial, best loss: -0.7875640708986744]"
     ]
    },
    {
     "name": "stderr",
     "output_type": "stream",
     "text": [
      "C:\\Users\\Настенька\\AppData\\Local\\Packages\\PythonSoftwareFoundation.Python.3.11_qbz5n2kfra8p0\\LocalCache\\local-packages\\Python311\\site-packages\\sklearn\\linear_model\\_sag.py:350: ConvergenceWarning: The max_iter was reached which means the coef_ did not converge\n",
      "  warnings.warn(\n",
      "\n"
     ]
    },
    {
     "name": "stdout",
     "output_type": "stream",
     "text": [
      " 48%|████▊     | 24/50 [04:37<07:33, 17.43s/trial, best loss: -0.7875640708986744]"
     ]
    },
    {
     "name": "stderr",
     "output_type": "stream",
     "text": [
      "C:\\Users\\Настенька\\AppData\\Local\\Packages\\PythonSoftwareFoundation.Python.3.11_qbz5n2kfra8p0\\LocalCache\\local-packages\\Python311\\site-packages\\sklearn\\linear_model\\_sag.py:350: ConvergenceWarning: The max_iter was reached which means the coef_ did not converge\n",
      "  warnings.warn(\n",
      "\n"
     ]
    },
    {
     "name": "stdout",
     "output_type": "stream",
     "text": [
      " 50%|█████     | 25/50 [04:55<07:20, 17.62s/trial, best loss: -0.7875640708986744]"
     ]
    },
    {
     "name": "stderr",
     "output_type": "stream",
     "text": [
      "C:\\Users\\Настенька\\AppData\\Local\\Packages\\PythonSoftwareFoundation.Python.3.11_qbz5n2kfra8p0\\LocalCache\\local-packages\\Python311\\site-packages\\sklearn\\linear_model\\_sag.py:350: ConvergenceWarning: The max_iter was reached which means the coef_ did not converge\n",
      "  warnings.warn(\n",
      "\n"
     ]
    },
    {
     "name": "stdout",
     "output_type": "stream",
     "text": [
      " 52%|█████▏    | 26/50 [05:18<07:43, 19.33s/trial, best loss: -0.7875640708986744]"
     ]
    },
    {
     "name": "stderr",
     "output_type": "stream",
     "text": [
      "C:\\Users\\Настенька\\AppData\\Local\\Packages\\PythonSoftwareFoundation.Python.3.11_qbz5n2kfra8p0\\LocalCache\\local-packages\\Python311\\site-packages\\sklearn\\linear_model\\_sag.py:350: ConvergenceWarning: The max_iter was reached which means the coef_ did not converge\n",
      "  warnings.warn(\n",
      "\n"
     ]
    },
    {
     "name": "stdout",
     "output_type": "stream",
     "text": [
      " 54%|█████▍    | 27/50 [05:43<08:03, 21.01s/trial, best loss: -0.7875640708986744]"
     ]
    },
    {
     "name": "stderr",
     "output_type": "stream",
     "text": [
      "C:\\Users\\Настенька\\AppData\\Local\\Packages\\PythonSoftwareFoundation.Python.3.11_qbz5n2kfra8p0\\LocalCache\\local-packages\\Python311\\site-packages\\sklearn\\linear_model\\_sag.py:350: ConvergenceWarning: The max_iter was reached which means the coef_ did not converge\n",
      "  warnings.warn(\n",
      "\n"
     ]
    },
    {
     "name": "stdout",
     "output_type": "stream",
     "text": [
      " 56%|█████▌    | 28/50 [06:01<07:21, 20.06s/trial, best loss: -0.7875640708986744]"
     ]
    },
    {
     "name": "stderr",
     "output_type": "stream",
     "text": [
      "C:\\Users\\Настенька\\AppData\\Local\\Packages\\PythonSoftwareFoundation.Python.3.11_qbz5n2kfra8p0\\LocalCache\\local-packages\\Python311\\site-packages\\sklearn\\linear_model\\_sag.py:350: ConvergenceWarning: The max_iter was reached which means the coef_ did not converge\n",
      "  warnings.warn(\n",
      "\n"
     ]
    },
    {
     "name": "stdout",
     "output_type": "stream",
     "text": [
      " 58%|█████▊    | 29/50 [06:24<07:21, 21.03s/trial, best loss: -0.7875640708986744]"
     ]
    },
    {
     "name": "stderr",
     "output_type": "stream",
     "text": [
      "C:\\Users\\Настенька\\AppData\\Local\\Packages\\PythonSoftwareFoundation.Python.3.11_qbz5n2kfra8p0\\LocalCache\\local-packages\\Python311\\site-packages\\sklearn\\linear_model\\_sag.py:350: ConvergenceWarning: The max_iter was reached which means the coef_ did not converge\n",
      "  warnings.warn(\n",
      "\n"
     ]
    },
    {
     "name": "stdout",
     "output_type": "stream",
     "text": [
      " 60%|██████    | 30/50 [06:42<06:42, 20.14s/trial, best loss: -0.7875640708986744]"
     ]
    },
    {
     "name": "stderr",
     "output_type": "stream",
     "text": [
      "C:\\Users\\Настенька\\AppData\\Local\\Packages\\PythonSoftwareFoundation.Python.3.11_qbz5n2kfra8p0\\LocalCache\\local-packages\\Python311\\site-packages\\sklearn\\linear_model\\_sag.py:350: ConvergenceWarning: The max_iter was reached which means the coef_ did not converge\n",
      "  warnings.warn(\n",
      "\n"
     ]
    },
    {
     "name": "stdout",
     "output_type": "stream",
     "text": [
      " 62%|██████▏   | 31/50 [07:07<06:49, 21.53s/trial, best loss: -0.7875640708986744]"
     ]
    },
    {
     "name": "stderr",
     "output_type": "stream",
     "text": [
      "C:\\Users\\Настенька\\AppData\\Local\\Packages\\PythonSoftwareFoundation.Python.3.11_qbz5n2kfra8p0\\LocalCache\\local-packages\\Python311\\site-packages\\sklearn\\linear_model\\_sag.py:350: ConvergenceWarning: The max_iter was reached which means the coef_ did not converge\n",
      "  warnings.warn(\n",
      "\n"
     ]
    },
    {
     "name": "stdout",
     "output_type": "stream",
     "text": [
      " 64%|██████▍   | 32/50 [07:25<06:09, 20.50s/trial, best loss: -0.7875640708986744]"
     ]
    },
    {
     "name": "stderr",
     "output_type": "stream",
     "text": [
      "C:\\Users\\Настенька\\AppData\\Local\\Packages\\PythonSoftwareFoundation.Python.3.11_qbz5n2kfra8p0\\LocalCache\\local-packages\\Python311\\site-packages\\sklearn\\linear_model\\_sag.py:350: ConvergenceWarning: The max_iter was reached which means the coef_ did not converge\n",
      "  warnings.warn(\n",
      "\n"
     ]
    },
    {
     "name": "stdout",
     "output_type": "stream",
     "text": [
      " 66%|██████▌   | 33/50 [07:48<06:01, 21.25s/trial, best loss: -0.7875640708986744]"
     ]
    },
    {
     "name": "stderr",
     "output_type": "stream",
     "text": [
      "C:\\Users\\Настенька\\AppData\\Local\\Packages\\PythonSoftwareFoundation.Python.3.11_qbz5n2kfra8p0\\LocalCache\\local-packages\\Python311\\site-packages\\sklearn\\linear_model\\_sag.py:350: ConvergenceWarning: The max_iter was reached which means the coef_ did not converge\n",
      "  warnings.warn(\n",
      "\n"
     ]
    },
    {
     "name": "stdout",
     "output_type": "stream",
     "text": [
      " 68%|██████▊   | 34/50 [08:06<05:24, 20.26s/trial, best loss: -0.7875640708986744]"
     ]
    },
    {
     "name": "stderr",
     "output_type": "stream",
     "text": [
      "C:\\Users\\Настенька\\AppData\\Local\\Packages\\PythonSoftwareFoundation.Python.3.11_qbz5n2kfra8p0\\LocalCache\\local-packages\\Python311\\site-packages\\sklearn\\linear_model\\_sag.py:350: ConvergenceWarning: The max_iter was reached which means the coef_ did not converge\n",
      "  warnings.warn(\n",
      "\n"
     ]
    },
    {
     "name": "stdout",
     "output_type": "stream",
     "text": [
      " 70%|███████   | 35/50 [08:24<04:53, 19.54s/trial, best loss: -0.7875640708986744]"
     ]
    },
    {
     "name": "stderr",
     "output_type": "stream",
     "text": [
      "C:\\Users\\Настенька\\AppData\\Local\\Packages\\PythonSoftwareFoundation.Python.3.11_qbz5n2kfra8p0\\LocalCache\\local-packages\\Python311\\site-packages\\sklearn\\linear_model\\_sag.py:350: ConvergenceWarning: The max_iter was reached which means the coef_ did not converge\n",
      "  warnings.warn(\n",
      "\n"
     ]
    },
    {
     "name": "stdout",
     "output_type": "stream",
     "text": [
      " 72%|███████▏  | 36/50 [08:49<04:55, 21.09s/trial, best loss: -0.7875640708986744]"
     ]
    },
    {
     "name": "stderr",
     "output_type": "stream",
     "text": [
      "C:\\Users\\Настенька\\AppData\\Local\\Packages\\PythonSoftwareFoundation.Python.3.11_qbz5n2kfra8p0\\LocalCache\\local-packages\\Python311\\site-packages\\sklearn\\linear_model\\_sag.py:350: ConvergenceWarning: The max_iter was reached which means the coef_ did not converge\n",
      "  warnings.warn(\n",
      "\n"
     ]
    },
    {
     "name": "stdout",
     "output_type": "stream",
     "text": [
      " 74%|███████▍  | 37/50 [09:07<04:22, 20.20s/trial, best loss: -0.7875640708986744]"
     ]
    },
    {
     "name": "stderr",
     "output_type": "stream",
     "text": [
      "C:\\Users\\Настенька\\AppData\\Local\\Packages\\PythonSoftwareFoundation.Python.3.11_qbz5n2kfra8p0\\LocalCache\\local-packages\\Python311\\site-packages\\sklearn\\linear_model\\_sag.py:350: ConvergenceWarning: The max_iter was reached which means the coef_ did not converge\n",
      "  warnings.warn(\n",
      "\n"
     ]
    },
    {
     "name": "stdout",
     "output_type": "stream",
     "text": [
      " 76%|███████▌  | 38/50 [09:25<03:55, 19.64s/trial, best loss: -0.7875640708986744]"
     ]
    },
    {
     "name": "stderr",
     "output_type": "stream",
     "text": [
      "C:\\Users\\Настенька\\AppData\\Local\\Packages\\PythonSoftwareFoundation.Python.3.11_qbz5n2kfra8p0\\LocalCache\\local-packages\\Python311\\site-packages\\sklearn\\linear_model\\_sag.py:350: ConvergenceWarning: The max_iter was reached which means the coef_ did not converge\n",
      "  warnings.warn(\n",
      "\n"
     ]
    },
    {
     "name": "stdout",
     "output_type": "stream",
     "text": [
      " 78%|███████▊  | 39/50 [09:48<03:46, 20.61s/trial, best loss: -0.7875640708986744]"
     ]
    },
    {
     "name": "stderr",
     "output_type": "stream",
     "text": [
      "C:\\Users\\Настенька\\AppData\\Local\\Packages\\PythonSoftwareFoundation.Python.3.11_qbz5n2kfra8p0\\LocalCache\\local-packages\\Python311\\site-packages\\sklearn\\linear_model\\_sag.py:350: ConvergenceWarning: The max_iter was reached which means the coef_ did not converge\n",
      "  warnings.warn(\n",
      "\n"
     ]
    },
    {
     "name": "stdout",
     "output_type": "stream",
     "text": [
      " 80%|████████  | 40/50 [10:06<03:18, 19.86s/trial, best loss: -0.7875640708986744]"
     ]
    },
    {
     "name": "stderr",
     "output_type": "stream",
     "text": [
      "C:\\Users\\Настенька\\AppData\\Local\\Packages\\PythonSoftwareFoundation.Python.3.11_qbz5n2kfra8p0\\LocalCache\\local-packages\\Python311\\site-packages\\sklearn\\linear_model\\_sag.py:350: ConvergenceWarning: The max_iter was reached which means the coef_ did not converge\n",
      "  warnings.warn(\n",
      "\n"
     ]
    },
    {
     "name": "stdout",
     "output_type": "stream",
     "text": [
      " 82%|████████▏ | 41/50 [10:24<02:54, 19.35s/trial, best loss: -0.7875640708986744]"
     ]
    },
    {
     "name": "stderr",
     "output_type": "stream",
     "text": [
      "C:\\Users\\Настенька\\AppData\\Local\\Packages\\PythonSoftwareFoundation.Python.3.11_qbz5n2kfra8p0\\LocalCache\\local-packages\\Python311\\site-packages\\sklearn\\linear_model\\_sag.py:350: ConvergenceWarning: The max_iter was reached which means the coef_ did not converge\n",
      "  warnings.warn(\n",
      "\n"
     ]
    },
    {
     "name": "stdout",
     "output_type": "stream",
     "text": [
      " 84%|████████▍ | 42/50 [10:52<02:53, 21.66s/trial, best loss: -0.7875640708986744]"
     ]
    },
    {
     "name": "stderr",
     "output_type": "stream",
     "text": [
      "C:\\Users\\Настенька\\AppData\\Local\\Packages\\PythonSoftwareFoundation.Python.3.11_qbz5n2kfra8p0\\LocalCache\\local-packages\\Python311\\site-packages\\sklearn\\linear_model\\_sag.py:350: ConvergenceWarning: The max_iter was reached which means the coef_ did not converge\n",
      "  warnings.warn(\n",
      "\n"
     ]
    },
    {
     "name": "stdout",
     "output_type": "stream",
     "text": [
      " 88%|████████▊ | 44/50 [11:14<01:34, 15.77s/trial, best loss: -0.7875640708986744]"
     ]
    },
    {
     "name": "stderr",
     "output_type": "stream",
     "text": [
      "C:\\Users\\Настенька\\AppData\\Local\\Packages\\PythonSoftwareFoundation.Python.3.11_qbz5n2kfra8p0\\LocalCache\\local-packages\\Python311\\site-packages\\sklearn\\linear_model\\_sag.py:350: ConvergenceWarning: The max_iter was reached which means the coef_ did not converge\n",
      "  warnings.warn(\n",
      "\n"
     ]
    },
    {
     "name": "stdout",
     "output_type": "stream",
     "text": [
      " 92%|█████████▏| 46/50 [11:34<00:47, 11.97s/trial, best loss: -0.7879700695936037]"
     ]
    },
    {
     "name": "stderr",
     "output_type": "stream",
     "text": [
      "C:\\Users\\Настенька\\AppData\\Local\\Packages\\PythonSoftwareFoundation.Python.3.11_qbz5n2kfra8p0\\LocalCache\\local-packages\\Python311\\site-packages\\sklearn\\linear_model\\_sag.py:350: ConvergenceWarning: The max_iter was reached which means the coef_ did not converge\n",
      "  warnings.warn(\n",
      "\n"
     ]
    },
    {
     "name": "stdout",
     "output_type": "stream",
     "text": [
      " 94%|█████████▍| 47/50 [11:58<00:47, 15.78s/trial, best loss: -0.7879700695936037]"
     ]
    },
    {
     "name": "stderr",
     "output_type": "stream",
     "text": [
      "C:\\Users\\Настенька\\AppData\\Local\\Packages\\PythonSoftwareFoundation.Python.3.11_qbz5n2kfra8p0\\LocalCache\\local-packages\\Python311\\site-packages\\sklearn\\linear_model\\_sag.py:350: ConvergenceWarning: The max_iter was reached which means the coef_ did not converge\n",
      "  warnings.warn(\n",
      "\n"
     ]
    },
    {
     "name": "stdout",
     "output_type": "stream",
     "text": [
      " 98%|█████████▊| 49/50 [12:20<00:12, 12.45s/trial, best loss: -0.7879700695936037]"
     ]
    },
    {
     "name": "stderr",
     "output_type": "stream",
     "text": [
      "C:\\Users\\Настенька\\AppData\\Local\\Packages\\PythonSoftwareFoundation.Python.3.11_qbz5n2kfra8p0\\LocalCache\\local-packages\\Python311\\site-packages\\sklearn\\linear_model\\_sag.py:350: ConvergenceWarning: The max_iter was reached which means the coef_ did not converge\n",
      "  warnings.warn(\n",
      "\n"
     ]
    },
    {
     "name": "stdout",
     "output_type": "stream",
     "text": [
      "100%|██████████| 50/50 [12:38<00:00, 15.16s/trial, best loss: -0.7879700695936037]\n",
      "Наилучшие значения гиперпараметров {'C': 0.10059073210640976, 'penalty': 'l2', 'solver': 'saga'}\n",
      "CPU times: total: 3min 23s\n",
      "Wall time: 12min 38s\n"
     ]
    }
   ],
   "source": [
    "%%time\n",
    "# подбор гиперпараметров\n",
    "best = fmin(hyperopt_lr,\n",
    "            space=space,\n",
    "            max_evals=50,\n",
    "            rstate=np.random.default_rng(random_state))\n",
    "print('Наилучшие значения гиперпараметров {}'.format(space_eval(space, best)))"
   ]
  },
  {
   "cell_type": "code",
   "execution_count": 17,
   "metadata": {},
   "outputs": [
    {
     "name": "stdout",
     "output_type": "stream",
     "text": [
      "f1_score: 0.79\n"
     ]
    }
   ],
   "source": [
    "# обучаем модель с подобранными гиперпараметрами, делаем предсказание\n",
    "model_ho = linear_model.LogisticRegression(\n",
    "    penalty=space_eval(space, best)['penalty'],\n",
    "    solver=space_eval(space, best)['solver'],\n",
    "    C = float(best['C']),\n",
    "    random_state=random_state,\n",
    "    max_iter=50\n",
    ")\n",
    "score_ho = cross_val_score(model_ho, X, y, cv=10, scoring=\"f1\", n_jobs=-1).mean()\n",
    "print('f1_score: {:.2f}'.format(score_ho))"
   ]
  },
  {
   "cell_type": "markdown",
   "metadata": {},
   "source": [
    "Значение метрики f1 не изменилось."
   ]
  },
  {
   "cell_type": "markdown",
   "metadata": {},
   "source": [
    "### 3.1.4 Optuna"
   ]
  },
  {
   "cell_type": "code",
   "execution_count": 18,
   "metadata": {},
   "outputs": [],
   "source": [
    "import optuna"
   ]
  },
  {
   "cell_type": "code",
   "execution_count": 19,
   "metadata": {},
   "outputs": [],
   "source": [
    "def optuna_lr(trial):\n",
    "  \n",
    "  \"\"\"Функция, обучающая модель LogisticRegression\n",
    "    по переданным гиперпараметрам\n",
    "\n",
    "  Args:\n",
    "      trial : класс, от которого вызываются гиперпараметры\n",
    "\n",
    "  Returns:\n",
    "      score(float): метрика F1\n",
    "      \"\"\"\n",
    "      \n",
    "  penalty = trial.suggest_categorical('penalty', ['l2', 'l1'])\n",
    "  solver = trial.suggest_categorical('solver', ['liblinear', 'saga'])\n",
    "  C = trial.suggest_float('C', 0.1, 1)\n",
    "\n",
    "  # создаем модель\n",
    "  model = linear_model.LogisticRegression(penalty=penalty,\n",
    "                                          solver=solver,\n",
    "                                          C=C,\n",
    "                                          random_state=random_state,\n",
    "                                          max_iter=50)\n",
    "  # обучаем модель\n",
    "  score = cross_val_score(model, X, y, cv=10, scoring=\"f1\", n_jobs=-1).mean()\n",
    "  \n",
    "  return score"
   ]
  },
  {
   "cell_type": "code",
   "execution_count": 20,
   "metadata": {},
   "outputs": [
    {
     "name": "stderr",
     "output_type": "stream",
     "text": [
      "[I 2024-05-16 13:38:01,184] A new study created in memory with name: LogisticRegression\n"
     ]
    },
    {
     "name": "stderr",
     "output_type": "stream",
     "text": [
      "[I 2024-05-16 13:38:10,264] Trial 0 finished with value: 0.7830050428030485 and parameters: {'penalty': 'l2', 'solver': 'saga', 'C': 0.6518740373151405}. Best is trial 0 with value: 0.7830050428030485.\n",
      "[I 2024-05-16 13:38:14,374] Trial 1 finished with value: 0.7800079997855309 and parameters: {'penalty': 'l2', 'solver': 'liblinear', 'C': 0.37101311805523896}. Best is trial 0 with value: 0.7830050428030485.\n",
      "[I 2024-05-16 13:38:23,552] Trial 2 finished with value: 0.7820826804402795 and parameters: {'penalty': 'l2', 'solver': 'saga', 'C': 0.9689863556958274}. Best is trial 0 with value: 0.7830050428030485.\n",
      "[I 2024-05-16 13:38:26,368] Trial 3 finished with value: 0.7891179825772263 and parameters: {'penalty': 'l1', 'solver': 'liblinear', 'C': 0.312443325704164}. Best is trial 3 with value: 0.7891179825772263.\n",
      "[I 2024-05-16 13:38:29,700] Trial 4 finished with value: 0.7854164198778688 and parameters: {'penalty': 'l1', 'solver': 'liblinear', 'C': 0.8014738218507977}. Best is trial 3 with value: 0.7891179825772263.\n",
      "[I 2024-05-16 13:38:33,441] Trial 5 finished with value: 0.784108116244058 and parameters: {'penalty': 'l2', 'solver': 'liblinear', 'C': 0.27235666737371156}. Best is trial 3 with value: 0.7891179825772263.\n",
      "[I 2024-05-16 13:38:36,871] Trial 6 finished with value: 0.7862954444661218 and parameters: {'penalty': 'l2', 'solver': 'liblinear', 'C': 0.16197983717543846}. Best is trial 3 with value: 0.7891179825772263.\n",
      "[I 2024-05-16 13:38:40,532] Trial 7 finished with value: 0.780443959685699 and parameters: {'penalty': 'l1', 'solver': 'liblinear', 'C': 0.8970006848556829}. Best is trial 3 with value: 0.7891179825772263.\n",
      "[I 2024-05-16 13:38:42,649] Trial 8 finished with value: 0.7840420284179231 and parameters: {'penalty': 'l1', 'solver': 'liblinear', 'C': 0.14536772498291575}. Best is trial 3 with value: 0.7891179825772263.\n",
      "[I 2024-05-16 13:38:47,500] Trial 9 finished with value: 0.7803793372350138 and parameters: {'penalty': 'l2', 'solver': 'liblinear', 'C': 0.7562840293520277}. Best is trial 3 with value: 0.7891179825772263.\n",
      "[I 2024-05-16 13:39:00,790] Trial 10 finished with value: 0.7860514191617856 and parameters: {'penalty': 'l1', 'solver': 'saga', 'C': 0.4711079387145044}. Best is trial 3 with value: 0.7891179825772263.\n",
      "[I 2024-05-16 13:39:02,558] Trial 11 finished with value: 0.7851480168178739 and parameters: {'penalty': 'l1', 'solver': 'liblinear', 'C': 0.10988718562760269}. Best is trial 3 with value: 0.7891179825772263.\n",
      "[I 2024-05-16 13:39:06,634] Trial 12 finished with value: 0.7832314550611577 and parameters: {'penalty': 'l2', 'solver': 'liblinear', 'C': 0.2851900161755997}. Best is trial 3 with value: 0.7891179825772263.\n",
      "[I 2024-05-16 13:39:10,044] Trial 13 finished with value: 0.7859594330324047 and parameters: {'penalty': 'l1', 'solver': 'liblinear', 'C': 0.5300709608432008}. Best is trial 3 with value: 0.7891179825772263.\n",
      "[I 2024-05-16 13:39:18,789] Trial 14 finished with value: 0.7863614840278678 and parameters: {'penalty': 'l2', 'solver': 'saga', 'C': 0.25285058753278566}. Best is trial 3 with value: 0.7891179825772263.\n",
      "[I 2024-05-16 13:39:32,369] Trial 15 finished with value: 0.7874329549573369 and parameters: {'penalty': 'l1', 'solver': 'saga', 'C': 0.4135021054207226}. Best is trial 3 with value: 0.7891179825772263.\n",
      "[I 2024-05-16 13:39:45,393] Trial 16 finished with value: 0.7872348850036744 and parameters: {'penalty': 'l1', 'solver': 'saga', 'C': 0.4168336869604638}. Best is trial 3 with value: 0.7891179825772263.\n",
      "[I 2024-05-16 13:39:59,028] Trial 17 finished with value: 0.7852040663699703 and parameters: {'penalty': 'l1', 'solver': 'saga', 'C': 0.6182339282481886}. Best is trial 3 with value: 0.7891179825772263.\n",
      "[I 2024-05-16 13:40:11,471] Trial 18 finished with value: 0.7883594740456775 and parameters: {'penalty': 'l1', 'solver': 'saga', 'C': 0.34402620914973503}. Best is trial 3 with value: 0.7891179825772263.\n",
      "[I 2024-05-16 13:40:23,809] Trial 19 finished with value: 0.7882931834171892 and parameters: {'penalty': 'l1', 'solver': 'saga', 'C': 0.35345606051512424}. Best is trial 3 with value: 0.7891179825772263.\n",
      "[I 2024-05-16 13:40:36,912] Trial 20 finished with value: 0.7853938143497381 and parameters: {'penalty': 'l1', 'solver': 'saga', 'C': 0.5223911721947709}. Best is trial 3 with value: 0.7891179825772263.\n",
      "[I 2024-05-16 13:40:49,357] Trial 21 finished with value: 0.7880648828357069 and parameters: {'penalty': 'l1', 'solver': 'saga', 'C': 0.33966130861335175}. Best is trial 3 with value: 0.7891179825772263.\n",
      "[I 2024-05-16 13:41:01,392] Trial 22 finished with value: 0.7857397453338918 and parameters: {'penalty': 'l1', 'solver': 'saga', 'C': 0.20746479287188693}. Best is trial 3 with value: 0.7891179825772263.\n",
      "[I 2024-05-16 13:41:13,759] Trial 23 finished with value: 0.787658505244483 and parameters: {'penalty': 'l1', 'solver': 'saga', 'C': 0.31891086274836705}. Best is trial 3 with value: 0.7891179825772263.\n",
      "[I 2024-05-16 13:41:26,708] Trial 24 finished with value: 0.7864012060568655 and parameters: {'penalty': 'l1', 'solver': 'saga', 'C': 0.45377199375896965}. Best is trial 3 with value: 0.7891179825772263.\n",
      "[I 2024-05-16 13:41:38,366] Trial 25 finished with value: 0.7862197561802926 and parameters: {'penalty': 'l1', 'solver': 'saga', 'C': 0.21297785774375452}. Best is trial 3 with value: 0.7891179825772263.\n",
      "[I 2024-05-16 13:41:51,591] Trial 26 finished with value: 0.7858847940739351 and parameters: {'penalty': 'l1', 'solver': 'saga', 'C': 0.5858797473643289}. Best is trial 3 with value: 0.7891179825772263.\n",
      "[I 2024-05-16 13:42:04,481] Trial 27 finished with value: 0.7878167108545346 and parameters: {'penalty': 'l1', 'solver': 'saga', 'C': 0.36119158756947944}. Best is trial 3 with value: 0.7891179825772263.\n",
      "[I 2024-05-16 13:42:06,468] Trial 28 finished with value: 0.7869013862673373 and parameters: {'penalty': 'l1', 'solver': 'liblinear', 'C': 0.21699177599221642}. Best is trial 3 with value: 0.7891179825772263.\n",
      "[I 2024-05-16 13:42:20,009] Trial 29 finished with value: 0.7858965446987372 and parameters: {'penalty': 'l1', 'solver': 'saga', 'C': 0.6706298062836941}. Best is trial 3 with value: 0.7891179825772263.\n",
      "[I 2024-05-16 13:42:33,020] Trial 30 finished with value: 0.78567611703373 and parameters: {'penalty': 'l1', 'solver': 'saga', 'C': 0.47973763107667217}. Best is trial 3 with value: 0.7891179825772263.\n",
      "[I 2024-05-16 13:42:45,313] Trial 31 finished with value: 0.788553891873027 and parameters: {'penalty': 'l1', 'solver': 'saga', 'C': 0.3494569061746716}. Best is trial 3 with value: 0.7891179825772263.\n",
      "[I 2024-05-16 13:42:57,876] Trial 32 finished with value: 0.787814987467385 and parameters: {'penalty': 'l1', 'solver': 'saga', 'C': 0.3785242478343215}. Best is trial 3 with value: 0.7891179825772263.\n",
      "[I 2024-05-16 13:43:09,930] Trial 33 finished with value: 0.7868144511959713 and parameters: {'penalty': 'l1', 'solver': 'saga', 'C': 0.28622244418485276}. Best is trial 3 with value: 0.7891179825772263.\n",
      "[I 2024-05-16 13:43:22,620] Trial 34 finished with value: 0.7877244521716578 and parameters: {'penalty': 'l1', 'solver': 'saga', 'C': 0.40514258377866363}. Best is trial 3 with value: 0.7891179825772263.\n",
      "[I 2024-05-16 13:43:34,778] Trial 35 finished with value: 0.7881500990194232 and parameters: {'penalty': 'l1', 'solver': 'saga', 'C': 0.3142136478098816}. Best is trial 3 with value: 0.7891179825772263.\n",
      "[I 2024-05-16 13:43:38,845] Trial 36 finished with value: 0.7807957623701943 and parameters: {'penalty': 'l2', 'solver': 'liblinear', 'C': 0.352354086502052}. Best is trial 3 with value: 0.7891179825772263.\n",
      "[I 2024-05-16 13:43:41,260] Trial 37 finished with value: 0.7868272258062524 and parameters: {'penalty': 'l1', 'solver': 'liblinear', 'C': 0.2422627838231452}. Best is trial 3 with value: 0.7891179825772263.\n",
      "[I 2024-05-16 13:43:54,230] Trial 38 finished with value: 0.785812760828648 and parameters: {'penalty': 'l1', 'solver': 'saga', 'C': 0.45509199544251844}. Best is trial 3 with value: 0.7891179825772263.\n",
      "[I 2024-05-16 13:43:57,638] Trial 39 finished with value: 0.7864072888424538 and parameters: {'penalty': 'l2', 'solver': 'liblinear', 'C': 0.17386917655621276}. Best is trial 3 with value: 0.7891179825772263.\n",
      "[I 2024-05-16 13:43:59,266] Trial 40 finished with value: 0.7858754988062697 and parameters: {'penalty': 'l1', 'solver': 'liblinear', 'C': 0.104595073197218}. Best is trial 3 with value: 0.7891179825772263.\n",
      "[I 2024-05-16 13:44:11,650] Trial 41 finished with value: 0.7879462717425245 and parameters: {'penalty': 'l1', 'solver': 'saga', 'C': 0.31979503200433945}. Best is trial 3 with value: 0.7891179825772263.\n",
      "[I 2024-05-16 13:44:23,714] Trial 42 finished with value: 0.7874893432790698 and parameters: {'penalty': 'l1', 'solver': 'saga', 'C': 0.3051485317723891}. Best is trial 3 with value: 0.7891179825772263.\n",
      "[I 2024-05-16 13:44:36,611] Trial 43 finished with value: 0.787820460109916 and parameters: {'penalty': 'l1', 'solver': 'saga', 'C': 0.383342208690964}. Best is trial 3 with value: 0.7891179825772263.\n",
      "[I 2024-05-16 13:44:48,634] Trial 44 finished with value: 0.7866888082412201 and parameters: {'penalty': 'l1', 'solver': 'saga', 'C': 0.26135112194171656}. Best is trial 3 with value: 0.7891179825772263.\n",
      "[I 2024-05-16 13:44:57,407] Trial 45 finished with value: 0.782279477897803 and parameters: {'penalty': 'l2', 'solver': 'saga', 'C': 0.9851445866362323}. Best is trial 3 with value: 0.7891179825772263.\n",
      "[I 2024-05-16 13:45:00,799] Trial 46 finished with value: 0.7844697022487381 and parameters: {'penalty': 'l1', 'solver': 'liblinear', 'C': 0.49500466710456814}. Best is trial 3 with value: 0.7891179825772263.\n",
      "[I 2024-05-16 13:45:12,225] Trial 47 finished with value: 0.7850980999722544 and parameters: {'penalty': 'l1', 'solver': 'saga', 'C': 0.160638366286264}. Best is trial 3 with value: 0.7891179825772263.\n",
      "[I 2024-05-16 13:45:15,567] Trial 48 finished with value: 0.788454302011335 and parameters: {'penalty': 'l1', 'solver': 'liblinear', 'C': 0.4087192407381867}. Best is trial 3 with value: 0.7891179825772263.\n",
      "[I 2024-05-16 13:45:19,707] Trial 49 finished with value: 0.7785192065088973 and parameters: {'penalty': 'l2', 'solver': 'liblinear', 'C': 0.432933808061583}. Best is trial 3 with value: 0.7891179825772263.\n"
     ]
    },
    {
     "name": "stdout",
     "output_type": "stream",
     "text": [
      "Наилучшие значения гиперпараметров {'penalty': 'l1', 'solver': 'liblinear', 'C': 0.312443325704164}\n",
      "CPU times: total: 12.1 s\n",
      "Wall time: 7min 18s\n"
     ]
    }
   ],
   "source": [
    "%%time\n",
    "# создаем объект исследования и ищем лучшую комбинацию гиперпараметров\n",
    "study = optuna.create_study(study_name = 'LogisticRegression', direction = 'maximize')\n",
    "study.optimize(optuna_lr, n_trials = 50)\n",
    "print(\"Наилучшие значения гиперпараметров {}\".format(study.best_params))"
   ]
  },
  {
   "cell_type": "code",
   "execution_count": 25,
   "metadata": {},
   "outputs": [
    {
     "name": "stdout",
     "output_type": "stream",
     "text": [
      "f1_score: 0.79\n"
     ]
    }
   ],
   "source": [
    "# Обучаем модель и делаем предсказание\n",
    "model_opt = linear_model.LogisticRegression(**study.best_params, random_state = random_state)\n",
    "score_opt = cross_val_score(model_opt, X, y, cv=10, scoring=\"f1\", n_jobs=-1).mean()\n",
    "print('f1_score: {:.2f}'.format(score_opt ))"
   ]
  },
  {
   "cell_type": "markdown",
   "metadata": {},
   "source": [
    "Значение метрики f1 не изменилось."
   ]
  },
  {
   "cell_type": "markdown",
   "metadata": {},
   "source": [
    "Все представленные модели показали одинаковое значение метрики F1 - 0.79 - такое же, как при построении модели Логистической регрессии с параметрами по умолчанию. В данном случае подбор гиперпараметров раздичными способами не привел к увеличению метрики."
   ]
  },
  {
   "cell_type": "markdown",
   "metadata": {},
   "source": [
    "### 3.2 Случайный лес"
   ]
  },
  {
   "cell_type": "code",
   "execution_count": 22,
   "metadata": {},
   "outputs": [
    {
     "name": "stdout",
     "output_type": "stream",
     "text": [
      "f1_score на тестовом наборе: 0.83\n"
     ]
    }
   ],
   "source": [
    "# Обучаем модель случайный лес, делаем предсказание на тестовой выборке, фиксируем значение F1\n",
    "model_rf = ensemble.RandomForestClassifier(random_state=5)\n",
    "model_rf.fit(X_train, y_train)\n",
    "y_test_pred_rf = model_rf.predict(X_test)\n",
    "print('f1_score на тестовом наборе: {:.2f}'.format(metrics.f1_score(y_test, y_test_pred_rf)))"
   ]
  },
  {
   "cell_type": "markdown",
   "metadata": {},
   "source": [
    "По сравнению с логистической регрессией метрика F1 улучшилась при использовании случайного леса, даже без подбора гиперпараметров."
   ]
  },
  {
   "cell_type": "code",
   "execution_count": 23,
   "metadata": {},
   "outputs": [
    {
     "name": "stdout",
     "output_type": "stream",
     "text": [
      "Среднее значение F1 на тестовой выборке:0.81\n"
     ]
    }
   ],
   "source": [
    "# Обучаем модель случайный лес с кросс-валидацией, делаем предсказание на тестовой выборке, фиксируем значение F1\n",
    "model_rf_cross = ensemble.RandomForestClassifier(random_state=5)\n",
    "kf = model_selection.KFold(n_splits=10)\n",
    "cv_rf_metrics = model_selection.cross_validate(\n",
    "    estimator=model_rf_cross,\n",
    "    X=X,\n",
    "    y=y,\n",
    "    cv=kf,\n",
    "    scoring='f1'\n",
    ")\n",
    "print('Среднее значение F1 на тестовой выборке:{:.2f}'.format(np.mean(cv_rf_metrics['test_score'])))"
   ]
  },
  {
   "cell_type": "markdown",
   "metadata": {},
   "source": [
    "Использование кросс-валидации не помогло уведичить значение метрики f1."
   ]
  },
  {
   "cell_type": "markdown",
   "metadata": {},
   "source": [
    "#### 3.2.1 GridSearchCV"
   ]
  },
  {
   "cell_type": "code",
   "execution_count": 26,
   "metadata": {},
   "outputs": [
    {
     "name": "stdout",
     "output_type": "stream",
     "text": [
      "CPU times: total: 41.5 s\n",
      "Wall time: 19min 55s\n",
      "F1 на тестовом наборе:0.84\n",
      "Наилучшие значения гиперпараметров: {'criterion': 'entropy', 'max_depth': 30, 'min_samples_leaf': 2, 'n_estimators': 180}\n"
     ]
    }
   ],
   "source": [
    "# создаем список гиперпараметров\n",
    "param_grid_rf = {'n_estimators':list(range(60, 200, 20)),\n",
    "               'criterion':['entropy','gini'],\n",
    "               'max_depth': list(np.linspace(5, 30, 5, dtype=int)),\n",
    "               'min_samples_leaf': list(range(2, 10, 2))\n",
    "               }\n",
    "\n",
    "\n",
    "# Обучаем модель слуйчайного леса с GridSearch, делаем предсказание, фиксируем значение F1 и наилучшие значения гиперпараметров\n",
    "grid_search_rf = GridSearchCV(\n",
    "    estimator=ensemble.RandomForestClassifier(random_state=5),\n",
    "    param_grid=param_grid_rf,\n",
    "    cv=10,\n",
    "    n_jobs=-1\n",
    ")\n",
    "%time grid_search_rf.fit(X_train, y_train)\n",
    "y_test_pred_grid_rf = grid_search_rf.predict(X_test)\n",
    "print('F1 на тестовом наборе:{:.2f}'.format(metrics.f1_score(y_test, y_test_pred_grid_rf)))\n",
    "print(\"Наилучшие значения гиперпараметров: {}\".format(grid_search_rf.best_params_))"
   ]
  },
  {
   "cell_type": "markdown",
   "metadata": {},
   "source": [
    "F1 при использовании GridSearchCV удалось немного повысить, при этом было затрачено в разы больше времени."
   ]
  },
  {
   "cell_type": "markdown",
   "metadata": {},
   "source": [
    "### 3.2.2 RandomizedSearchCV"
   ]
  },
  {
   "cell_type": "code",
   "execution_count": 27,
   "metadata": {},
   "outputs": [
    {
     "name": "stdout",
     "output_type": "stream",
     "text": [
      "CPU times: total: 1.77 s\n",
      "Wall time: 26 s\n",
      "F1 на тестовом наборе:0.83\n",
      "Наилучшие значения гиперпараметров: {'n_estimators': 60, 'min_samples_leaf': 6, 'max_depth': 30, 'criterion': 'entropy'}\n"
     ]
    }
   ],
   "source": [
    "# создаем список гиперпараметров\n",
    "param_random_rf = {'n_estimators':list(range(60, 200, 20)),\n",
    "               'criterion':['entropy','gini'],\n",
    "               'max_depth': list(np.linspace(5, 30, 5, dtype=int)),\n",
    "               'min_samples_leaf': list(range(2, 10, 2))\n",
    "               }\n",
    "# Обучаем модель логистической регрессии с RandomizedSearch, делаем предсказание, фиксируем значение F1 и наилучшие значения гиперпараметров\n",
    "random_search_rf = RandomizedSearchCV(\n",
    "    estimator=ensemble.RandomForestClassifier(random_state=5),\n",
    "    param_distributions=param_random_rf,\n",
    "    cv=10,\n",
    "    n_iter=5,\n",
    "    n_jobs=-1\n",
    ")\n",
    "%time random_search_rf.fit(X_train, y_train)\n",
    "y_test_pred_random_rf = random_search_rf.predict(X_test)\n",
    "print('F1 на тестовом наборе:{:.2f}'.format(metrics.f1_score(y_test, y_test_pred_random_rf)))\n",
    "print(\"Наилучшие значения гиперпараметров: {}\".format(random_search_rf.best_params_))"
   ]
  },
  {
   "cell_type": "markdown",
   "metadata": {},
   "source": [
    "Значение метрики f1 повысить не удалось."
   ]
  },
  {
   "cell_type": "markdown",
   "metadata": {},
   "source": [
    "### 3.2.3 Hyperopt"
   ]
  },
  {
   "cell_type": "code",
   "execution_count": 28,
   "metadata": {},
   "outputs": [],
   "source": [
    "# зададим пространство поиска гиперпараметров\n",
    "space_rf={'n_estimators': hp.quniform('n_estimators', 60, 200, 2),\n",
    "       'max_depth' : hp.quniform('max_depth', 5, 30, 2),\n",
    "       'min_samples_leaf': hp.quniform('min_samples_leaf', 2, 10, 1),\n",
    "       'criterion': hp.choice('criterion', ['entropy','gini'])\n",
    "      }"
   ]
  },
  {
   "cell_type": "code",
   "execution_count": 29,
   "metadata": {},
   "outputs": [],
   "source": [
    "# зафксируем random_state\n",
    "random_state = 5\n",
    "\n",
    "def hyperopt_rf(params, cv=10, X=X_train, y=y_train, random_state=random_state):\n",
    "    \"\"\" Функция, обучающая модель RandomForestClassifier\n",
    "    по переданным гиперпараметрам\n",
    "    \n",
    "  Args:\n",
    "      params: комбинация гиперпараметров, \n",
    "      cv: количество фолдов кросс-валидации, \n",
    "      X: матрица наблюдений, \n",
    "      y: вектор меток объектов, \n",
    "      random_state: случайное число для воспроизводимости\n",
    "\n",
    "  Returns:\n",
    "      -score: минимизированная метрика f1\n",
    "      \"\"\"\n",
    "    \n",
    "    params = {'n_estimators': int(params['n_estimators']), \n",
    "              'max_depth': int(params['max_depth']), \n",
    "             'min_samples_leaf': int(params['min_samples_leaf']),\n",
    "             'criterion': str(params['criterion'])\n",
    "              }\n",
    "  \n",
    "    # используем эту комбинацию для построения модели\n",
    "    model = ensemble.RandomForestClassifier(**params, random_state=random_state)\n",
    "\n",
    "    # обучаем модель с помощью кросс-валидации\n",
    "    model.fit(X, y)\n",
    "    score = cross_val_score(model, X, y, cv=cv, scoring=\"f1\", n_jobs=-1).mean()\n",
    "\n",
    "    # метрику необходимо минимизировать, поэтому ставим знак минус\n",
    "    return -score"
   ]
  },
  {
   "cell_type": "code",
   "execution_count": 30,
   "metadata": {},
   "outputs": [
    {
     "name": "stderr",
     "output_type": "stream",
     "text": [
      "TPE is being used as the default algorithm.\n"
     ]
    },
    {
     "name": "stdout",
     "output_type": "stream",
     "text": [
      "CPU times: total: 0 ns\n",
      "Wall time: 0 ns\n",
      "100%|██████████| 50/50 [07:04<00:00,  8.48s/trial, best loss: -0.821904169192593] \n",
      "Наилучшие значения гиперпараметров {'criterion': 'gini', 'max_depth': 28.0, 'min_samples_leaf': 2.0, 'n_estimators': 138.0}\n"
     ]
    }
   ],
   "source": [
    "%time\n",
    "# подбор гиперпараметров\n",
    "best_rf = fmin(hyperopt_rf,\n",
    "            space=space_rf,\n",
    "            max_evals=50,\n",
    "            rstate=np.random.default_rng(random_state))\n",
    "print('Наилучшие значения гиперпараметров {}'.format(space_eval(space_rf, best_rf)))"
   ]
  },
  {
   "cell_type": "code",
   "execution_count": 31,
   "metadata": {},
   "outputs": [
    {
     "name": "stdout",
     "output_type": "stream",
     "text": [
      "f1_score: 0.82\n"
     ]
    }
   ],
   "source": [
    "# обучаем модель с подобранными гиперпараметрами, делаем предсказание\n",
    "model_ho_rf = ensemble.RandomForestClassifier(\n",
    "    n_estimators=int(best_rf['n_estimators']),\n",
    "    max_depth=int(best_rf['max_depth']),\n",
    "    min_samples_leaf = int(best_rf['min_samples_leaf']),\n",
    "    criterion=space_eval(space_rf, best_rf)['criterion'],\n",
    "    random_state=random_state\n",
    ")\n",
    "score_rf_ho_rf = cross_val_score(model_ho_rf, X, y, cv=10, scoring=\"f1\", n_jobs=-1).mean()\n",
    "print('f1_score: {:.2f}'.format(score_rf_ho_rf))"
   ]
  },
  {
   "cell_type": "markdown",
   "metadata": {},
   "source": [
    "F1 при использовании hyperopt улучшить не удалось."
   ]
  },
  {
   "cell_type": "markdown",
   "metadata": {},
   "source": [
    "### 3.2.4 Optuna"
   ]
  },
  {
   "cell_type": "code",
   "execution_count": 32,
   "metadata": {},
   "outputs": [],
   "source": [
    "def optuna_rf(trial):\n",
    "  \n",
    "  \"\"\"Функция, обучающая модель RandomForestClassifier\n",
    "    по переданным гиперпараметрам\n",
    "\n",
    "  Args:\n",
    "      trial : класс, от которого вызываются гиперпараметры\n",
    "\n",
    "  Returns:\n",
    "      score(float): метрика F1\n",
    "      \"\"\"\n",
    "  \n",
    "  n_estimators = trial.suggest_int('n_estimators', 60, 200, 2)\n",
    "  max_depth = trial.suggest_int('max_depth', 5, 30, 2)\n",
    "  min_samples_leaf = trial.suggest_int('min_samples_leaf', 2, 10, 1)\n",
    "  criterion = trial.suggest_categorical('criterion', ['entropy','gini'])\n",
    "\n",
    "  # создаем модель\n",
    "  model = ensemble.RandomForestClassifier(n_estimators=n_estimators,\n",
    "                                          max_depth=max_depth,\n",
    "                                          min_samples_leaf=min_samples_leaf,\n",
    "                                          random_state=random_state)\n",
    "  # обучаем модель\n",
    "  model.fit(X_train, y_train)\n",
    "  score = cross_val_score(model, X, y, cv=10, scoring=\"f1\", n_jobs=-1).mean()\n",
    "\n",
    "  return score"
   ]
  },
  {
   "cell_type": "code",
   "execution_count": 33,
   "metadata": {},
   "outputs": [
    {
     "name": "stderr",
     "output_type": "stream",
     "text": [
      "[I 2024-05-16 14:39:57,050] A new study created in memory with name: RandomForestClassifier\n"
     ]
    },
    {
     "name": "stdout",
     "output_type": "stream",
     "text": [
      "CPU times: total: 0 ns\n",
      "Wall time: 0 ns\n"
     ]
    },
    {
     "name": "stderr",
     "output_type": "stream",
     "text": [
      "C:\\Users\\Настенька\\AppData\\Local\\Temp\\ipykernel_12180\\2944656874.py:13: FutureWarning: suggest_int() got {'step'} as positional arguments but they were expected to be given as keyword arguments.\n",
      "  n_estimators = trial.suggest_int('n_estimators', 60, 200, 2)\n",
      "C:\\Users\\Настенька\\AppData\\Local\\Temp\\ipykernel_12180\\2944656874.py:14: FutureWarning: suggest_int() got {'step'} as positional arguments but they were expected to be given as keyword arguments.\n",
      "  max_depth = trial.suggest_int('max_depth', 5, 30, 2)\n",
      "C:\\Users\\Настенька\\AppData\\Local\\Packages\\PythonSoftwareFoundation.Python.3.11_qbz5n2kfra8p0\\LocalCache\\local-packages\\Python311\\site-packages\\optuna\\distributions.py:700: UserWarning: The distribution is specified by [5, 30] and step=2, but the range is not divisible by `step`. It will be replaced by [5, 29].\n",
      "  warnings.warn(\n",
      "C:\\Users\\Настенька\\AppData\\Local\\Temp\\ipykernel_12180\\2944656874.py:15: FutureWarning: suggest_int() got {'step'} as positional arguments but they were expected to be given as keyword arguments.\n",
      "  min_samples_leaf = trial.suggest_int('min_samples_leaf', 2, 10, 1)\n",
      "[I 2024-05-16 14:40:07,441] Trial 0 finished with value: 0.8033518042870312 and parameters: {'n_estimators': 160, 'max_depth': 11, 'min_samples_leaf': 8, 'criterion': 'entropy'}. Best is trial 0 with value: 0.8033518042870312.\n",
      "C:\\Users\\Настенька\\AppData\\Local\\Temp\\ipykernel_12180\\2944656874.py:13: FutureWarning: suggest_int() got {'step'} as positional arguments but they were expected to be given as keyword arguments.\n",
      "  n_estimators = trial.suggest_int('n_estimators', 60, 200, 2)\n",
      "C:\\Users\\Настенька\\AppData\\Local\\Temp\\ipykernel_12180\\2944656874.py:14: FutureWarning: suggest_int() got {'step'} as positional arguments but they were expected to be given as keyword arguments.\n",
      "  max_depth = trial.suggest_int('max_depth', 5, 30, 2)\n",
      "C:\\Users\\Настенька\\AppData\\Local\\Packages\\PythonSoftwareFoundation.Python.3.11_qbz5n2kfra8p0\\LocalCache\\local-packages\\Python311\\site-packages\\optuna\\distributions.py:700: UserWarning: The distribution is specified by [5, 30] and step=2, but the range is not divisible by `step`. It will be replaced by [5, 29].\n",
      "  warnings.warn(\n",
      "C:\\Users\\Настенька\\AppData\\Local\\Temp\\ipykernel_12180\\2944656874.py:15: FutureWarning: suggest_int() got {'step'} as positional arguments but they were expected to be given as keyword arguments.\n",
      "  min_samples_leaf = trial.suggest_int('min_samples_leaf', 2, 10, 1)\n",
      "[I 2024-05-16 14:40:16,466] Trial 1 finished with value: 0.8145467084537545 and parameters: {'n_estimators': 106, 'max_depth': 29, 'min_samples_leaf': 5, 'criterion': 'gini'}. Best is trial 1 with value: 0.8145467084537545.\n",
      "C:\\Users\\Настенька\\AppData\\Local\\Temp\\ipykernel_12180\\2944656874.py:13: FutureWarning: suggest_int() got {'step'} as positional arguments but they were expected to be given as keyword arguments.\n",
      "  n_estimators = trial.suggest_int('n_estimators', 60, 200, 2)\n",
      "C:\\Users\\Настенька\\AppData\\Local\\Temp\\ipykernel_12180\\2944656874.py:14: FutureWarning: suggest_int() got {'step'} as positional arguments but they were expected to be given as keyword arguments.\n",
      "  max_depth = trial.suggest_int('max_depth', 5, 30, 2)\n",
      "C:\\Users\\Настенька\\AppData\\Local\\Packages\\PythonSoftwareFoundation.Python.3.11_qbz5n2kfra8p0\\LocalCache\\local-packages\\Python311\\site-packages\\optuna\\distributions.py:700: UserWarning: The distribution is specified by [5, 30] and step=2, but the range is not divisible by `step`. It will be replaced by [5, 29].\n",
      "  warnings.warn(\n",
      "C:\\Users\\Настенька\\AppData\\Local\\Temp\\ipykernel_12180\\2944656874.py:15: FutureWarning: suggest_int() got {'step'} as positional arguments but they were expected to be given as keyword arguments.\n",
      "  min_samples_leaf = trial.suggest_int('min_samples_leaf', 2, 10, 1)\n",
      "[I 2024-05-16 14:40:25,515] Trial 2 finished with value: 0.800602742867734 and parameters: {'n_estimators': 142, 'max_depth': 11, 'min_samples_leaf': 9, 'criterion': 'entropy'}. Best is trial 1 with value: 0.8145467084537545.\n",
      "C:\\Users\\Настенька\\AppData\\Local\\Temp\\ipykernel_12180\\2944656874.py:13: FutureWarning: suggest_int() got {'step'} as positional arguments but they were expected to be given as keyword arguments.\n",
      "  n_estimators = trial.suggest_int('n_estimators', 60, 200, 2)\n",
      "C:\\Users\\Настенька\\AppData\\Local\\Temp\\ipykernel_12180\\2944656874.py:14: FutureWarning: suggest_int() got {'step'} as positional arguments but they were expected to be given as keyword arguments.\n",
      "  max_depth = trial.suggest_int('max_depth', 5, 30, 2)\n",
      "C:\\Users\\Настенька\\AppData\\Local\\Packages\\PythonSoftwareFoundation.Python.3.11_qbz5n2kfra8p0\\LocalCache\\local-packages\\Python311\\site-packages\\optuna\\distributions.py:700: UserWarning: The distribution is specified by [5, 30] and step=2, but the range is not divisible by `step`. It will be replaced by [5, 29].\n",
      "  warnings.warn(\n",
      "C:\\Users\\Настенька\\AppData\\Local\\Temp\\ipykernel_12180\\2944656874.py:15: FutureWarning: suggest_int() got {'step'} as positional arguments but they were expected to be given as keyword arguments.\n",
      "  min_samples_leaf = trial.suggest_int('min_samples_leaf', 2, 10, 1)\n",
      "[I 2024-05-16 14:40:37,697] Trial 3 finished with value: 0.822522068974734 and parameters: {'n_estimators': 132, 'max_depth': 29, 'min_samples_leaf': 4, 'criterion': 'entropy'}. Best is trial 3 with value: 0.822522068974734.\n",
      "C:\\Users\\Настенька\\AppData\\Local\\Temp\\ipykernel_12180\\2944656874.py:13: FutureWarning: suggest_int() got {'step'} as positional arguments but they were expected to be given as keyword arguments.\n",
      "  n_estimators = trial.suggest_int('n_estimators', 60, 200, 2)\n",
      "C:\\Users\\Настенька\\AppData\\Local\\Temp\\ipykernel_12180\\2944656874.py:14: FutureWarning: suggest_int() got {'step'} as positional arguments but they were expected to be given as keyword arguments.\n",
      "  max_depth = trial.suggest_int('max_depth', 5, 30, 2)\n",
      "C:\\Users\\Настенька\\AppData\\Local\\Packages\\PythonSoftwareFoundation.Python.3.11_qbz5n2kfra8p0\\LocalCache\\local-packages\\Python311\\site-packages\\optuna\\distributions.py:700: UserWarning: The distribution is specified by [5, 30] and step=2, but the range is not divisible by `step`. It will be replaced by [5, 29].\n",
      "  warnings.warn(\n",
      "C:\\Users\\Настенька\\AppData\\Local\\Temp\\ipykernel_12180\\2944656874.py:15: FutureWarning: suggest_int() got {'step'} as positional arguments but they were expected to be given as keyword arguments.\n",
      "  min_samples_leaf = trial.suggest_int('min_samples_leaf', 2, 10, 1)\n",
      "[I 2024-05-16 14:40:44,816] Trial 4 finished with value: 0.7810535473202941 and parameters: {'n_estimators': 184, 'max_depth': 7, 'min_samples_leaf': 10, 'criterion': 'gini'}. Best is trial 3 with value: 0.822522068974734.\n",
      "C:\\Users\\Настенька\\AppData\\Local\\Temp\\ipykernel_12180\\2944656874.py:13: FutureWarning: suggest_int() got {'step'} as positional arguments but they were expected to be given as keyword arguments.\n",
      "  n_estimators = trial.suggest_int('n_estimators', 60, 200, 2)\n",
      "C:\\Users\\Настенька\\AppData\\Local\\Temp\\ipykernel_12180\\2944656874.py:14: FutureWarning: suggest_int() got {'step'} as positional arguments but they were expected to be given as keyword arguments.\n",
      "  max_depth = trial.suggest_int('max_depth', 5, 30, 2)\n",
      "C:\\Users\\Настенька\\AppData\\Local\\Packages\\PythonSoftwareFoundation.Python.3.11_qbz5n2kfra8p0\\LocalCache\\local-packages\\Python311\\site-packages\\optuna\\distributions.py:700: UserWarning: The distribution is specified by [5, 30] and step=2, but the range is not divisible by `step`. It will be replaced by [5, 29].\n",
      "  warnings.warn(\n",
      "C:\\Users\\Настенька\\AppData\\Local\\Temp\\ipykernel_12180\\2944656874.py:15: FutureWarning: suggest_int() got {'step'} as positional arguments but they were expected to be given as keyword arguments.\n",
      "  min_samples_leaf = trial.suggest_int('min_samples_leaf', 2, 10, 1)\n",
      "[I 2024-05-16 14:40:54,243] Trial 5 finished with value: 0.8166336598192195 and parameters: {'n_estimators': 106, 'max_depth': 29, 'min_samples_leaf': 3, 'criterion': 'gini'}. Best is trial 3 with value: 0.822522068974734.\n",
      "C:\\Users\\Настенька\\AppData\\Local\\Temp\\ipykernel_12180\\2944656874.py:13: FutureWarning: suggest_int() got {'step'} as positional arguments but they were expected to be given as keyword arguments.\n",
      "  n_estimators = trial.suggest_int('n_estimators', 60, 200, 2)\n",
      "C:\\Users\\Настенька\\AppData\\Local\\Temp\\ipykernel_12180\\2944656874.py:14: FutureWarning: suggest_int() got {'step'} as positional arguments but they were expected to be given as keyword arguments.\n",
      "  max_depth = trial.suggest_int('max_depth', 5, 30, 2)\n",
      "C:\\Users\\Настенька\\AppData\\Local\\Packages\\PythonSoftwareFoundation.Python.3.11_qbz5n2kfra8p0\\LocalCache\\local-packages\\Python311\\site-packages\\optuna\\distributions.py:700: UserWarning: The distribution is specified by [5, 30] and step=2, but the range is not divisible by `step`. It will be replaced by [5, 29].\n",
      "  warnings.warn(\n",
      "C:\\Users\\Настенька\\AppData\\Local\\Temp\\ipykernel_12180\\2944656874.py:15: FutureWarning: suggest_int() got {'step'} as positional arguments but they were expected to be given as keyword arguments.\n",
      "  min_samples_leaf = trial.suggest_int('min_samples_leaf', 2, 10, 1)\n",
      "[I 2024-05-16 14:41:02,685] Trial 6 finished with value: 0.8059165112721434 and parameters: {'n_estimators': 134, 'max_depth': 11, 'min_samples_leaf': 7, 'criterion': 'gini'}. Best is trial 3 with value: 0.822522068974734.\n",
      "C:\\Users\\Настенька\\AppData\\Local\\Temp\\ipykernel_12180\\2944656874.py:13: FutureWarning: suggest_int() got {'step'} as positional arguments but they were expected to be given as keyword arguments.\n",
      "  n_estimators = trial.suggest_int('n_estimators', 60, 200, 2)\n",
      "C:\\Users\\Настенька\\AppData\\Local\\Temp\\ipykernel_12180\\2944656874.py:14: FutureWarning: suggest_int() got {'step'} as positional arguments but they were expected to be given as keyword arguments.\n",
      "  max_depth = trial.suggest_int('max_depth', 5, 30, 2)\n",
      "C:\\Users\\Настенька\\AppData\\Local\\Packages\\PythonSoftwareFoundation.Python.3.11_qbz5n2kfra8p0\\LocalCache\\local-packages\\Python311\\site-packages\\optuna\\distributions.py:700: UserWarning: The distribution is specified by [5, 30] and step=2, but the range is not divisible by `step`. It will be replaced by [5, 29].\n",
      "  warnings.warn(\n",
      "C:\\Users\\Настенька\\AppData\\Local\\Temp\\ipykernel_12180\\2944656874.py:15: FutureWarning: suggest_int() got {'step'} as positional arguments but they were expected to be given as keyword arguments.\n",
      "  min_samples_leaf = trial.suggest_int('min_samples_leaf', 2, 10, 1)\n",
      "[I 2024-05-16 14:41:08,707] Trial 7 finished with value: 0.8150117292997002 and parameters: {'n_estimators': 60, 'max_depth': 21, 'min_samples_leaf': 2, 'criterion': 'entropy'}. Best is trial 3 with value: 0.822522068974734.\n",
      "C:\\Users\\Настенька\\AppData\\Local\\Temp\\ipykernel_12180\\2944656874.py:13: FutureWarning: suggest_int() got {'step'} as positional arguments but they were expected to be given as keyword arguments.\n",
      "  n_estimators = trial.suggest_int('n_estimators', 60, 200, 2)\n",
      "C:\\Users\\Настенька\\AppData\\Local\\Temp\\ipykernel_12180\\2944656874.py:14: FutureWarning: suggest_int() got {'step'} as positional arguments but they were expected to be given as keyword arguments.\n",
      "  max_depth = trial.suggest_int('max_depth', 5, 30, 2)\n",
      "C:\\Users\\Настенька\\AppData\\Local\\Packages\\PythonSoftwareFoundation.Python.3.11_qbz5n2kfra8p0\\LocalCache\\local-packages\\Python311\\site-packages\\optuna\\distributions.py:700: UserWarning: The distribution is specified by [5, 30] and step=2, but the range is not divisible by `step`. It will be replaced by [5, 29].\n",
      "  warnings.warn(\n",
      "C:\\Users\\Настенька\\AppData\\Local\\Temp\\ipykernel_12180\\2944656874.py:15: FutureWarning: suggest_int() got {'step'} as positional arguments but they were expected to be given as keyword arguments.\n",
      "  min_samples_leaf = trial.suggest_int('min_samples_leaf', 2, 10, 1)\n",
      "[I 2024-05-16 14:41:12,694] Trial 8 finished with value: 0.8017448161764777 and parameters: {'n_estimators': 60, 'max_depth': 11, 'min_samples_leaf': 8, 'criterion': 'entropy'}. Best is trial 3 with value: 0.822522068974734.\n",
      "C:\\Users\\Настенька\\AppData\\Local\\Temp\\ipykernel_12180\\2944656874.py:13: FutureWarning: suggest_int() got {'step'} as positional arguments but they were expected to be given as keyword arguments.\n",
      "  n_estimators = trial.suggest_int('n_estimators', 60, 200, 2)\n",
      "C:\\Users\\Настенька\\AppData\\Local\\Temp\\ipykernel_12180\\2944656874.py:14: FutureWarning: suggest_int() got {'step'} as positional arguments but they were expected to be given as keyword arguments.\n",
      "  max_depth = trial.suggest_int('max_depth', 5, 30, 2)\n",
      "C:\\Users\\Настенька\\AppData\\Local\\Packages\\PythonSoftwareFoundation.Python.3.11_qbz5n2kfra8p0\\LocalCache\\local-packages\\Python311\\site-packages\\optuna\\distributions.py:700: UserWarning: The distribution is specified by [5, 30] and step=2, but the range is not divisible by `step`. It will be replaced by [5, 29].\n",
      "  warnings.warn(\n",
      "C:\\Users\\Настенька\\AppData\\Local\\Temp\\ipykernel_12180\\2944656874.py:15: FutureWarning: suggest_int() got {'step'} as positional arguments but they were expected to be given as keyword arguments.\n",
      "  min_samples_leaf = trial.suggest_int('min_samples_leaf', 2, 10, 1)\n",
      "[I 2024-05-16 14:41:21,484] Trial 9 finished with value: 0.8101195988864898 and parameters: {'n_estimators': 120, 'max_depth': 27, 'min_samples_leaf': 6, 'criterion': 'gini'}. Best is trial 3 with value: 0.822522068974734.\n",
      "C:\\Users\\Настенька\\AppData\\Local\\Temp\\ipykernel_12180\\2944656874.py:13: FutureWarning: suggest_int() got {'step'} as positional arguments but they were expected to be given as keyword arguments.\n",
      "  n_estimators = trial.suggest_int('n_estimators', 60, 200, 2)\n",
      "C:\\Users\\Настенька\\AppData\\Local\\Temp\\ipykernel_12180\\2944656874.py:14: FutureWarning: suggest_int() got {'step'} as positional arguments but they were expected to be given as keyword arguments.\n",
      "  max_depth = trial.suggest_int('max_depth', 5, 30, 2)\n",
      "C:\\Users\\Настенька\\AppData\\Local\\Packages\\PythonSoftwareFoundation.Python.3.11_qbz5n2kfra8p0\\LocalCache\\local-packages\\Python311\\site-packages\\optuna\\distributions.py:700: UserWarning: The distribution is specified by [5, 30] and step=2, but the range is not divisible by `step`. It will be replaced by [5, 29].\n",
      "  warnings.warn(\n",
      "C:\\Users\\Настенька\\AppData\\Local\\Temp\\ipykernel_12180\\2944656874.py:15: FutureWarning: suggest_int() got {'step'} as positional arguments but they were expected to be given as keyword arguments.\n",
      "  min_samples_leaf = trial.suggest_int('min_samples_leaf', 2, 10, 1)\n",
      "[I 2024-05-16 14:41:36,587] Trial 10 finished with value: 0.8193644794709094 and parameters: {'n_estimators': 196, 'max_depth': 21, 'min_samples_leaf': 4, 'criterion': 'entropy'}. Best is trial 3 with value: 0.822522068974734.\n",
      "C:\\Users\\Настенька\\AppData\\Local\\Temp\\ipykernel_12180\\2944656874.py:13: FutureWarning: suggest_int() got {'step'} as positional arguments but they were expected to be given as keyword arguments.\n",
      "  n_estimators = trial.suggest_int('n_estimators', 60, 200, 2)\n",
      "C:\\Users\\Настенька\\AppData\\Local\\Temp\\ipykernel_12180\\2944656874.py:14: FutureWarning: suggest_int() got {'step'} as positional arguments but they were expected to be given as keyword arguments.\n",
      "  max_depth = trial.suggest_int('max_depth', 5, 30, 2)\n",
      "C:\\Users\\Настенька\\AppData\\Local\\Packages\\PythonSoftwareFoundation.Python.3.11_qbz5n2kfra8p0\\LocalCache\\local-packages\\Python311\\site-packages\\optuna\\distributions.py:700: UserWarning: The distribution is specified by [5, 30] and step=2, but the range is not divisible by `step`. It will be replaced by [5, 29].\n",
      "  warnings.warn(\n",
      "C:\\Users\\Настенька\\AppData\\Local\\Temp\\ipykernel_12180\\2944656874.py:15: FutureWarning: suggest_int() got {'step'} as positional arguments but they were expected to be given as keyword arguments.\n",
      "  min_samples_leaf = trial.suggest_int('min_samples_leaf', 2, 10, 1)\n",
      "[I 2024-05-16 14:41:51,645] Trial 11 finished with value: 0.8205568042664186 and parameters: {'n_estimators': 194, 'max_depth': 21, 'min_samples_leaf': 4, 'criterion': 'entropy'}. Best is trial 3 with value: 0.822522068974734.\n",
      "C:\\Users\\Настенька\\AppData\\Local\\Temp\\ipykernel_12180\\2944656874.py:13: FutureWarning: suggest_int() got {'step'} as positional arguments but they were expected to be given as keyword arguments.\n",
      "  n_estimators = trial.suggest_int('n_estimators', 60, 200, 2)\n",
      "C:\\Users\\Настенька\\AppData\\Local\\Temp\\ipykernel_12180\\2944656874.py:14: FutureWarning: suggest_int() got {'step'} as positional arguments but they were expected to be given as keyword arguments.\n",
      "  max_depth = trial.suggest_int('max_depth', 5, 30, 2)\n",
      "C:\\Users\\Настенька\\AppData\\Local\\Packages\\PythonSoftwareFoundation.Python.3.11_qbz5n2kfra8p0\\LocalCache\\local-packages\\Python311\\site-packages\\optuna\\distributions.py:700: UserWarning: The distribution is specified by [5, 30] and step=2, but the range is not divisible by `step`. It will be replaced by [5, 29].\n",
      "  warnings.warn(\n",
      "C:\\Users\\Настенька\\AppData\\Local\\Temp\\ipykernel_12180\\2944656874.py:15: FutureWarning: suggest_int() got {'step'} as positional arguments but they were expected to be given as keyword arguments.\n",
      "  min_samples_leaf = trial.suggest_int('min_samples_leaf', 2, 10, 1)\n",
      "[I 2024-05-16 14:42:05,774] Trial 12 finished with value: 0.8234895763440366 and parameters: {'n_estimators': 168, 'max_depth': 23, 'min_samples_leaf': 4, 'criterion': 'entropy'}. Best is trial 12 with value: 0.8234895763440366.\n",
      "C:\\Users\\Настенька\\AppData\\Local\\Temp\\ipykernel_12180\\2944656874.py:13: FutureWarning: suggest_int() got {'step'} as positional arguments but they were expected to be given as keyword arguments.\n",
      "  n_estimators = trial.suggest_int('n_estimators', 60, 200, 2)\n",
      "C:\\Users\\Настенька\\AppData\\Local\\Temp\\ipykernel_12180\\2944656874.py:14: FutureWarning: suggest_int() got {'step'} as positional arguments but they were expected to be given as keyword arguments.\n",
      "  max_depth = trial.suggest_int('max_depth', 5, 30, 2)\n",
      "C:\\Users\\Настенька\\AppData\\Local\\Packages\\PythonSoftwareFoundation.Python.3.11_qbz5n2kfra8p0\\LocalCache\\local-packages\\Python311\\site-packages\\optuna\\distributions.py:700: UserWarning: The distribution is specified by [5, 30] and step=2, but the range is not divisible by `step`. It will be replaced by [5, 29].\n",
      "  warnings.warn(\n",
      "C:\\Users\\Настенька\\AppData\\Local\\Temp\\ipykernel_12180\\2944656874.py:15: FutureWarning: suggest_int() got {'step'} as positional arguments but they were expected to be given as keyword arguments.\n",
      "  min_samples_leaf = trial.suggest_int('min_samples_leaf', 2, 10, 1)\n",
      "[I 2024-05-16 14:42:20,960] Trial 13 finished with value: 0.8180416901732567 and parameters: {'n_estimators': 164, 'max_depth': 25, 'min_samples_leaf': 2, 'criterion': 'entropy'}. Best is trial 12 with value: 0.8234895763440366.\n",
      "C:\\Users\\Настенька\\AppData\\Local\\Temp\\ipykernel_12180\\2944656874.py:13: FutureWarning: suggest_int() got {'step'} as positional arguments but they were expected to be given as keyword arguments.\n",
      "  n_estimators = trial.suggest_int('n_estimators', 60, 200, 2)\n",
      "C:\\Users\\Настенька\\AppData\\Local\\Temp\\ipykernel_12180\\2944656874.py:14: FutureWarning: suggest_int() got {'step'} as positional arguments but they were expected to be given as keyword arguments.\n",
      "  max_depth = trial.suggest_int('max_depth', 5, 30, 2)\n",
      "C:\\Users\\Настенька\\AppData\\Local\\Packages\\PythonSoftwareFoundation.Python.3.11_qbz5n2kfra8p0\\LocalCache\\local-packages\\Python311\\site-packages\\optuna\\distributions.py:700: UserWarning: The distribution is specified by [5, 30] and step=2, but the range is not divisible by `step`. It will be replaced by [5, 29].\n",
      "  warnings.warn(\n",
      "C:\\Users\\Настенька\\AppData\\Local\\Temp\\ipykernel_12180\\2944656874.py:15: FutureWarning: suggest_int() got {'step'} as positional arguments but they were expected to be given as keyword arguments.\n",
      "  min_samples_leaf = trial.suggest_int('min_samples_leaf', 2, 10, 1)\n",
      "[I 2024-05-16 14:42:33,918] Trial 14 finished with value: 0.8146396148500668 and parameters: {'n_estimators': 166, 'max_depth': 25, 'min_samples_leaf': 5, 'criterion': 'entropy'}. Best is trial 12 with value: 0.8234895763440366.\n",
      "C:\\Users\\Настенька\\AppData\\Local\\Temp\\ipykernel_12180\\2944656874.py:13: FutureWarning: suggest_int() got {'step'} as positional arguments but they were expected to be given as keyword arguments.\n",
      "  n_estimators = trial.suggest_int('n_estimators', 60, 200, 2)\n",
      "C:\\Users\\Настенька\\AppData\\Local\\Temp\\ipykernel_12180\\2944656874.py:14: FutureWarning: suggest_int() got {'step'} as positional arguments but they were expected to be given as keyword arguments.\n",
      "  max_depth = trial.suggest_int('max_depth', 5, 30, 2)\n",
      "C:\\Users\\Настенька\\AppData\\Local\\Packages\\PythonSoftwareFoundation.Python.3.11_qbz5n2kfra8p0\\LocalCache\\local-packages\\Python311\\site-packages\\optuna\\distributions.py:700: UserWarning: The distribution is specified by [5, 30] and step=2, but the range is not divisible by `step`. It will be replaced by [5, 29].\n",
      "  warnings.warn(\n",
      "C:\\Users\\Настенька\\AppData\\Local\\Temp\\ipykernel_12180\\2944656874.py:15: FutureWarning: suggest_int() got {'step'} as positional arguments but they were expected to be given as keyword arguments.\n",
      "  min_samples_leaf = trial.suggest_int('min_samples_leaf', 2, 10, 1)\n",
      "[I 2024-05-16 14:42:46,697] Trial 15 finished with value: 0.8186723140142014 and parameters: {'n_estimators': 148, 'max_depth': 17, 'min_samples_leaf': 4, 'criterion': 'entropy'}. Best is trial 12 with value: 0.8234895763440366.\n",
      "C:\\Users\\Настенька\\AppData\\Local\\Temp\\ipykernel_12180\\2944656874.py:13: FutureWarning: suggest_int() got {'step'} as positional arguments but they were expected to be given as keyword arguments.\n",
      "  n_estimators = trial.suggest_int('n_estimators', 60, 200, 2)\n",
      "C:\\Users\\Настенька\\AppData\\Local\\Temp\\ipykernel_12180\\2944656874.py:14: FutureWarning: suggest_int() got {'step'} as positional arguments but they were expected to be given as keyword arguments.\n",
      "  max_depth = trial.suggest_int('max_depth', 5, 30, 2)\n",
      "C:\\Users\\Настенька\\AppData\\Local\\Packages\\PythonSoftwareFoundation.Python.3.11_qbz5n2kfra8p0\\LocalCache\\local-packages\\Python311\\site-packages\\optuna\\distributions.py:700: UserWarning: The distribution is specified by [5, 30] and step=2, but the range is not divisible by `step`. It will be replaced by [5, 29].\n",
      "  warnings.warn(\n",
      "C:\\Users\\Настенька\\AppData\\Local\\Temp\\ipykernel_12180\\2944656874.py:15: FutureWarning: suggest_int() got {'step'} as positional arguments but they were expected to be given as keyword arguments.\n",
      "  min_samples_leaf = trial.suggest_int('min_samples_leaf', 2, 10, 1)\n",
      "[I 2024-05-16 14:42:53,284] Trial 16 finished with value: 0.8090599624168423 and parameters: {'n_estimators': 86, 'max_depth': 17, 'min_samples_leaf': 6, 'criterion': 'entropy'}. Best is trial 12 with value: 0.8234895763440366.\n",
      "C:\\Users\\Настенька\\AppData\\Local\\Temp\\ipykernel_12180\\2944656874.py:13: FutureWarning: suggest_int() got {'step'} as positional arguments but they were expected to be given as keyword arguments.\n",
      "  n_estimators = trial.suggest_int('n_estimators', 60, 200, 2)\n",
      "C:\\Users\\Настенька\\AppData\\Local\\Temp\\ipykernel_12180\\2944656874.py:14: FutureWarning: suggest_int() got {'step'} as positional arguments but they were expected to be given as keyword arguments.\n",
      "  max_depth = trial.suggest_int('max_depth', 5, 30, 2)\n",
      "C:\\Users\\Настенька\\AppData\\Local\\Packages\\PythonSoftwareFoundation.Python.3.11_qbz5n2kfra8p0\\LocalCache\\local-packages\\Python311\\site-packages\\optuna\\distributions.py:700: UserWarning: The distribution is specified by [5, 30] and step=2, but the range is not divisible by `step`. It will be replaced by [5, 29].\n",
      "  warnings.warn(\n",
      "C:\\Users\\Настенька\\AppData\\Local\\Temp\\ipykernel_12180\\2944656874.py:15: FutureWarning: suggest_int() got {'step'} as positional arguments but they were expected to be given as keyword arguments.\n",
      "  min_samples_leaf = trial.suggest_int('min_samples_leaf', 2, 10, 1)\n",
      "[I 2024-05-16 14:43:08,249] Trial 17 finished with value: 0.8206246004897961 and parameters: {'n_estimators': 178, 'max_depth': 23, 'min_samples_leaf': 3, 'criterion': 'entropy'}. Best is trial 12 with value: 0.8234895763440366.\n",
      "C:\\Users\\Настенька\\AppData\\Local\\Temp\\ipykernel_12180\\2944656874.py:13: FutureWarning: suggest_int() got {'step'} as positional arguments but they were expected to be given as keyword arguments.\n",
      "  n_estimators = trial.suggest_int('n_estimators', 60, 200, 2)\n",
      "C:\\Users\\Настенька\\AppData\\Local\\Temp\\ipykernel_12180\\2944656874.py:14: FutureWarning: suggest_int() got {'step'} as positional arguments but they were expected to be given as keyword arguments.\n",
      "  max_depth = trial.suggest_int('max_depth', 5, 30, 2)\n",
      "C:\\Users\\Настенька\\AppData\\Local\\Packages\\PythonSoftwareFoundation.Python.3.11_qbz5n2kfra8p0\\LocalCache\\local-packages\\Python311\\site-packages\\optuna\\distributions.py:700: UserWarning: The distribution is specified by [5, 30] and step=2, but the range is not divisible by `step`. It will be replaced by [5, 29].\n",
      "  warnings.warn(\n",
      "C:\\Users\\Настенька\\AppData\\Local\\Temp\\ipykernel_12180\\2944656874.py:15: FutureWarning: suggest_int() got {'step'} as positional arguments but they were expected to be given as keyword arguments.\n",
      "  min_samples_leaf = trial.suggest_int('min_samples_leaf', 2, 10, 1)\n",
      "[I 2024-05-16 14:43:18,151] Trial 18 finished with value: 0.8139987120745994 and parameters: {'n_estimators': 118, 'max_depth': 25, 'min_samples_leaf': 5, 'criterion': 'entropy'}. Best is trial 12 with value: 0.8234895763440366.\n",
      "C:\\Users\\Настенька\\AppData\\Local\\Temp\\ipykernel_12180\\2944656874.py:13: FutureWarning: suggest_int() got {'step'} as positional arguments but they were expected to be given as keyword arguments.\n",
      "  n_estimators = trial.suggest_int('n_estimators', 60, 200, 2)\n",
      "C:\\Users\\Настенька\\AppData\\Local\\Temp\\ipykernel_12180\\2944656874.py:14: FutureWarning: suggest_int() got {'step'} as positional arguments but they were expected to be given as keyword arguments.\n",
      "  max_depth = trial.suggest_int('max_depth', 5, 30, 2)\n",
      "C:\\Users\\Настенька\\AppData\\Local\\Packages\\PythonSoftwareFoundation.Python.3.11_qbz5n2kfra8p0\\LocalCache\\local-packages\\Python311\\site-packages\\optuna\\distributions.py:700: UserWarning: The distribution is specified by [5, 30] and step=2, but the range is not divisible by `step`. It will be replaced by [5, 29].\n",
      "  warnings.warn(\n",
      "C:\\Users\\Настенька\\AppData\\Local\\Temp\\ipykernel_12180\\2944656874.py:15: FutureWarning: suggest_int() got {'step'} as positional arguments but they were expected to be given as keyword arguments.\n",
      "  min_samples_leaf = trial.suggest_int('min_samples_leaf', 2, 10, 1)\n",
      "[I 2024-05-16 14:43:30,860] Trial 19 finished with value: 0.8203031839782133 and parameters: {'n_estimators': 146, 'max_depth': 29, 'min_samples_leaf': 3, 'criterion': 'entropy'}. Best is trial 12 with value: 0.8234895763440366.\n",
      "C:\\Users\\Настенька\\AppData\\Local\\Temp\\ipykernel_12180\\2944656874.py:13: FutureWarning: suggest_int() got {'step'} as positional arguments but they were expected to be given as keyword arguments.\n",
      "  n_estimators = trial.suggest_int('n_estimators', 60, 200, 2)\n",
      "C:\\Users\\Настенька\\AppData\\Local\\Temp\\ipykernel_12180\\2944656874.py:14: FutureWarning: suggest_int() got {'step'} as positional arguments but they were expected to be given as keyword arguments.\n",
      "  max_depth = trial.suggest_int('max_depth', 5, 30, 2)\n",
      "C:\\Users\\Настенька\\AppData\\Local\\Packages\\PythonSoftwareFoundation.Python.3.11_qbz5n2kfra8p0\\LocalCache\\local-packages\\Python311\\site-packages\\optuna\\distributions.py:700: UserWarning: The distribution is specified by [5, 30] and step=2, but the range is not divisible by `step`. It will be replaced by [5, 29].\n",
      "  warnings.warn(\n",
      "C:\\Users\\Настенька\\AppData\\Local\\Temp\\ipykernel_12180\\2944656874.py:15: FutureWarning: suggest_int() got {'step'} as positional arguments but they were expected to be given as keyword arguments.\n",
      "  min_samples_leaf = trial.suggest_int('min_samples_leaf', 2, 10, 1)\n",
      "[I 2024-05-16 14:43:37,585] Trial 20 finished with value: 0.8105412623788167 and parameters: {'n_estimators': 88, 'max_depth': 19, 'min_samples_leaf': 6, 'criterion': 'entropy'}. Best is trial 12 with value: 0.8234895763440366.\n",
      "C:\\Users\\Настенька\\AppData\\Local\\Temp\\ipykernel_12180\\2944656874.py:13: FutureWarning: suggest_int() got {'step'} as positional arguments but they were expected to be given as keyword arguments.\n",
      "  n_estimators = trial.suggest_int('n_estimators', 60, 200, 2)\n",
      "C:\\Users\\Настенька\\AppData\\Local\\Temp\\ipykernel_12180\\2944656874.py:14: FutureWarning: suggest_int() got {'step'} as positional arguments but they were expected to be given as keyword arguments.\n",
      "  max_depth = trial.suggest_int('max_depth', 5, 30, 2)\n",
      "C:\\Users\\Настенька\\AppData\\Local\\Packages\\PythonSoftwareFoundation.Python.3.11_qbz5n2kfra8p0\\LocalCache\\local-packages\\Python311\\site-packages\\optuna\\distributions.py:700: UserWarning: The distribution is specified by [5, 30] and step=2, but the range is not divisible by `step`. It will be replaced by [5, 29].\n",
      "  warnings.warn(\n",
      "C:\\Users\\Настенька\\AppData\\Local\\Temp\\ipykernel_12180\\2944656874.py:15: FutureWarning: suggest_int() got {'step'} as positional arguments but they were expected to be given as keyword arguments.\n",
      "  min_samples_leaf = trial.suggest_int('min_samples_leaf', 2, 10, 1)\n",
      "[I 2024-05-16 14:43:53,005] Trial 21 finished with value: 0.819508074804461 and parameters: {'n_estimators': 180, 'max_depth': 23, 'min_samples_leaf': 3, 'criterion': 'entropy'}. Best is trial 12 with value: 0.8234895763440366.\n",
      "C:\\Users\\Настенька\\AppData\\Local\\Temp\\ipykernel_12180\\2944656874.py:13: FutureWarning: suggest_int() got {'step'} as positional arguments but they were expected to be given as keyword arguments.\n",
      "  n_estimators = trial.suggest_int('n_estimators', 60, 200, 2)\n",
      "C:\\Users\\Настенька\\AppData\\Local\\Temp\\ipykernel_12180\\2944656874.py:14: FutureWarning: suggest_int() got {'step'} as positional arguments but they were expected to be given as keyword arguments.\n",
      "  max_depth = trial.suggest_int('max_depth', 5, 30, 2)\n",
      "C:\\Users\\Настенька\\AppData\\Local\\Packages\\PythonSoftwareFoundation.Python.3.11_qbz5n2kfra8p0\\LocalCache\\local-packages\\Python311\\site-packages\\optuna\\distributions.py:700: UserWarning: The distribution is specified by [5, 30] and step=2, but the range is not divisible by `step`. It will be replaced by [5, 29].\n",
      "  warnings.warn(\n",
      "C:\\Users\\Настенька\\AppData\\Local\\Temp\\ipykernel_12180\\2944656874.py:15: FutureWarning: suggest_int() got {'step'} as positional arguments but they were expected to be given as keyword arguments.\n",
      "  min_samples_leaf = trial.suggest_int('min_samples_leaf', 2, 10, 1)\n",
      "[I 2024-05-16 14:44:07,433] Trial 22 finished with value: 0.8195859769230154 and parameters: {'n_estimators': 176, 'max_depth': 15, 'min_samples_leaf': 3, 'criterion': 'entropy'}. Best is trial 12 with value: 0.8234895763440366.\n",
      "C:\\Users\\Настенька\\AppData\\Local\\Temp\\ipykernel_12180\\2944656874.py:13: FutureWarning: suggest_int() got {'step'} as positional arguments but they were expected to be given as keyword arguments.\n",
      "  n_estimators = trial.suggest_int('n_estimators', 60, 200, 2)\n",
      "C:\\Users\\Настенька\\AppData\\Local\\Temp\\ipykernel_12180\\2944656874.py:14: FutureWarning: suggest_int() got {'step'} as positional arguments but they were expected to be given as keyword arguments.\n",
      "  max_depth = trial.suggest_int('max_depth', 5, 30, 2)\n",
      "C:\\Users\\Настенька\\AppData\\Local\\Packages\\PythonSoftwareFoundation.Python.3.11_qbz5n2kfra8p0\\LocalCache\\local-packages\\Python311\\site-packages\\optuna\\distributions.py:700: UserWarning: The distribution is specified by [5, 30] and step=2, but the range is not divisible by `step`. It will be replaced by [5, 29].\n",
      "  warnings.warn(\n",
      "C:\\Users\\Настенька\\AppData\\Local\\Temp\\ipykernel_12180\\2944656874.py:15: FutureWarning: suggest_int() got {'step'} as positional arguments but they were expected to be given as keyword arguments.\n",
      "  min_samples_leaf = trial.suggest_int('min_samples_leaf', 2, 10, 1)\n",
      "[I 2024-05-16 14:44:23,478] Trial 23 finished with value: 0.8164887691271637 and parameters: {'n_estimators': 156, 'max_depth': 23, 'min_samples_leaf': 2, 'criterion': 'entropy'}. Best is trial 12 with value: 0.8234895763440366.\n",
      "C:\\Users\\Настенька\\AppData\\Local\\Temp\\ipykernel_12180\\2944656874.py:13: FutureWarning: suggest_int() got {'step'} as positional arguments but they were expected to be given as keyword arguments.\n",
      "  n_estimators = trial.suggest_int('n_estimators', 60, 200, 2)\n",
      "C:\\Users\\Настенька\\AppData\\Local\\Temp\\ipykernel_12180\\2944656874.py:14: FutureWarning: suggest_int() got {'step'} as positional arguments but they were expected to be given as keyword arguments.\n",
      "  max_depth = trial.suggest_int('max_depth', 5, 30, 2)\n",
      "C:\\Users\\Настенька\\AppData\\Local\\Packages\\PythonSoftwareFoundation.Python.3.11_qbz5n2kfra8p0\\LocalCache\\local-packages\\Python311\\site-packages\\optuna\\distributions.py:700: UserWarning: The distribution is specified by [5, 30] and step=2, but the range is not divisible by `step`. It will be replaced by [5, 29].\n",
      "  warnings.warn(\n",
      "C:\\Users\\Настенька\\AppData\\Local\\Temp\\ipykernel_12180\\2944656874.py:15: FutureWarning: suggest_int() got {'step'} as positional arguments but they were expected to be given as keyword arguments.\n",
      "  min_samples_leaf = trial.suggest_int('min_samples_leaf', 2, 10, 1)\n",
      "[I 2024-05-16 14:44:40,305] Trial 24 finished with value: 0.8231119868444718 and parameters: {'n_estimators': 200, 'max_depth': 27, 'min_samples_leaf': 4, 'criterion': 'entropy'}. Best is trial 12 with value: 0.8234895763440366.\n",
      "C:\\Users\\Настенька\\AppData\\Local\\Temp\\ipykernel_12180\\2944656874.py:13: FutureWarning: suggest_int() got {'step'} as positional arguments but they were expected to be given as keyword arguments.\n",
      "  n_estimators = trial.suggest_int('n_estimators', 60, 200, 2)\n",
      "C:\\Users\\Настенька\\AppData\\Local\\Temp\\ipykernel_12180\\2944656874.py:14: FutureWarning: suggest_int() got {'step'} as positional arguments but they were expected to be given as keyword arguments.\n",
      "  max_depth = trial.suggest_int('max_depth', 5, 30, 2)\n",
      "C:\\Users\\Настенька\\AppData\\Local\\Packages\\PythonSoftwareFoundation.Python.3.11_qbz5n2kfra8p0\\LocalCache\\local-packages\\Python311\\site-packages\\optuna\\distributions.py:700: UserWarning: The distribution is specified by [5, 30] and step=2, but the range is not divisible by `step`. It will be replaced by [5, 29].\n",
      "  warnings.warn(\n",
      "C:\\Users\\Настенька\\AppData\\Local\\Temp\\ipykernel_12180\\2944656874.py:15: FutureWarning: suggest_int() got {'step'} as positional arguments but they were expected to be given as keyword arguments.\n",
      "  min_samples_leaf = trial.suggest_int('min_samples_leaf', 2, 10, 1)\n",
      "[I 2024-05-16 14:44:55,915] Trial 25 finished with value: 0.8231119868444718 and parameters: {'n_estimators': 200, 'max_depth': 27, 'min_samples_leaf': 4, 'criterion': 'entropy'}. Best is trial 12 with value: 0.8234895763440366.\n",
      "C:\\Users\\Настенька\\AppData\\Local\\Temp\\ipykernel_12180\\2944656874.py:13: FutureWarning: suggest_int() got {'step'} as positional arguments but they were expected to be given as keyword arguments.\n",
      "  n_estimators = trial.suggest_int('n_estimators', 60, 200, 2)\n",
      "C:\\Users\\Настенька\\AppData\\Local\\Temp\\ipykernel_12180\\2944656874.py:14: FutureWarning: suggest_int() got {'step'} as positional arguments but they were expected to be given as keyword arguments.\n",
      "  max_depth = trial.suggest_int('max_depth', 5, 30, 2)\n",
      "C:\\Users\\Настенька\\AppData\\Local\\Packages\\PythonSoftwareFoundation.Python.3.11_qbz5n2kfra8p0\\LocalCache\\local-packages\\Python311\\site-packages\\optuna\\distributions.py:700: UserWarning: The distribution is specified by [5, 30] and step=2, but the range is not divisible by `step`. It will be replaced by [5, 29].\n",
      "  warnings.warn(\n",
      "C:\\Users\\Настенька\\AppData\\Local\\Temp\\ipykernel_12180\\2944656874.py:15: FutureWarning: suggest_int() got {'step'} as positional arguments but they were expected to be given as keyword arguments.\n",
      "  min_samples_leaf = trial.suggest_int('min_samples_leaf', 2, 10, 1)\n",
      "[I 2024-05-16 14:45:10,978] Trial 26 finished with value: 0.8148209540327839 and parameters: {'n_estimators': 200, 'max_depth': 27, 'min_samples_leaf': 5, 'criterion': 'gini'}. Best is trial 12 with value: 0.8234895763440366.\n",
      "C:\\Users\\Настенька\\AppData\\Local\\Temp\\ipykernel_12180\\2944656874.py:13: FutureWarning: suggest_int() got {'step'} as positional arguments but they were expected to be given as keyword arguments.\n",
      "  n_estimators = trial.suggest_int('n_estimators', 60, 200, 2)\n",
      "C:\\Users\\Настенька\\AppData\\Local\\Temp\\ipykernel_12180\\2944656874.py:14: FutureWarning: suggest_int() got {'step'} as positional arguments but they were expected to be given as keyword arguments.\n",
      "  max_depth = trial.suggest_int('max_depth', 5, 30, 2)\n",
      "C:\\Users\\Настенька\\AppData\\Local\\Packages\\PythonSoftwareFoundation.Python.3.11_qbz5n2kfra8p0\\LocalCache\\local-packages\\Python311\\site-packages\\optuna\\distributions.py:700: UserWarning: The distribution is specified by [5, 30] and step=2, but the range is not divisible by `step`. It will be replaced by [5, 29].\n",
      "  warnings.warn(\n",
      "C:\\Users\\Настенька\\AppData\\Local\\Temp\\ipykernel_12180\\2944656874.py:15: FutureWarning: suggest_int() got {'step'} as positional arguments but they were expected to be given as keyword arguments.\n",
      "  min_samples_leaf = trial.suggest_int('min_samples_leaf', 2, 10, 1)\n",
      "[I 2024-05-16 14:45:26,019] Trial 27 finished with value: 0.8219189290076748 and parameters: {'n_estimators': 188, 'max_depth': 27, 'min_samples_leaf': 4, 'criterion': 'entropy'}. Best is trial 12 with value: 0.8234895763440366.\n",
      "C:\\Users\\Настенька\\AppData\\Local\\Temp\\ipykernel_12180\\2944656874.py:13: FutureWarning: suggest_int() got {'step'} as positional arguments but they were expected to be given as keyword arguments.\n",
      "  n_estimators = trial.suggest_int('n_estimators', 60, 200, 2)\n",
      "C:\\Users\\Настенька\\AppData\\Local\\Temp\\ipykernel_12180\\2944656874.py:14: FutureWarning: suggest_int() got {'step'} as positional arguments but they were expected to be given as keyword arguments.\n",
      "  max_depth = trial.suggest_int('max_depth', 5, 30, 2)\n",
      "C:\\Users\\Настенька\\AppData\\Local\\Packages\\PythonSoftwareFoundation.Python.3.11_qbz5n2kfra8p0\\LocalCache\\local-packages\\Python311\\site-packages\\optuna\\distributions.py:700: UserWarning: The distribution is specified by [5, 30] and step=2, but the range is not divisible by `step`. It will be replaced by [5, 29].\n",
      "  warnings.warn(\n",
      "C:\\Users\\Настенька\\AppData\\Local\\Temp\\ipykernel_12180\\2944656874.py:15: FutureWarning: suggest_int() got {'step'} as positional arguments but they were expected to be given as keyword arguments.\n",
      "  min_samples_leaf = trial.suggest_int('min_samples_leaf', 2, 10, 1)\n",
      "[I 2024-05-16 14:45:37,747] Trial 28 finished with value: 0.8102085663073415 and parameters: {'n_estimators': 170, 'max_depth': 25, 'min_samples_leaf': 7, 'criterion': 'entropy'}. Best is trial 12 with value: 0.8234895763440366.\n",
      "C:\\Users\\Настенька\\AppData\\Local\\Temp\\ipykernel_12180\\2944656874.py:13: FutureWarning: suggest_int() got {'step'} as positional arguments but they were expected to be given as keyword arguments.\n",
      "  n_estimators = trial.suggest_int('n_estimators', 60, 200, 2)\n",
      "C:\\Users\\Настенька\\AppData\\Local\\Temp\\ipykernel_12180\\2944656874.py:14: FutureWarning: suggest_int() got {'step'} as positional arguments but they were expected to be given as keyword arguments.\n",
      "  max_depth = trial.suggest_int('max_depth', 5, 30, 2)\n",
      "C:\\Users\\Настенька\\AppData\\Local\\Packages\\PythonSoftwareFoundation.Python.3.11_qbz5n2kfra8p0\\LocalCache\\local-packages\\Python311\\site-packages\\optuna\\distributions.py:700: UserWarning: The distribution is specified by [5, 30] and step=2, but the range is not divisible by `step`. It will be replaced by [5, 29].\n",
      "  warnings.warn(\n",
      "C:\\Users\\Настенька\\AppData\\Local\\Temp\\ipykernel_12180\\2944656874.py:15: FutureWarning: suggest_int() got {'step'} as positional arguments but they were expected to be given as keyword arguments.\n",
      "  min_samples_leaf = trial.suggest_int('min_samples_leaf', 2, 10, 1)\n",
      "[I 2024-05-16 14:45:43,120] Trial 29 finished with value: 0.7594332038392253 and parameters: {'n_estimators': 190, 'max_depth': 5, 'min_samples_leaf': 5, 'criterion': 'entropy'}. Best is trial 12 with value: 0.8234895763440366.\n",
      "C:\\Users\\Настенька\\AppData\\Local\\Temp\\ipykernel_12180\\2944656874.py:13: FutureWarning: suggest_int() got {'step'} as positional arguments but they were expected to be given as keyword arguments.\n",
      "  n_estimators = trial.suggest_int('n_estimators', 60, 200, 2)\n",
      "C:\\Users\\Настенька\\AppData\\Local\\Temp\\ipykernel_12180\\2944656874.py:14: FutureWarning: suggest_int() got {'step'} as positional arguments but they were expected to be given as keyword arguments.\n",
      "  max_depth = trial.suggest_int('max_depth', 5, 30, 2)\n",
      "C:\\Users\\Настенька\\AppData\\Local\\Packages\\PythonSoftwareFoundation.Python.3.11_qbz5n2kfra8p0\\LocalCache\\local-packages\\Python311\\site-packages\\optuna\\distributions.py:700: UserWarning: The distribution is specified by [5, 30] and step=2, but the range is not divisible by `step`. It will be replaced by [5, 29].\n",
      "  warnings.warn(\n",
      "C:\\Users\\Настенька\\AppData\\Local\\Temp\\ipykernel_12180\\2944656874.py:15: FutureWarning: suggest_int() got {'step'} as positional arguments but they were expected to be given as keyword arguments.\n",
      "  min_samples_leaf = trial.suggest_int('min_samples_leaf', 2, 10, 1)\n",
      "[I 2024-05-16 14:45:56,508] Trial 30 finished with value: 0.8091629118787524 and parameters: {'n_estimators': 200, 'max_depth': 19, 'min_samples_leaf': 7, 'criterion': 'entropy'}. Best is trial 12 with value: 0.8234895763440366.\n",
      "C:\\Users\\Настенька\\AppData\\Local\\Temp\\ipykernel_12180\\2944656874.py:13: FutureWarning: suggest_int() got {'step'} as positional arguments but they were expected to be given as keyword arguments.\n",
      "  n_estimators = trial.suggest_int('n_estimators', 60, 200, 2)\n",
      "C:\\Users\\Настенька\\AppData\\Local\\Temp\\ipykernel_12180\\2944656874.py:14: FutureWarning: suggest_int() got {'step'} as positional arguments but they were expected to be given as keyword arguments.\n",
      "  max_depth = trial.suggest_int('max_depth', 5, 30, 2)\n",
      "C:\\Users\\Настенька\\AppData\\Local\\Packages\\PythonSoftwareFoundation.Python.3.11_qbz5n2kfra8p0\\LocalCache\\local-packages\\Python311\\site-packages\\optuna\\distributions.py:700: UserWarning: The distribution is specified by [5, 30] and step=2, but the range is not divisible by `step`. It will be replaced by [5, 29].\n",
      "  warnings.warn(\n",
      "C:\\Users\\Настенька\\AppData\\Local\\Temp\\ipykernel_12180\\2944656874.py:15: FutureWarning: suggest_int() got {'step'} as positional arguments but they were expected to be given as keyword arguments.\n",
      "  min_samples_leaf = trial.suggest_int('min_samples_leaf', 2, 10, 1)\n",
      "[I 2024-05-16 14:46:09,420] Trial 31 finished with value: 0.8233745789216546 and parameters: {'n_estimators': 160, 'max_depth': 27, 'min_samples_leaf': 4, 'criterion': 'entropy'}. Best is trial 12 with value: 0.8234895763440366.\n",
      "C:\\Users\\Настенька\\AppData\\Local\\Temp\\ipykernel_12180\\2944656874.py:13: FutureWarning: suggest_int() got {'step'} as positional arguments but they were expected to be given as keyword arguments.\n",
      "  n_estimators = trial.suggest_int('n_estimators', 60, 200, 2)\n",
      "C:\\Users\\Настенька\\AppData\\Local\\Temp\\ipykernel_12180\\2944656874.py:14: FutureWarning: suggest_int() got {'step'} as positional arguments but they were expected to be given as keyword arguments.\n",
      "  max_depth = trial.suggest_int('max_depth', 5, 30, 2)\n",
      "C:\\Users\\Настенька\\AppData\\Local\\Packages\\PythonSoftwareFoundation.Python.3.11_qbz5n2kfra8p0\\LocalCache\\local-packages\\Python311\\site-packages\\optuna\\distributions.py:700: UserWarning: The distribution is specified by [5, 30] and step=2, but the range is not divisible by `step`. It will be replaced by [5, 29].\n",
      "  warnings.warn(\n",
      "C:\\Users\\Настенька\\AppData\\Local\\Temp\\ipykernel_12180\\2944656874.py:15: FutureWarning: suggest_int() got {'step'} as positional arguments but they were expected to be given as keyword arguments.\n",
      "  min_samples_leaf = trial.suggest_int('min_samples_leaf', 2, 10, 1)\n",
      "[I 2024-05-16 14:46:21,827] Trial 32 finished with value: 0.8222353451848754 and parameters: {'n_estimators': 158, 'max_depth': 27, 'min_samples_leaf': 4, 'criterion': 'entropy'}. Best is trial 12 with value: 0.8234895763440366.\n",
      "C:\\Users\\Настенька\\AppData\\Local\\Temp\\ipykernel_12180\\2944656874.py:13: FutureWarning: suggest_int() got {'step'} as positional arguments but they were expected to be given as keyword arguments.\n",
      "  n_estimators = trial.suggest_int('n_estimators', 60, 200, 2)\n",
      "C:\\Users\\Настенька\\AppData\\Local\\Temp\\ipykernel_12180\\2944656874.py:14: FutureWarning: suggest_int() got {'step'} as positional arguments but they were expected to be given as keyword arguments.\n",
      "  max_depth = trial.suggest_int('max_depth', 5, 30, 2)\n",
      "C:\\Users\\Настенька\\AppData\\Local\\Packages\\PythonSoftwareFoundation.Python.3.11_qbz5n2kfra8p0\\LocalCache\\local-packages\\Python311\\site-packages\\optuna\\distributions.py:700: UserWarning: The distribution is specified by [5, 30] and step=2, but the range is not divisible by `step`. It will be replaced by [5, 29].\n",
      "  warnings.warn(\n",
      "C:\\Users\\Настенька\\AppData\\Local\\Temp\\ipykernel_12180\\2944656874.py:15: FutureWarning: suggest_int() got {'step'} as positional arguments but they were expected to be given as keyword arguments.\n",
      "  min_samples_leaf = trial.suggest_int('min_samples_leaf', 2, 10, 1)\n",
      "[I 2024-05-16 14:46:34,883] Trial 33 finished with value: 0.8156088298634266 and parameters: {'n_estimators': 174, 'max_depth': 27, 'min_samples_leaf': 5, 'criterion': 'entropy'}. Best is trial 12 with value: 0.8234895763440366.\n",
      "C:\\Users\\Настенька\\AppData\\Local\\Temp\\ipykernel_12180\\2944656874.py:13: FutureWarning: suggest_int() got {'step'} as positional arguments but they were expected to be given as keyword arguments.\n",
      "  n_estimators = trial.suggest_int('n_estimators', 60, 200, 2)\n",
      "C:\\Users\\Настенька\\AppData\\Local\\Temp\\ipykernel_12180\\2944656874.py:14: FutureWarning: suggest_int() got {'step'} as positional arguments but they were expected to be given as keyword arguments.\n",
      "  max_depth = trial.suggest_int('max_depth', 5, 30, 2)\n",
      "C:\\Users\\Настенька\\AppData\\Local\\Packages\\PythonSoftwareFoundation.Python.3.11_qbz5n2kfra8p0\\LocalCache\\local-packages\\Python311\\site-packages\\optuna\\distributions.py:700: UserWarning: The distribution is specified by [5, 30] and step=2, but the range is not divisible by `step`. It will be replaced by [5, 29].\n",
      "  warnings.warn(\n",
      "C:\\Users\\Настенька\\AppData\\Local\\Temp\\ipykernel_12180\\2944656874.py:15: FutureWarning: suggest_int() got {'step'} as positional arguments but they were expected to be given as keyword arguments.\n",
      "  min_samples_leaf = trial.suggest_int('min_samples_leaf', 2, 10, 1)\n",
      "[I 2024-05-16 14:46:47,005] Trial 34 finished with value: 0.8223368207501105 and parameters: {'n_estimators': 152, 'max_depth': 29, 'min_samples_leaf': 4, 'criterion': 'entropy'}. Best is trial 12 with value: 0.8234895763440366.\n",
      "C:\\Users\\Настенька\\AppData\\Local\\Temp\\ipykernel_12180\\2944656874.py:13: FutureWarning: suggest_int() got {'step'} as positional arguments but they were expected to be given as keyword arguments.\n",
      "  n_estimators = trial.suggest_int('n_estimators', 60, 200, 2)\n",
      "C:\\Users\\Настенька\\AppData\\Local\\Temp\\ipykernel_12180\\2944656874.py:14: FutureWarning: suggest_int() got {'step'} as positional arguments but they were expected to be given as keyword arguments.\n",
      "  max_depth = trial.suggest_int('max_depth', 5, 30, 2)\n",
      "C:\\Users\\Настенька\\AppData\\Local\\Packages\\PythonSoftwareFoundation.Python.3.11_qbz5n2kfra8p0\\LocalCache\\local-packages\\Python311\\site-packages\\optuna\\distributions.py:700: UserWarning: The distribution is specified by [5, 30] and step=2, but the range is not divisible by `step`. It will be replaced by [5, 29].\n",
      "  warnings.warn(\n",
      "C:\\Users\\Настенька\\AppData\\Local\\Temp\\ipykernel_12180\\2944656874.py:15: FutureWarning: suggest_int() got {'step'} as positional arguments but they were expected to be given as keyword arguments.\n",
      "  min_samples_leaf = trial.suggest_int('min_samples_leaf', 2, 10, 1)\n",
      "[I 2024-05-16 14:47:02,567] Trial 35 finished with value: 0.8184352951306725 and parameters: {'n_estimators': 186, 'max_depth': 23, 'min_samples_leaf': 3, 'criterion': 'gini'}. Best is trial 12 with value: 0.8234895763440366.\n",
      "C:\\Users\\Настенька\\AppData\\Local\\Temp\\ipykernel_12180\\2944656874.py:13: FutureWarning: suggest_int() got {'step'} as positional arguments but they were expected to be given as keyword arguments.\n",
      "  n_estimators = trial.suggest_int('n_estimators', 60, 200, 2)\n",
      "C:\\Users\\Настенька\\AppData\\Local\\Temp\\ipykernel_12180\\2944656874.py:14: FutureWarning: suggest_int() got {'step'} as positional arguments but they were expected to be given as keyword arguments.\n",
      "  max_depth = trial.suggest_int('max_depth', 5, 30, 2)\n",
      "C:\\Users\\Настенька\\AppData\\Local\\Packages\\PythonSoftwareFoundation.Python.3.11_qbz5n2kfra8p0\\LocalCache\\local-packages\\Python311\\site-packages\\optuna\\distributions.py:700: UserWarning: The distribution is specified by [5, 30] and step=2, but the range is not divisible by `step`. It will be replaced by [5, 29].\n",
      "  warnings.warn(\n",
      "C:\\Users\\Настенька\\AppData\\Local\\Temp\\ipykernel_12180\\2944656874.py:15: FutureWarning: suggest_int() got {'step'} as positional arguments but they were expected to be given as keyword arguments.\n",
      "  min_samples_leaf = trial.suggest_int('min_samples_leaf', 2, 10, 1)\n",
      "[I 2024-05-16 14:47:13,575] Trial 36 finished with value: 0.8210239271187328 and parameters: {'n_estimators': 136, 'max_depth': 29, 'min_samples_leaf': 4, 'criterion': 'entropy'}. Best is trial 12 with value: 0.8234895763440366.\n",
      "C:\\Users\\Настенька\\AppData\\Local\\Temp\\ipykernel_12180\\2944656874.py:13: FutureWarning: suggest_int() got {'step'} as positional arguments but they were expected to be given as keyword arguments.\n",
      "  n_estimators = trial.suggest_int('n_estimators', 60, 200, 2)\n",
      "C:\\Users\\Настенька\\AppData\\Local\\Temp\\ipykernel_12180\\2944656874.py:14: FutureWarning: suggest_int() got {'step'} as positional arguments but they were expected to be given as keyword arguments.\n",
      "  max_depth = trial.suggest_int('max_depth', 5, 30, 2)\n",
      "C:\\Users\\Настенька\\AppData\\Local\\Packages\\PythonSoftwareFoundation.Python.3.11_qbz5n2kfra8p0\\LocalCache\\local-packages\\Python311\\site-packages\\optuna\\distributions.py:700: UserWarning: The distribution is specified by [5, 30] and step=2, but the range is not divisible by `step`. It will be replaced by [5, 29].\n",
      "  warnings.warn(\n",
      "C:\\Users\\Настенька\\AppData\\Local\\Temp\\ipykernel_12180\\2944656874.py:15: FutureWarning: suggest_int() got {'step'} as positional arguments but they were expected to be given as keyword arguments.\n",
      "  min_samples_leaf = trial.suggest_int('min_samples_leaf', 2, 10, 1)\n",
      "[I 2024-05-16 14:47:27,420] Trial 37 finished with value: 0.8164694568912655 and parameters: {'n_estimators': 184, 'max_depth': 25, 'min_samples_leaf': 5, 'criterion': 'gini'}. Best is trial 12 with value: 0.8234895763440366.\n",
      "C:\\Users\\Настенька\\AppData\\Local\\Temp\\ipykernel_12180\\2944656874.py:13: FutureWarning: suggest_int() got {'step'} as positional arguments but they were expected to be given as keyword arguments.\n",
      "  n_estimators = trial.suggest_int('n_estimators', 60, 200, 2)\n",
      "C:\\Users\\Настенька\\AppData\\Local\\Temp\\ipykernel_12180\\2944656874.py:14: FutureWarning: suggest_int() got {'step'} as positional arguments but they were expected to be given as keyword arguments.\n",
      "  max_depth = trial.suggest_int('max_depth', 5, 30, 2)\n",
      "C:\\Users\\Настенька\\AppData\\Local\\Packages\\PythonSoftwareFoundation.Python.3.11_qbz5n2kfra8p0\\LocalCache\\local-packages\\Python311\\site-packages\\optuna\\distributions.py:700: UserWarning: The distribution is specified by [5, 30] and step=2, but the range is not divisible by `step`. It will be replaced by [5, 29].\n",
      "  warnings.warn(\n",
      "C:\\Users\\Настенька\\AppData\\Local\\Temp\\ipykernel_12180\\2944656874.py:15: FutureWarning: suggest_int() got {'step'} as positional arguments but they were expected to be given as keyword arguments.\n",
      "  min_samples_leaf = trial.suggest_int('min_samples_leaf', 2, 10, 1)\n",
      "[I 2024-05-16 14:47:40,111] Trial 38 finished with value: 0.8212389100009261 and parameters: {'n_estimators': 168, 'max_depth': 13, 'min_samples_leaf': 2, 'criterion': 'entropy'}. Best is trial 12 with value: 0.8234895763440366.\n",
      "C:\\Users\\Настенька\\AppData\\Local\\Temp\\ipykernel_12180\\2944656874.py:13: FutureWarning: suggest_int() got {'step'} as positional arguments but they were expected to be given as keyword arguments.\n",
      "  n_estimators = trial.suggest_int('n_estimators', 60, 200, 2)\n",
      "C:\\Users\\Настенька\\AppData\\Local\\Temp\\ipykernel_12180\\2944656874.py:14: FutureWarning: suggest_int() got {'step'} as positional arguments but they were expected to be given as keyword arguments.\n",
      "  max_depth = trial.suggest_int('max_depth', 5, 30, 2)\n",
      "C:\\Users\\Настенька\\AppData\\Local\\Packages\\PythonSoftwareFoundation.Python.3.11_qbz5n2kfra8p0\\LocalCache\\local-packages\\Python311\\site-packages\\optuna\\distributions.py:700: UserWarning: The distribution is specified by [5, 30] and step=2, but the range is not divisible by `step`. It will be replaced by [5, 29].\n",
      "  warnings.warn(\n",
      "C:\\Users\\Настенька\\AppData\\Local\\Temp\\ipykernel_12180\\2944656874.py:15: FutureWarning: suggest_int() got {'step'} as positional arguments but they were expected to be given as keyword arguments.\n",
      "  min_samples_leaf = trial.suggest_int('min_samples_leaf', 2, 10, 1)\n",
      "[I 2024-05-16 14:47:48,201] Trial 39 finished with value: 0.8045170001219206 and parameters: {'n_estimators': 124, 'max_depth': 29, 'min_samples_leaf': 10, 'criterion': 'entropy'}. Best is trial 12 with value: 0.8234895763440366.\n",
      "C:\\Users\\Настенька\\AppData\\Local\\Temp\\ipykernel_12180\\2944656874.py:13: FutureWarning: suggest_int() got {'step'} as positional arguments but they were expected to be given as keyword arguments.\n",
      "  n_estimators = trial.suggest_int('n_estimators', 60, 200, 2)\n",
      "C:\\Users\\Настенька\\AppData\\Local\\Temp\\ipykernel_12180\\2944656874.py:14: FutureWarning: suggest_int() got {'step'} as positional arguments but they were expected to be given as keyword arguments.\n",
      "  max_depth = trial.suggest_int('max_depth', 5, 30, 2)\n",
      "C:\\Users\\Настенька\\AppData\\Local\\Packages\\PythonSoftwareFoundation.Python.3.11_qbz5n2kfra8p0\\LocalCache\\local-packages\\Python311\\site-packages\\optuna\\distributions.py:700: UserWarning: The distribution is specified by [5, 30] and step=2, but the range is not divisible by `step`. It will be replaced by [5, 29].\n",
      "  warnings.warn(\n",
      "C:\\Users\\Настенька\\AppData\\Local\\Temp\\ipykernel_12180\\2944656874.py:15: FutureWarning: suggest_int() got {'step'} as positional arguments but they were expected to be given as keyword arguments.\n",
      "  min_samples_leaf = trial.suggest_int('min_samples_leaf', 2, 10, 1)\n",
      "[I 2024-05-16 14:47:58,875] Trial 40 finished with value: 0.8123978467481339 and parameters: {'n_estimators': 140, 'max_depth': 27, 'min_samples_leaf': 6, 'criterion': 'gini'}. Best is trial 12 with value: 0.8234895763440366.\n",
      "C:\\Users\\Настенька\\AppData\\Local\\Temp\\ipykernel_12180\\2944656874.py:13: FutureWarning: suggest_int() got {'step'} as positional arguments but they were expected to be given as keyword arguments.\n",
      "  n_estimators = trial.suggest_int('n_estimators', 60, 200, 2)\n",
      "C:\\Users\\Настенька\\AppData\\Local\\Temp\\ipykernel_12180\\2944656874.py:14: FutureWarning: suggest_int() got {'step'} as positional arguments but they were expected to be given as keyword arguments.\n",
      "  max_depth = trial.suggest_int('max_depth', 5, 30, 2)\n",
      "C:\\Users\\Настенька\\AppData\\Local\\Packages\\PythonSoftwareFoundation.Python.3.11_qbz5n2kfra8p0\\LocalCache\\local-packages\\Python311\\site-packages\\optuna\\distributions.py:700: UserWarning: The distribution is specified by [5, 30] and step=2, but the range is not divisible by `step`. It will be replaced by [5, 29].\n",
      "  warnings.warn(\n",
      "C:\\Users\\Настенька\\AppData\\Local\\Temp\\ipykernel_12180\\2944656874.py:15: FutureWarning: suggest_int() got {'step'} as positional arguments but they were expected to be given as keyword arguments.\n",
      "  min_samples_leaf = trial.suggest_int('min_samples_leaf', 2, 10, 1)\n",
      "[I 2024-05-16 14:48:09,121] Trial 41 finished with value: 0.8168547457061883 and parameters: {'n_estimators': 110, 'max_depth': 29, 'min_samples_leaf': 3, 'criterion': 'entropy'}. Best is trial 12 with value: 0.8234895763440366.\n",
      "C:\\Users\\Настенька\\AppData\\Local\\Temp\\ipykernel_12180\\2944656874.py:13: FutureWarning: suggest_int() got {'step'} as positional arguments but they were expected to be given as keyword arguments.\n",
      "  n_estimators = trial.suggest_int('n_estimators', 60, 200, 2)\n",
      "C:\\Users\\Настенька\\AppData\\Local\\Temp\\ipykernel_12180\\2944656874.py:14: FutureWarning: suggest_int() got {'step'} as positional arguments but they were expected to be given as keyword arguments.\n",
      "  max_depth = trial.suggest_int('max_depth', 5, 30, 2)\n",
      "C:\\Users\\Настенька\\AppData\\Local\\Packages\\PythonSoftwareFoundation.Python.3.11_qbz5n2kfra8p0\\LocalCache\\local-packages\\Python311\\site-packages\\optuna\\distributions.py:700: UserWarning: The distribution is specified by [5, 30] and step=2, but the range is not divisible by `step`. It will be replaced by [5, 29].\n",
      "  warnings.warn(\n",
      "C:\\Users\\Настенька\\AppData\\Local\\Temp\\ipykernel_12180\\2944656874.py:15: FutureWarning: suggest_int() got {'step'} as positional arguments but they were expected to be given as keyword arguments.\n",
      "  min_samples_leaf = trial.suggest_int('min_samples_leaf', 2, 10, 1)\n",
      "[I 2024-05-16 14:48:20,217] Trial 42 finished with value: 0.8211738542183221 and parameters: {'n_estimators': 126, 'max_depth': 27, 'min_samples_leaf': 4, 'criterion': 'entropy'}. Best is trial 12 with value: 0.8234895763440366.\n",
      "C:\\Users\\Настенька\\AppData\\Local\\Temp\\ipykernel_12180\\2944656874.py:13: FutureWarning: suggest_int() got {'step'} as positional arguments but they were expected to be given as keyword arguments.\n",
      "  n_estimators = trial.suggest_int('n_estimators', 60, 200, 2)\n",
      "C:\\Users\\Настенька\\AppData\\Local\\Temp\\ipykernel_12180\\2944656874.py:14: FutureWarning: suggest_int() got {'step'} as positional arguments but they were expected to be given as keyword arguments.\n",
      "  max_depth = trial.suggest_int('max_depth', 5, 30, 2)\n",
      "C:\\Users\\Настенька\\AppData\\Local\\Packages\\PythonSoftwareFoundation.Python.3.11_qbz5n2kfra8p0\\LocalCache\\local-packages\\Python311\\site-packages\\optuna\\distributions.py:700: UserWarning: The distribution is specified by [5, 30] and step=2, but the range is not divisible by `step`. It will be replaced by [5, 29].\n",
      "  warnings.warn(\n",
      "C:\\Users\\Настенька\\AppData\\Local\\Temp\\ipykernel_12180\\2944656874.py:15: FutureWarning: suggest_int() got {'step'} as positional arguments but they were expected to be given as keyword arguments.\n",
      "  min_samples_leaf = trial.suggest_int('min_samples_leaf', 2, 10, 1)\n",
      "[I 2024-05-16 14:48:35,819] Trial 43 finished with value: 0.8220332261984978 and parameters: {'n_estimators': 192, 'max_depth': 25, 'min_samples_leaf': 4, 'criterion': 'entropy'}. Best is trial 12 with value: 0.8234895763440366.\n",
      "C:\\Users\\Настенька\\AppData\\Local\\Temp\\ipykernel_12180\\2944656874.py:13: FutureWarning: suggest_int() got {'step'} as positional arguments but they were expected to be given as keyword arguments.\n",
      "  n_estimators = trial.suggest_int('n_estimators', 60, 200, 2)\n",
      "C:\\Users\\Настенька\\AppData\\Local\\Temp\\ipykernel_12180\\2944656874.py:14: FutureWarning: suggest_int() got {'step'} as positional arguments but they were expected to be given as keyword arguments.\n",
      "  max_depth = trial.suggest_int('max_depth', 5, 30, 2)\n",
      "C:\\Users\\Настенька\\AppData\\Local\\Packages\\PythonSoftwareFoundation.Python.3.11_qbz5n2kfra8p0\\LocalCache\\local-packages\\Python311\\site-packages\\optuna\\distributions.py:700: UserWarning: The distribution is specified by [5, 30] and step=2, but the range is not divisible by `step`. It will be replaced by [5, 29].\n",
      "  warnings.warn(\n",
      "C:\\Users\\Настенька\\AppData\\Local\\Temp\\ipykernel_12180\\2944656874.py:15: FutureWarning: suggest_int() got {'step'} as positional arguments but they were expected to be given as keyword arguments.\n",
      "  min_samples_leaf = trial.suggest_int('min_samples_leaf', 2, 10, 1)\n",
      "[I 2024-05-16 14:48:43,737] Trial 44 finished with value: 0.8131300201008675 and parameters: {'n_estimators': 92, 'max_depth': 29, 'min_samples_leaf': 5, 'criterion': 'entropy'}. Best is trial 12 with value: 0.8234895763440366.\n",
      "C:\\Users\\Настенька\\AppData\\Local\\Temp\\ipykernel_12180\\2944656874.py:13: FutureWarning: suggest_int() got {'step'} as positional arguments but they were expected to be given as keyword arguments.\n",
      "  n_estimators = trial.suggest_int('n_estimators', 60, 200, 2)\n",
      "C:\\Users\\Настенька\\AppData\\Local\\Temp\\ipykernel_12180\\2944656874.py:14: FutureWarning: suggest_int() got {'step'} as positional arguments but they were expected to be given as keyword arguments.\n",
      "  max_depth = trial.suggest_int('max_depth', 5, 30, 2)\n",
      "C:\\Users\\Настенька\\AppData\\Local\\Packages\\PythonSoftwareFoundation.Python.3.11_qbz5n2kfra8p0\\LocalCache\\local-packages\\Python311\\site-packages\\optuna\\distributions.py:700: UserWarning: The distribution is specified by [5, 30] and step=2, but the range is not divisible by `step`. It will be replaced by [5, 29].\n",
      "  warnings.warn(\n",
      "C:\\Users\\Настенька\\AppData\\Local\\Temp\\ipykernel_12180\\2944656874.py:15: FutureWarning: suggest_int() got {'step'} as positional arguments but they were expected to be given as keyword arguments.\n",
      "  min_samples_leaf = trial.suggest_int('min_samples_leaf', 2, 10, 1)\n",
      "[I 2024-05-16 14:48:55,891] Trial 45 finished with value: 0.8200539884230704 and parameters: {'n_estimators': 134, 'max_depth': 27, 'min_samples_leaf': 3, 'criterion': 'entropy'}. Best is trial 12 with value: 0.8234895763440366.\n",
      "C:\\Users\\Настенька\\AppData\\Local\\Temp\\ipykernel_12180\\2944656874.py:13: FutureWarning: suggest_int() got {'step'} as positional arguments but they were expected to be given as keyword arguments.\n",
      "  n_estimators = trial.suggest_int('n_estimators', 60, 200, 2)\n",
      "C:\\Users\\Настенька\\AppData\\Local\\Temp\\ipykernel_12180\\2944656874.py:14: FutureWarning: suggest_int() got {'step'} as positional arguments but they were expected to be given as keyword arguments.\n",
      "  max_depth = trial.suggest_int('max_depth', 5, 30, 2)\n",
      "C:\\Users\\Настенька\\AppData\\Local\\Packages\\PythonSoftwareFoundation.Python.3.11_qbz5n2kfra8p0\\LocalCache\\local-packages\\Python311\\site-packages\\optuna\\distributions.py:700: UserWarning: The distribution is specified by [5, 30] and step=2, but the range is not divisible by `step`. It will be replaced by [5, 29].\n",
      "  warnings.warn(\n",
      "C:\\Users\\Настенька\\AppData\\Local\\Temp\\ipykernel_12180\\2944656874.py:15: FutureWarning: suggest_int() got {'step'} as positional arguments but they were expected to be given as keyword arguments.\n",
      "  min_samples_leaf = trial.suggest_int('min_samples_leaf', 2, 10, 1)\n",
      "[I 2024-05-16 14:49:09,204] Trial 46 finished with value: 0.818600566039623 and parameters: {'n_estimators': 162, 'max_depth': 21, 'min_samples_leaf': 4, 'criterion': 'entropy'}. Best is trial 12 with value: 0.8234895763440366.\n",
      "C:\\Users\\Настенька\\AppData\\Local\\Temp\\ipykernel_12180\\2944656874.py:13: FutureWarning: suggest_int() got {'step'} as positional arguments but they were expected to be given as keyword arguments.\n",
      "  n_estimators = trial.suggest_int('n_estimators', 60, 200, 2)\n",
      "C:\\Users\\Настенька\\AppData\\Local\\Temp\\ipykernel_12180\\2944656874.py:14: FutureWarning: suggest_int() got {'step'} as positional arguments but they were expected to be given as keyword arguments.\n",
      "  max_depth = trial.suggest_int('max_depth', 5, 30, 2)\n",
      "C:\\Users\\Настенька\\AppData\\Local\\Packages\\PythonSoftwareFoundation.Python.3.11_qbz5n2kfra8p0\\LocalCache\\local-packages\\Python311\\site-packages\\optuna\\distributions.py:700: UserWarning: The distribution is specified by [5, 30] and step=2, but the range is not divisible by `step`. It will be replaced by [5, 29].\n",
      "  warnings.warn(\n",
      "C:\\Users\\Настенька\\AppData\\Local\\Temp\\ipykernel_12180\\2944656874.py:15: FutureWarning: suggest_int() got {'step'} as positional arguments but they were expected to be given as keyword arguments.\n",
      "  min_samples_leaf = trial.suggest_int('min_samples_leaf', 2, 10, 1)\n",
      "[I 2024-05-16 14:49:23,547] Trial 47 finished with value: 0.8117828855119589 and parameters: {'n_estimators': 196, 'max_depth': 25, 'min_samples_leaf': 6, 'criterion': 'gini'}. Best is trial 12 with value: 0.8234895763440366.\n",
      "C:\\Users\\Настенька\\AppData\\Local\\Temp\\ipykernel_12180\\2944656874.py:13: FutureWarning: suggest_int() got {'step'} as positional arguments but they were expected to be given as keyword arguments.\n",
      "  n_estimators = trial.suggest_int('n_estimators', 60, 200, 2)\n",
      "C:\\Users\\Настенька\\AppData\\Local\\Temp\\ipykernel_12180\\2944656874.py:14: FutureWarning: suggest_int() got {'step'} as positional arguments but they were expected to be given as keyword arguments.\n",
      "  max_depth = trial.suggest_int('max_depth', 5, 30, 2)\n",
      "C:\\Users\\Настенька\\AppData\\Local\\Packages\\PythonSoftwareFoundation.Python.3.11_qbz5n2kfra8p0\\LocalCache\\local-packages\\Python311\\site-packages\\optuna\\distributions.py:700: UserWarning: The distribution is specified by [5, 30] and step=2, but the range is not divisible by `step`. It will be replaced by [5, 29].\n",
      "  warnings.warn(\n",
      "C:\\Users\\Настенька\\AppData\\Local\\Temp\\ipykernel_12180\\2944656874.py:15: FutureWarning: suggest_int() got {'step'} as positional arguments but they were expected to be given as keyword arguments.\n",
      "  min_samples_leaf = trial.suggest_int('min_samples_leaf', 2, 10, 1)\n",
      "[I 2024-05-16 14:49:39,249] Trial 48 finished with value: 0.8187226270039796 and parameters: {'n_estimators': 182, 'max_depth': 23, 'min_samples_leaf': 3, 'criterion': 'entropy'}. Best is trial 12 with value: 0.8234895763440366.\n",
      "C:\\Users\\Настенька\\AppData\\Local\\Temp\\ipykernel_12180\\2944656874.py:13: FutureWarning: suggest_int() got {'step'} as positional arguments but they were expected to be given as keyword arguments.\n",
      "  n_estimators = trial.suggest_int('n_estimators', 60, 200, 2)\n",
      "C:\\Users\\Настенька\\AppData\\Local\\Temp\\ipykernel_12180\\2944656874.py:14: FutureWarning: suggest_int() got {'step'} as positional arguments but they were expected to be given as keyword arguments.\n",
      "  max_depth = trial.suggest_int('max_depth', 5, 30, 2)\n",
      "C:\\Users\\Настенька\\AppData\\Local\\Packages\\PythonSoftwareFoundation.Python.3.11_qbz5n2kfra8p0\\LocalCache\\local-packages\\Python311\\site-packages\\optuna\\distributions.py:700: UserWarning: The distribution is specified by [5, 30] and step=2, but the range is not divisible by `step`. It will be replaced by [5, 29].\n",
      "  warnings.warn(\n",
      "C:\\Users\\Настенька\\AppData\\Local\\Temp\\ipykernel_12180\\2944656874.py:15: FutureWarning: suggest_int() got {'step'} as positional arguments but they were expected to be given as keyword arguments.\n",
      "  min_samples_leaf = trial.suggest_int('min_samples_leaf', 2, 10, 1)\n",
      "[I 2024-05-16 14:49:52,359] Trial 49 finished with value: 0.8162607568334457 and parameters: {'n_estimators': 172, 'max_depth': 19, 'min_samples_leaf': 5, 'criterion': 'entropy'}. Best is trial 12 with value: 0.8234895763440366.\n"
     ]
    },
    {
     "name": "stdout",
     "output_type": "stream",
     "text": [
      "Наилучшие значения гиперпараметров {'n_estimators': 168, 'max_depth': 23, 'min_samples_leaf': 4, 'criterion': 'entropy'}\n"
     ]
    }
   ],
   "source": [
    "%time\n",
    "# создаем объект исследования и ищем лучшую комбинацию гиперпараметров\n",
    "study_rf = optuna.create_study(study_name = 'RandomForestClassifier', direction = 'maximize')\n",
    "study_rf.optimize(optuna_rf, n_trials = 50)\n",
    "print(\"Наилучшие значения гиперпараметров {}\".format(study_rf.best_params))"
   ]
  },
  {
   "cell_type": "code",
   "execution_count": 34,
   "metadata": {},
   "outputs": [
    {
     "name": "stdout",
     "output_type": "stream",
     "text": [
      "f1_score: 0.82\n"
     ]
    }
   ],
   "source": [
    "# Обучаем модель и делаем предсказание\n",
    "model_opt_rf = ensemble.RandomForestClassifier(**study_rf.best_params, random_state = random_state)\n",
    "score_opt_rf = cross_val_score(model_opt_rf, X, y, cv=10, scoring=\"f1\", n_jobs=-1).mean()\n",
    "print('f1_score: {:.2f}'.format(score_opt_rf))"
   ]
  },
  {
   "cell_type": "markdown",
   "metadata": {},
   "source": [
    "Снова не удалось повысить f1 при достаточно большом количестве затраченного времени."
   ]
  },
  {
   "cell_type": "markdown",
   "metadata": {},
   "source": [
    "Таким образом, из всех представленных моделей самое высокое значение f1 равно 0.84 было достигнуто в модели Случайного леса с использованием GridSearchCV, при этом данная модель затратила наибольшее количество времени. Наилучшие значения гиперпараметров: 'criterion': 'entropy', 'max_depth': 30, 'min_samples_leaf': 2, 'n_estimators': 180."
   ]
  }
 ],
 "metadata": {
  "kernelspec": {
   "display_name": "Python 3",
   "language": "python",
   "name": "python3"
  },
  "language_info": {
   "codemirror_mode": {
    "name": "ipython",
    "version": 3
   },
   "file_extension": ".py",
   "mimetype": "text/x-python",
   "name": "python",
   "nbconvert_exporter": "python",
   "pygments_lexer": "ipython3",
   "version": "3.11.9"
  }
 },
 "nbformat": 4,
 "nbformat_minor": 2
}
