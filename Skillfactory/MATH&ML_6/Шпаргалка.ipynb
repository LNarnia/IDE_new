{
 "cells": [
  {
   "cell_type": "markdown",
   "metadata": {
    "id": "NyHIGVhfa_Wf"
   },
   "source": [
    "# Стохастический градиентный и координатный спуски"
   ]
  },
  {
   "cell_type": "markdown",
   "metadata": {
    "id": "gn6lluIADUKa"
   },
   "source": [
    "Для каждого задания указано количество баллов (если они оцениваются отдельно) + 1 балл за аккуратное и полное выполнение всего задания"
   ]
  },
  {
   "cell_type": "markdown",
   "metadata": {
    "id": "txCccYvha_Wv"
   },
   "source": [
    "## Загрузка и подготовка данных"
   ]
  },
  {
   "cell_type": "markdown",
   "metadata": {
    "id": "NbyOzeZ6a_Wx"
   },
   "source": [
    "**Загрузите уже знакомый вам файл *Advertising.csv* как объект DataFrame.** "
   ]
  },
  {
   "cell_type": "code",
   "execution_count": 4,
   "metadata": {
    "id": "E1L4_xeDa_Wz"
   },
   "outputs": [],
   "source": [
    "import pandas as pd\n",
    "\n",
    "df = pd.read_csv('data/Advertising.csv')"
   ]
  },
  {
   "cell_type": "markdown",
   "metadata": {
    "id": "bf4aVFndDUKf"
   },
   "source": [
    "**Проверьте, есть ли в данных пропуски и, если они есть - удалите их**"
   ]
  },
  {
   "cell_type": "code",
   "execution_count": 5,
   "metadata": {
    "id": "tiVeFnR5DUKg"
   },
   "outputs": [
    {
     "name": "stdout",
     "output_type": "stream",
     "text": [
      "<class 'pandas.core.frame.DataFrame'>\n",
      "RangeIndex: 200 entries, 0 to 199\n",
      "Data columns (total 5 columns):\n",
      " #   Column      Non-Null Count  Dtype  \n",
      "---  ------      --------------  -----  \n",
      " 0   Unnamed: 0  200 non-null    int64  \n",
      " 1   TV          200 non-null    float64\n",
      " 2   radio       200 non-null    float64\n",
      " 3   newspaper   200 non-null    float64\n",
      " 4   sales       200 non-null    float64\n",
      "dtypes: float64(4), int64(1)\n",
      "memory usage: 7.9 KB\n"
     ]
    }
   ],
   "source": [
    "df.info()"
   ]
  },
  {
   "cell_type": "markdown",
   "metadata": {
    "id": "rTkiqPr_DUKh"
   },
   "source": [
    "**Преобразуйте ваши признаки в массивы NumPy и разделите их на переменные X (предикторы) и y(целевая переменная)** "
   ]
  },
  {
   "cell_type": "code",
   "execution_count": 6,
   "metadata": {},
   "outputs": [],
   "source": [
    "import numpy as np\n",
    "\n",
    "X = np.array(df[['TV', 'radio', 'newspaper']])\n",
    "y = np.array(df.sales)"
   ]
  },
  {
   "cell_type": "markdown",
   "metadata": {
    "id": "KCvjSoHEDUKo"
   },
   "source": [
    "## Координатный спуск (3 балла)"
   ]
  },
  {
   "cell_type": "markdown",
   "metadata": {
    "id": "yjNm8dATDUKq"
   },
   "source": [
    "**Добавим единичный столбец для того, чтобы у нас был свободный коэффициент в уравнении регрессии:**"
   ]
  },
  {
   "cell_type": "code",
   "execution_count": 7,
   "metadata": {
    "id": "LMgq0fmKDUKr"
   },
   "outputs": [
    {
     "name": "stdout",
     "output_type": "stream",
     "text": [
      "(200, 4) (200, 1)\n"
     ]
    }
   ],
   "source": [
    "import numpy as np\n",
    "\n",
    "X = np.hstack([np.ones(X.shape[0]).reshape(-1, 1), X])\n",
    "y = y.reshape(-1, 1)\n",
    "print(X.shape, y.shape)"
   ]
  },
  {
   "cell_type": "markdown",
   "metadata": {
    "id": "R008OQwcDUKt"
   },
   "source": [
    "**Нормализуем данные: обычно это необходимо для корректной работы алгоритма**"
   ]
  },
  {
   "cell_type": "code",
   "execution_count": 8,
   "metadata": {
    "id": "2Sk7Wx-SDUKt"
   },
   "outputs": [],
   "source": [
    "X = X / np.sqrt(np.sum(np.square(X), axis=0))"
   ]
  },
  {
   "cell_type": "markdown",
   "metadata": {
    "id": "F_pHHbAdDUKu"
   },
   "source": [
    "**Реализуйте алгоритм координатного спуска:** (3 балла)\n",
    "\n",
    "Ниже приведен алгоритм координатного спуска для случая нормализованных данных:"
   ]
  },
  {
   "cell_type": "markdown",
   "metadata": {},
   "source": [
    "**Задано:**\n",
    "\n",
    "* $X=(x_{ij})$ - матрица наблюдений, размерностью $dim(X)=(n, m)$\n",
    "* $N=1000$ - количество итераций\n",
    "\n",
    "**Примечание:** *1000 итераций здесь указаны для этого задания, на самом деле их может быть намного больше, нет детерменированного значения.*\n",
    "\n",
    "**Алгоритм (математическая запись):**\n",
    "* Создать нулевой вектор параметров $w_0=(0, 0,..., 0)^T$\n",
    "* Для всех $t=1, 2, ..., N$ итераций:\n",
    "    * Для всех $k = 1, 2,..., m$:\n",
    "        * Фиксируем значение всех признаков, кроме $k$-ого и вычисляем прогноз модели линейной регрессии.Для этого исключаем признак $k$-ый из данных и $w_j$ из параметров при построении прогноза.\n",
    "        Математически это можно записать следующим образом:\n",
    "\n",
    "        $$h_i = \\sum_{j=1}^{k-1} x_{ij}w_{j} + \\sum_{j=k+1}^{m} x_{ij}w_j $$\n",
    "\n",
    "        **Примечание:**\n",
    "        \n",
    "        *Обратите, что в данной записи текущий признак под номером $k$ не участвует в сумме.Сравните эту запись с классической записью прогноза линейной регрессии в случае нормированных данных (когда участвуют все признаки):*\n",
    "\n",
    "        $$h_i = \\sum_{j=1}^{m} x_{ij}w_{j}$$ \n",
    "        \n",
    "        * Вычисляем новое значение параметра $k$-ого коэффициента: \n",
    "        $$w_k = \\sum_{i=1}^{n} x_{ik} (y_i - h_i) = x_k^T(y-h) $$\n",
    "\n",
    "    * Вычисляем значение функции потерь и сохраняем в историю изменения функции потерь (В оценке функции потерь участвуют все признаки):\n",
    "        $$\\hat{y_i} = \\sum_{j=1}^{m}x_{ij}w_j$$\n",
    "        $$Loss_t = \\frac{1}{n} \\sum_{i=1}^{n}(y_i-\\hat{y_i})^2$$\n",
    "        \n",
    "        или в векторном виде:\n",
    "        \n",
    "        $$\\hat{y} = Xw$$\n",
    "        $$Loss_t = \\frac{1}{n}(y-\\hat{y})^T(y-\\hat{y})$$\n",
    "    \n",
    "\n"
   ]
  },
  {
   "cell_type": "markdown",
   "metadata": {},
   "source": [
    "**Алгоритм (псевдокод):**\n",
    "```python\n",
    "\n",
    "num_iters = #количество итераций\n",
    "m = # количество строк в матрице X\n",
    "n = # количество столбцов в матрице X\n",
    "w = #вектор размера nx1, состояющий из нулей\n",
    "\n",
    "for i in range(num_iters):\n",
    "    for k in range(n):\n",
    "        # Вычисляем прогноз без k-ого фактора\n",
    "        h = (X[:,0:k] @ w[0:k]) + (X[:,k+1:] @ w[k+1:])\n",
    "        # Обновляем новое значение k-ого коэффициента\n",
    "        w[k] =  (X[:,k].T @ (y - h))\n",
    "        # Вычисляем функцию потерь\n",
    "        cost = sum((X @ w) - y) ** 2)/(len(y))\n",
    "\n",
    "```"
   ]
  },
  {
   "cell_type": "markdown",
   "metadata": {
    "id": "y3IdiHm9DUKv"
   },
   "source": [
    "Вам необходимо реализовать координатный спуск, и вывести веса в модели линейной регрессии."
   ]
  },
  {
   "cell_type": "code",
   "execution_count": 9,
   "metadata": {},
   "outputs": [
    {
     "data": {
      "text/plain": [
       "array([[ 41.56217205, 110.13144155,  73.52860638,  -0.55006384]])"
      ]
     },
     "execution_count": 9,
     "metadata": {},
     "output_type": "execute_result"
    }
   ],
   "source": [
    "num_iters = 1000\n",
    "m = X.shape[0]\n",
    "n = X.shape[1]\n",
    "w = np.zeros((n, 1))\n",
    "\n",
    "for i in range(num_iters):\n",
    "    for k in range(n):\n",
    "        # Вычисляем прогноз без k-ого фактора\n",
    "        h = (X[:,0:k] @ w[0:k]) + (X[:,k+1:] @ w[k+1:])\n",
    "        # Обновляем новое значение k-ого коэффициента\n",
    "        w[k] =  (X[:,k].T @ (y - h))\n",
    "        # Вычисляем функцию потерь\n",
    "        cost = (sum((X @ w) - y) ** 2)/(len(y))\n",
    "\n",
    "w.T"
   ]
  },
  {
   "cell_type": "markdown",
   "metadata": {
    "id": "a3jG-7UADUKx"
   },
   "source": [
    "Сравните результаты с реализацией линейной регрессии из библиотеки sklearn:"
   ]
  },
  {
   "cell_type": "code",
   "execution_count": 10,
   "metadata": {
    "id": "SBl-1Yb5DUKy"
   },
   "outputs": [
    {
     "name": "stdout",
     "output_type": "stream",
     "text": [
      "[[ 41.56217205 110.13144155  73.52860638  -0.55006384]]\n"
     ]
    }
   ],
   "source": [
    "from sklearn.linear_model import LinearRegression\n",
    " \n",
    "model = LinearRegression(fit_intercept=False)\n",
    "model.fit(X, y)\n",
    " \n",
    "print(model.coef_)"
   ]
  },
  {
   "cell_type": "markdown",
   "metadata": {
    "id": "hIl0AGLyDUKy"
   },
   "source": [
    "Если вы все сделали верно, они должны практически совпасть!"
   ]
  },
  {
   "cell_type": "markdown",
   "metadata": {
    "id": "VCGwFnPdDUKz"
   },
   "source": [
    "## Стохастический градиентный спуск (6 баллов)"
   ]
  },
  {
   "cell_type": "markdown",
   "metadata": {
    "id": "5u7Q2YJla_Xk"
   },
   "source": [
    "**Отмасштабируйте столбцы исходной матрицы *X* (которую мы не нормализовали еще!). Для того, чтобы это сделать, надо вычесть из каждого значения среднее и разделить на стандартное отклонение** (0.5 баллов)"
   ]
  },
  {
   "cell_type": "code",
   "execution_count": 11,
   "metadata": {},
   "outputs": [],
   "source": [
    "X = np.array(df[['TV', 'radio', 'newspaper']])\n",
    "X = (X - np.mean(X)) / X.std()  "
   ]
  },
  {
   "cell_type": "markdown",
   "metadata": {
    "id": "8WkNYILHDUK1"
   },
   "source": [
    "**Добавим единичный столбец**"
   ]
  },
  {
   "cell_type": "code",
   "execution_count": 12,
   "metadata": {
    "id": "EVl5tEGtDUK1"
   },
   "outputs": [],
   "source": [
    "X = np.hstack([np.ones(X.shape[0]).reshape(-1, 1), X])"
   ]
  },
  {
   "cell_type": "markdown",
   "metadata": {
    "id": "m53tZA5fDUK1"
   },
   "source": [
    "**Создайте функцию mse_error для вычисления среднеквадратичной ошибки, принимающую два аргумента: реальные значения и предсказывающие, и возвращающую значение mse** (0.5 балла)"
   ]
  },
  {
   "cell_type": "code",
   "execution_count": 13,
   "metadata": {
    "id": "0cvtC08Aa_YK"
   },
   "outputs": [],
   "source": [
    "def mse_error(y, y_pred):\n",
    "    y = np.array(y)\n",
    "    y_pred = np.array(y_pred)\n",
    "    n = y.shape[0]\n",
    "    mse = np.sum((y - y_pred)**2) / n\n",
    "    return np.round(mse, 3)"
   ]
  },
  {
   "cell_type": "markdown",
   "metadata": {
    "id": "lpOLhdvBDUK2"
   },
   "source": [
    "**Сделайте наивный прогноз: предскажите продажи средним значением. После этого рассчитайте среднеквадратичную ошибку для этого прогноза** (0.5 балла)"
   ]
  },
  {
   "cell_type": "code",
   "execution_count": 14,
   "metadata": {
    "id": "kLV_XljVa_YZ"
   },
   "outputs": [
    {
     "data": {
      "text/plain": [
       "27.086"
      ]
     },
     "execution_count": 14,
     "metadata": {},
     "output_type": "execute_result"
    }
   ],
   "source": [
    "y_avg = y.mean()\n",
    "mse_error(y, y_avg)"
   ]
  },
  {
   "cell_type": "markdown",
   "metadata": {
    "id": "BbybL2ola_ZM"
   },
   "source": [
    "**Создайте функцию *lin_pred*, которая может по матрице предикторов *X* и вектору весов линейной модели *w* получить вектор прогнозов** (0.5 балла)"
   ]
  },
  {
   "cell_type": "code",
   "execution_count": 15,
   "metadata": {
    "id": "1Cyz-Luaa_ZO"
   },
   "outputs": [],
   "source": [
    "def lin_pred(X, w):\n",
    "    y = X @ w\n",
    "    return y"
   ]
  },
  {
   "cell_type": "markdown",
   "metadata": {
    "id": "BU4adBrya_Zm"
   },
   "source": [
    "**Создайте функцию *stoch_grad_step* для реализации шага стохастического градиентного спуска. (1.5 балла) \n",
    "Функция должна принимать на вход следующие аргументы:**\n",
    "* матрицу *X*\n",
    "* вектора *y* и *w*\n",
    "* число *train_ind* - индекс объекта обучающей выборки (строки матрицы *X*), по которому считается изменение весов\n",
    "* число *$\\eta$* (eta) - шаг градиентного спуска\n",
    "\n",
    "Результатом будет вектор обновленных весов"
   ]
  },
  {
   "cell_type": "markdown",
   "metadata": {
    "id": "dyLY-P02DUK5"
   },
   "source": [
    "Шаг для стохастического градиентного спуска выглядит следующим образом:"
   ]
  },
  {
   "cell_type": "markdown",
   "metadata": {
    "id": "ORsAyIKNDUK5"
   },
   "source": [
    "$$\\Large w_j \\leftarrow w_j - \\frac{2\\eta}{\\ell} \\sum_{i=1}^\\ell{{x_{ij}((w_0 + w_1x_{i1} + w_2x_{i2} +  w_3x_{i3}) - y_i)}}$$"
   ]
  },
  {
   "cell_type": "markdown",
   "metadata": {
    "id": "CQl2FrpuDUK6"
   },
   "source": [
    "Для того, чтобы написать функцию, нужно сделать следующее:\n",
    "    \n",
    "*  посчитать направление изменения: умножить объект обучающей выборки на 2 и на разницу между предсказанным значением и реальным, а потом поделить на количество элементов в выборке.\n",
    "* вернуть разницу между вектором весов и направлением изменения, умноженным на шаг градиентного спуска"
   ]
  },
  {
   "cell_type": "code",
   "execution_count": 16,
   "metadata": {
    "id": "YUhVQGsja_Zn"
   },
   "outputs": [],
   "source": [
    "def stoch_grad_step(X, y, w, train_ind, eta):\n",
    "    y_pred = lin_pred(X[train_ind], w)\n",
    "    grad =  X[train_ind] * (y_pred - y[train_ind])\n",
    "    w_hat = w - 2 * eta * grad\n",
    "    return w_hat"
   ]
  },
  {
   "cell_type": "markdown",
   "metadata": {
    "id": "pXwIFd0Ma_Zx"
   },
   "source": [
    "**Создайте функцию *stochastic_gradient_descent*, для реализации стохастического градиентного спуска (2.5 балла)**\n",
    "\n",
    "**Функция принимает на вход следующие аргументы:**\n",
    "- Матрицу признаков X\n",
    "- Целевую переменнную\n",
    "- Изначальную точку (веса модели)\n",
    "- Параметр, определяющий темп обучения\n",
    "- Максимальное число итераций\n",
    "- Евклидово расстояние между векторами весов на соседних итерациях градиентного спуска,при котором алгоритм прекращает работу \n",
    "\n",
    "**На каждой итерации в вектор (список) должно записываться текущее значение среднеквадратичной ошибки. Функция должна возвращать вектор весов $w$, а также вектор (список) ошибок.**"
   ]
  },
  {
   "cell_type": "markdown",
   "metadata": {
    "id": "ZVeoNF1JDUK7"
   },
   "source": [
    "Алгоритм сследующий:\n",
    "    \n",
    "* Инициализируйте расстояние между векторами весов на соседних итерациях большим числом (можно бесконечностью)\n",
    "* Создайте пустой список для фиксации ошибок\n",
    "* Создайте счетчик итераций\n",
    "* Реализуйте оновной цикл обучения пока расстояние между векторами весов больше того, при котором надо прекратить работу (когда расстояния станут слишком маленькими - значит, мы застряли в одном месте) и количество итераций меньше максимально разрешенного: сгенерируйте случайный индекс, запишите текущую ошибку в вектор ошибок, запишите в переменную текущий шаг стохастического спуска с использованием функции, написанной ранее. Далее рассчитайте текущее расстояние между векторами весов и прибавьте к счетчику итераций 1.\n",
    "* Верните вектор весов и вектор ошибок"
   ]
  },
  {
   "cell_type": "code",
   "execution_count": 17,
   "metadata": {
    "id": "CD_xcFNfa_Zy"
   },
   "outputs": [],
   "source": [
    "def stochastic_gradient_descent(X, y, w, eta=0.001, delta_stop=1e-9, max_iter=100_000):\n",
    "    delta_w = np.inf\n",
    "    mse_value_list = []\n",
    "    i = 0\n",
    "    while delta_w > delta_stop and i < max_iter:\n",
    "        rand_index = np.random.randint(X.shape[0])\n",
    "        \n",
    "        y_pred = lin_pred(X, w)\n",
    "        mse_value = mse_error(y, y_pred)\n",
    "        mse_value_list.append(mse_value)\n",
    "        \n",
    "        w_hat = stoch_grad_step(X, y, w, rand_index, eta)\n",
    "        delta_w = np.linalg.norm(np.array(w) - np.array(w_hat))  #np.sqrt(np.sum((w - w_hat)**2))\n",
    "        \n",
    "        i += 1\n",
    "        w = w_hat\n",
    "    return w, mse_value_list"
   ]
  },
  {
   "cell_type": "markdown",
   "metadata": {
    "id": "0OqHO1Rta_Z7"
   },
   "source": [
    " **Запустите $10^5$ итераций стохастического градиентного спуска. Укажите вектор начальных весов, состоящий из нулей. Можете поэкспериментировать с параметром, отвечающим за темп обучения.**"
   ]
  },
  {
   "cell_type": "markdown",
   "metadata": {
    "id": "N6fHHT6vDUK8"
   },
   "source": [
    "**Постройте график зависимости ошибки от номера итерации**"
   ]
  },
  {
   "cell_type": "code",
   "execution_count": 18,
   "metadata": {
    "id": "zsSfHDzLDUK9",
    "scrolled": true
   },
   "outputs": [
    {
     "name": "stdout",
     "output_type": "stream",
     "text": [
      "[18.52303282  3.49925703 14.3233654  -0.15066134]\n",
      "10211.248\n"
     ]
    }
   ],
   "source": [
    "w = [0, 0, 0, 0]\n",
    "eta = 0.001\n",
    "max_iter = 100_000\n",
    "w_final, mse_value_list = stochastic_gradient_descent(X, y, w, eta=eta, max_iter=max_iter)\n",
    "print(w_final)\n",
    "print(mse_value_list[-1])"
   ]
  },
  {
   "cell_type": "code",
   "execution_count": 19,
   "metadata": {},
   "outputs": [
    {
     "data": {
      "text/plain": [
       "[<matplotlib.lines.Line2D at 0x2a38c9141d0>]"
      ]
     },
     "execution_count": 19,
     "metadata": {},
     "output_type": "execute_result"
    },
    {
     "data": {
      "image/png": "[encoded data removed]",
      "text/plain": [
       "<Figure size 640x480 with 1 Axes>"
      ]
     },
     "metadata": {},
     "output_type": "display_data"
    }
   ],
   "source": [
    "import matplotlib.pyplot as plt\n",
    "\n",
    "plt.plot(range(max_iter), mse_value_list)"
   ]
  },
  {
   "cell_type": "markdown",
   "metadata": {
    "id": "O-MVOcJ6a_aY"
   },
   "source": [
    "**Выведите вектор весов, к которому сошелся метод.**"
   ]
  },
  {
   "cell_type": "code",
   "execution_count": 20,
   "metadata": {
    "id": "MPjVkXe4DUK9"
   },
   "outputs": [
    {
     "data": {
      "text/plain": [
       "array([18.52303282,  3.49925703, 14.3233654 , -0.15066134])"
      ]
     },
     "execution_count": 20,
     "metadata": {},
     "output_type": "execute_result"
    }
   ],
   "source": [
    "w_final"
   ]
  },
  {
   "cell_type": "markdown",
   "metadata": {
    "id": "qabzMc3Qa_a5"
   },
   "source": [
    "**Выведите среднеквадратичную ошибку на последней итерации.**"
   ]
  },
  {
   "cell_type": "code",
   "execution_count": 21,
   "metadata": {
    "id": "7tPWleMIa_a7"
   },
   "outputs": [
    {
     "data": {
      "text/plain": [
       "10211.248"
      ]
     },
     "execution_count": 21,
     "metadata": {},
     "output_type": "execute_result"
    }
   ],
   "source": [
    "mse_value_list[-1]"
   ]
  }
 ],
 "metadata": {
  "colab": {
   "collapsed_sections": [],
   "name": "Практика_Оптимизация.ipynb",
   "provenance": [],
   "toc_visible": true
  },
  "kernelspec": {
   "display_name": "Python 3 (ipykernel)",
   "language": "python",
   "name": "python3"
  },
  "language_info": {
   "codemirror_mode": {
    "name": "ipython",
    "version": 3
   },
   "file_extension": ".py",
   "mimetype": "text/x-python",
   "name": "python",
   "nbconvert_exporter": "python",
   "pygments_lexer": "ipython3",
   "version": "3.12.0"
  },
  "vscode": {
   "interpreter": {
    "hash": "86c56a74836ad344b00594bf6f38fa6a676a207ceefe20d101fbc465800ccb8d"
   }
  }
 },
 "nbformat": 4,
 "nbformat_minor": 1
}
