{
 "cells": [
  {
   "cell_type": "code",
   "execution_count": 1,
   "metadata": {},
   "outputs": [
    {
     "name": "stdout",
     "output_type": "stream",
     "text": [
      "[15.      18.5     23.05    27.915   25.8745  26.66235]\n"
     ]
    }
   ],
   "source": [
    "from statsmodels.tsa.api import SimpleExpSmoothing\n",
    "import numpy as np\n",
    "\n",
    "def exp_smth(x_t, a, s_t_1):\n",
    "    return a * x_t + (1 - a) * s_t_1\n",
    "\n",
    "data = np.array([15, 20, 25, 30, 25, 27])\n",
    "a = 0.7\n",
    "s = np.zeros(6)\n",
    "s[0] = data[0]\n",
    "\n",
    "for i in range(1, len(data)):\n",
    "    s[i] = exp_smth(data[i], a, s[i-1])\n",
    "\n",
    "print(s)"
   ]
  },
  {
   "cell_type": "code",
   "execution_count": 2,
   "metadata": {},
   "outputs": [
    {
     "name": "stdout",
     "output_type": "stream",
     "text": [
      "[26.66235]\n"
     ]
    }
   ],
   "source": [
    "ses = SimpleExpSmoothing(data)\n",
    "\n",
    "alpha = 0.7\n",
    "\n",
    "model = ses.fit(smoothing_level = alpha, optimized = False)\n",
    "\n",
    "forecast = model.forecast(1)\n",
    "\n",
    "print(forecast)"
   ]
  },
  {
   "cell_type": "code",
   "execution_count": 3,
   "metadata": {},
   "outputs": [
    {
     "name": "stdout",
     "output_type": "stream",
     "text": [
      "ADF Statistic: -4.808291253559763\n",
      "p-value: 5.243412990149865e-05\n",
      "Critical Values:\n",
      "\t1%: -3.449\n",
      "\t5%: -2.870\n",
      "\t10%: -2.571\n"
     ]
    }
   ],
   "source": [
    "import pandas as pd\n",
    "from statsmodels.tsa.stattools import adfuller\n",
    "\n",
    "df = pd.read_csv(\n",
    "\t\"data/daily-total-female-births.csv\", \n",
    "    header=0, \n",
    "    index_col=0\n",
    ").squeeze(\"columns\")\n",
    "\n",
    "result = adfuller(df.values)\n",
    "\n",
    "print(f\"ADF Statistic: {result[0]}\")\n",
    "print(f\"p-value: {result[1]}\")\n",
    "print(\"Critical Values:\")\n",
    "\n",
    "for key, value in result[4].items():\n",
    "\tprint(f\"\\t{key}: {value:.3f}\")"
   ]
  },
  {
   "cell_type": "code",
   "execution_count": 4,
   "metadata": {},
   "outputs": [],
   "source": [
    "df_diff_1 = df.diff().dropna()"
   ]
  },
  {
   "cell_type": "code",
   "execution_count": 5,
   "metadata": {},
   "outputs": [
    {
     "name": "stdout",
     "output_type": "stream",
     "text": [
      "adf:  -12.625178633871343\n",
      "p-value:  1.5472400091969784e-23\n",
      "Critical values:  {'1%': -3.44880082033912, '5%': -2.869670179576637, '10%': -2.5711012838861036}\n",
      "ряд стационарен\n"
     ]
    }
   ],
   "source": [
    "test1 = adfuller(df_diff_1)\n",
    "print ('adf: ', test1[0])\n",
    "print ('p-value: ', test1[1])\n",
    "print ('Critical values: ', test1[4])\n",
    "if test1[0]> test1[4]['5%']: \n",
    "    print ('ряд нестационарен')\n",
    "else:\n",
    "    print ('ряд стационарен')"
   ]
  },
  {
   "cell_type": "code",
   "execution_count": 6,
   "metadata": {},
   "outputs": [],
   "source": [
    "import pandas as pd\n",
    "import numpy as np\n",
    "from statsmodels.tsa.ar_model import AutoReg\n",
    "\n",
    "url='https://raw.githubusercontent.com/jenfly/opsd/master/opsd_germany_daily.csv'\n",
    "df = pd.read_csv(url, sep=\",\")"
   ]
  },
  {
   "cell_type": "code",
   "execution_count": 7,
   "metadata": {},
   "outputs": [
    {
     "name": "stdout",
     "output_type": "stream",
     "text": [
      "Ряд стационарен\n"
     ]
    }
   ],
   "source": [
    "from statsmodels.tsa.stattools import adfuller\n",
    "\n",
    "result = adfuller(df['Consumption'].values)\n",
    "\n",
    "if result[0] > result[4]['5%']: \n",
    "    print ('Ряд нестационарен')\n",
    "else:\n",
    "    print ('Ряд стационарен')"
   ]
  },
  {
   "cell_type": "code",
   "execution_count": 8,
   "metadata": {},
   "outputs": [],
   "source": [
    "train_data = df['Consumption'][:len(df)-100]\n",
    "test_data = df['Consumption'][len(df)-100:]"
   ]
  },
  {
   "cell_type": "code",
   "execution_count": 9,
   "metadata": {},
   "outputs": [
    {
     "name": "stdout",
     "output_type": "stream",
     "text": [
      "                            AutoReg Model Results                             \n",
      "==============================================================================\n",
      "Dep. Variable:            Consumption   No. Observations:                 4283\n",
      "Model:                     AutoReg(8)   Log Likelihood              -24231.812\n",
      "Method:               Conditional MLE   S.D. of innovations             70.058\n",
      "Date:                Tue, 15 Oct 2024   AIC                          48483.625\n",
      "Time:                        13:25:28   BIC                          48547.230\n",
      "Sample:                             8   HQIC                         48506.095\n",
      "                                 4283                                         \n",
      "==================================================================================\n",
      "                     coef    std err          z      P>|z|      [0.025      0.975]\n",
      "----------------------------------------------------------------------------------\n",
      "const            121.2792     14.444      8.397      0.000      92.969     149.589\n",
      "Consumption.L1     0.6393      0.013     47.751      0.000       0.613       0.666\n",
      "Consumption.L2    -0.0966      0.011     -8.424      0.000      -0.119      -0.074\n",
      "Consumption.L3     0.0677      0.012      5.879      0.000       0.045       0.090\n",
      "Consumption.L4    -0.0538      0.012     -4.653      0.000      -0.076      -0.031\n",
      "Consumption.L5    -0.0092      0.012     -0.793      0.428      -0.032       0.014\n",
      "Consumption.L6     0.0619      0.012      5.371      0.000       0.039       0.085\n",
      "Consumption.L7     0.7832      0.011     68.283      0.000       0.761       0.806\n",
      "Consumption.L8    -0.4833      0.013    -36.107      0.000      -0.510      -0.457\n",
      "                                    Roots                                    \n",
      "=============================================================================\n",
      "                  Real          Imaginary           Modulus         Frequency\n",
      "-----------------------------------------------------------------------------\n",
      "AR.1           -0.9434           -0.4695j            1.0538           -0.4265\n",
      "AR.2           -0.9434           +0.4695j            1.0538            0.4265\n",
      "AR.3           -0.2332           -0.9929j            1.0199           -0.2867\n",
      "AR.4           -0.2332           +0.9929j            1.0199            0.2867\n",
      "AR.5            0.6323           -0.7958j            1.0164           -0.1431\n",
      "AR.6            0.6323           +0.7958j            1.0164            0.1431\n",
      "AR.7            1.0362           -0.0000j            1.0362           -0.0000\n",
      "AR.8            1.6730           -0.0000j            1.6730           -0.0000\n",
      "-----------------------------------------------------------------------------\n"
     ]
    }
   ],
   "source": [
    "ar_model = AutoReg(train_data, lags=8).fit()\n",
    "print(ar_model.summary())"
   ]
  },
  {
   "cell_type": "code",
   "execution_count": 10,
   "metadata": {},
   "outputs": [],
   "source": [
    "pred = ar_model.predict(start=len(train_data), end=(len(df)-1), dynamic=False)"
   ]
  },
  {
   "cell_type": "code",
   "execution_count": 11,
   "metadata": {},
   "outputs": [
    {
     "data": {
      "text/plain": [
       "4283    1199.580761\n",
       "4284    1132.051688\n",
       "4285    1392.772651\n",
       "4286    1425.877770\n",
       "4287    1424.606502\n",
       "           ...     \n",
       "4378    1355.220188\n",
       "4379    1359.014426\n",
       "4380    1334.516355\n",
       "4381    1299.851112\n",
       "4382    1309.602440\n",
       "Length: 100, dtype: float64"
      ]
     },
     "execution_count": 11,
     "metadata": {},
     "output_type": "execute_result"
    }
   ],
   "source": [
    "pred"
   ]
  }
 ],
 "metadata": {
  "kernelspec": {
   "display_name": "Python 3",
   "language": "python",
   "name": "python3"
  },
  "language_info": {
   "codemirror_mode": {
    "name": "ipython",
    "version": 3
   },
   "file_extension": ".py",
   "mimetype": "text/x-python",
   "name": "python",
   "nbconvert_exporter": "python",
   "pygments_lexer": "ipython3",
   "version": "3.12.0"
  }
 },
 "nbformat": 4,
 "nbformat_minor": 2
}
