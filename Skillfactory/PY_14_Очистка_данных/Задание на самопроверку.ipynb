{
 "cells": [
  {
   "cell_type": "markdown",
   "metadata": {},
   "source": [
    "Имеются две базы данных (два листа Excel-файла): база с ценами конкурентов (Data_Parsing) и внутренняя база компании (Data_Company).\n",
    "\n",
    "В базе парсинга есть два id, однозначно определяющие товар: producer_id и producer_color.\n",
    "\n",
    "В базе компании есть два аналогичных поля: item_id и color_id.\n",
    "\n",
    "Нам известно, что коды в двух базах отличаются наличием набора служебных символов. В базе парсинга встречаются следующие символы: _, -, ~, \\\\, /.\n",
    "\n",
    "Необходимо:\n",
    "\n",
    "Считать данные из Excel в DataFrame (Data_Parsing) и (Data_Company).\n",
    "Подтянуть к базе парсинга данные из базы компании (item_id, color_id, current_price) и сформировать столбец разницы цен в % (цена конкурента к нашей цене).\n",
    "Определить сильные отклонения от среднего в разности цен в пределах бренда-категории (то есть убрать случайные выбросы, сильно искажающие сравнение). Критерий — по вкусу, написать комментарий в коде.\n",
    "Записать новый файл Excel с базой парсинга, приклееными к ней столбцами из пункта 2 и с учётом пункта 3 (можно добавить столбец outlier и проставить Yes для выбросов)."
   ]
  },
  {
   "cell_type": "code",
   "execution_count": 35,
   "metadata": {},
   "outputs": [],
   "source": [
    "import pandas as pd\n",
    "import re"
   ]
  },
  {
   "cell_type": "code",
   "execution_count": 36,
   "metadata": {},
   "outputs": [
    {
     "name": "stdout",
     "output_type": "stream",
     "text": [
      "       brand Category      item_id color_id  current price\n",
      "0  Valentino    Shoes  aaaaa111111    black            247\n",
      "1  Valentino    Shoes  aaaaa111112    black            161\n",
      "2  Valentino    Shoes  aaaaa111113    black            234\n",
      "3  Valentino    Shoes  aaaaa111114    black            167\n",
      "4  Valentino    Shoes  aaaaa111115    black            153\n"
     ]
    }
   ],
   "source": [
    "data_company = pd.read_excel('data/Data_Company.xlsx')\n",
    "print(data_company.head())"
   ]
  },
  {
   "cell_type": "code",
   "execution_count": 37,
   "metadata": {},
   "outputs": [
    {
     "name": "stdout",
     "output_type": "stream",
     "text": [
      "        brand Category   producer_id producer_color  price\n",
      "0   Valentino    Shoes  aaaaa1111_11          black    167\n",
      "1   Valentino    Shoes  aaaaa1111_12          black    188\n",
      "2   Valentino    Shoes  aaaaa1111_13          black    184\n",
      "3   Valentino    Shoes  aaaaa1111_14        bla//ck    196\n",
      "4   Valentino    Shoes  aaaaa1111_15        bla\\\\ck    250\n",
      "5   Valentino    Shoes  aaaaa1111_16        bla__ck    191\n",
      "6   Valentino    Shoes  aaaaa1111_17       bla\\\\c~k    218\n",
      "7   Valentino    Shoes  aaaaa1111_18        white_~    162\n",
      "8   Valentino    Shoes  aaaaa1111_19        white_~    236\n",
      "9   Valentino    Shoes  aaaaa1111_20        white_~    178\n",
      "10  Valentino    Shoes  aaaaa1111_21        white_~    171\n",
      "11  Valentino    Shoes  aaaaa1111_22        white_~    237\n",
      "12  Valentino    Shoes  aaaaa1111_23        white_~    288\n",
      "13  Valentino    Shoes  aaaaa1111_24        white_~    259\n",
      "14  Valentino     Bags  aaaaa1111_25         ~~~red    245\n",
      "15  Valentino     Bags  aaaaa1111_26         ~~~red    235\n",
      "16  Valentino     Bags  aaaaa1111_27         ~~~red    293\n",
      "17  Valentino     Bags  aaaaa1111_28         ~~~red    284\n",
      "18  Valentino     Bags  aaaaa1111_29         ~~~red    192\n",
      "19  Valentino     Bags  aaaaa1111_30         ~~~red    173\n"
     ]
    }
   ],
   "source": [
    "data_parsing = pd.read_excel('data/Data_TSUM.xlsx')\n",
    "print(data_parsing.head(20))"
   ]
  },
  {
   "cell_type": "code",
   "execution_count": 38,
   "metadata": {},
   "outputs": [
    {
     "name": "stdout",
     "output_type": "stream",
     "text": [
      "       brand Category  producer_id producer_color  price\n",
      "0  Valentino    Shoes  aaaaa111111          black    167\n",
      "1  Valentino    Shoes  aaaaa111112          black    188\n",
      "2  Valentino    Shoes  aaaaa111113          black    184\n",
      "3  Valentino    Shoes  aaaaa111114        bla//ck    196\n",
      "4  Valentino    Shoes  aaaaa111115        bla\\\\ck    250\n"
     ]
    }
   ],
   "source": [
    "        \n",
    "data_parsing['producer_id']= data_parsing['producer_id'].replace(to_replace ='_', value = '', regex=True)\n",
    "print (data_parsing.head())             "
   ]
  },
  {
   "cell_type": "code",
   "execution_count": 39,
   "metadata": {},
   "outputs": [
    {
     "name": "stdout",
     "output_type": "stream",
     "text": [
      "       brand Category  producer_id producer_color  price\n",
      "0  Valentino    Shoes  aaaaa111111          black    167\n",
      "1  Valentino    Shoes  aaaaa111112          black    188\n",
      "2  Valentino    Shoes  aaaaa111113          black    184\n",
      "3  Valentino    Shoes  aaaaa111114          black    196\n",
      "4  Valentino    Shoes  aaaaa111115          black    250\n"
     ]
    }
   ],
   "source": [
    "data_parsing['producer_color']= data_parsing['producer_color'].apply(lambda x: re.sub('[^A-Za-z0-9]', '', x))\n",
    "print (data_parsing.head()) "
   ]
  },
  {
   "cell_type": "code",
   "execution_count": 40,
   "metadata": {},
   "outputs": [
    {
     "name": "stdout",
     "output_type": "stream",
     "text": [
      "     brand_x Category_x  producer_id producer_color  price    brand_y  \\\n",
      "0  Valentino      Shoes  aaaaa111111          black    167  Valentino   \n",
      "1  Valentino      Shoes  aaaaa111112          black    188  Valentino   \n",
      "2  Valentino      Shoes  aaaaa111113          black    184  Valentino   \n",
      "3  Valentino      Shoes  aaaaa111114          black    196  Valentino   \n",
      "4  Valentino      Shoes  aaaaa111115          black    250  Valentino   \n",
      "\n",
      "  Category_y      item_id color_id  current price  \n",
      "0      Shoes  aaaaa111111    black            247  \n",
      "1      Shoes  aaaaa111112    black            161  \n",
      "2      Shoes  aaaaa111113    black            234  \n",
      "3      Shoes  aaaaa111114    black            167  \n",
      "4      Shoes  aaaaa111115    black            153  \n"
     ]
    }
   ],
   "source": [
    "merge_data = data_parsing.merge(data_company, how='left', left_on = 'producer_id', right_on = 'item_id')\n",
    "print(merge_data.head())"
   ]
  },
  {
   "cell_type": "code",
   "execution_count": 41,
   "metadata": {},
   "outputs": [
    {
     "name": "stdout",
     "output_type": "stream",
     "text": [
      "     brand_x Category_x  producer_id producer_color  price  current price\n",
      "0  Valentino      Shoes  aaaaa111111          black    167            247\n",
      "1  Valentino      Shoes  aaaaa111112          black    188            161\n",
      "2  Valentino      Shoes  aaaaa111113          black    184            234\n",
      "3  Valentino      Shoes  aaaaa111114          black    196            167\n",
      "4  Valentino      Shoes  aaaaa111115          black    250            153\n"
     ]
    }
   ],
   "source": [
    "merge_data = merge_data.drop(['brand_y', 'Category_y', 'item_id', 'color_id'], axis = 1)\n",
    "print(merge_data.head())"
   ]
  },
  {
   "cell_type": "code",
   "execution_count": 42,
   "metadata": {},
   "outputs": [
    {
     "name": "stdout",
     "output_type": "stream",
     "text": [
      "<class 'pandas.core.frame.DataFrame'>\n",
      "RangeIndex: 75 entries, 0 to 74\n",
      "Data columns (total 7 columns):\n",
      " #   Column          Non-Null Count  Dtype  \n",
      "---  ------          --------------  -----  \n",
      " 0   brand_x         75 non-null     object \n",
      " 1   Category_x      75 non-null     object \n",
      " 2   producer_id     75 non-null     object \n",
      " 3   producer_color  75 non-null     object \n",
      " 4   price           75 non-null     int64  \n",
      " 5   current price   75 non-null     int64  \n",
      " 6   price_ratio     75 non-null     float64\n",
      "dtypes: float64(1), int64(2), object(4)\n",
      "memory usage: 4.2+ KB\n",
      "None\n"
     ]
    }
   ],
   "source": [
    "merge_data['price_ratio'] = merge_data['price']/merge_data['current price']\n",
    "print(merge_data.info())"
   ]
  },
  {
   "cell_type": "code",
   "execution_count": 43,
   "metadata": {},
   "outputs": [
    {
     "data": {
      "image/png": "[encoded data removed]",
      "text/plain": [
       "<Figure size 1500x400 with 2 Axes>"
      ]
     },
     "metadata": {},
     "output_type": "display_data"
    }
   ],
   "source": [
    "import seaborn as sns\n",
    "import matplotlib.pyplot as plt\n",
    "fig, axes = plt.subplots(nrows=1, ncols=2, figsize = (15,4))\n",
    "histplot = sns.histplot(data = merge_data, x = 'price_ratio', ax=axes[0]);\n",
    "boxplot = sns.boxplot(data = merge_data, x ='price_ratio', ax=axes[1])"
   ]
  },
  {
   "cell_type": "code",
   "execution_count": 44,
   "metadata": {},
   "outputs": [
    {
     "name": "stdout",
     "output_type": "stream",
     "text": [
      "Число выбросов по методу z-отклонения: 0\n",
      "Результирующее число записей: 75\n"
     ]
    }
   ],
   "source": [
    "import numpy as np\n",
    "def outliers_z_score(data, feature, log_scale=False):\n",
    "    if log_scale:\n",
    "        x = np.log(data[feature])\n",
    "    else:\n",
    "        x = data[feature]\n",
    "    mu = x.mean()\n",
    "    sigma = x.std()\n",
    "    lower_bound = mu - 3 * sigma\n",
    "    upper_bound = mu + 3 * sigma\n",
    "    outliers = data[(x < lower_bound) | (x > upper_bound)]\n",
    "    cleaned = data[(x >= lower_bound) & (x <= upper_bound)]\n",
    "    return outliers, cleaned\n",
    "outliers, cleaned = outliers_z_score(merge_data, 'price_ratio', log_scale=True)\n",
    "print(f'Число выбросов по методу z-отклонения: {outliers.shape[0]}')\n",
    "print(f'Результирующее число записей: {cleaned.shape[0]}')"
   ]
  },
  {
   "cell_type": "markdown",
   "metadata": {},
   "source": [
    "Распределение разницы в ценах выглядит почти нормальным. Выбросов по методу Z-отклонений не выявлено."
   ]
  },
  {
   "cell_type": "code",
   "execution_count": 48,
   "metadata": {},
   "outputs": [],
   "source": [
    "cleaned.to_excel('data/cleaned_parsing.xlsx', index=False)"
   ]
  }
 ],
 "metadata": {
  "kernelspec": {
   "display_name": "Python 3",
   "language": "python",
   "name": "python3"
  },
  "language_info": {
   "codemirror_mode": {
    "name": "ipython",
    "version": 3
   },
   "file_extension": ".py",
   "mimetype": "text/x-python",
   "name": "python",
   "nbconvert_exporter": "python",
   "pygments_lexer": "ipython3",
   "version": "3.12.0"
  }
 },
 "nbformat": 4,
 "nbformat_minor": 2
}
