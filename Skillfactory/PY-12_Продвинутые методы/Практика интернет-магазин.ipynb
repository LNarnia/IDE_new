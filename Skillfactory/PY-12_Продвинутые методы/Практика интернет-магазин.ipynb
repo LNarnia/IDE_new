{
 "cells": [
  {
   "cell_type": "code",
   "execution_count": 1,
   "metadata": {},
   "outputs": [],
   "source": [
    "import pandas as pd"
   ]
  },
  {
   "cell_type": "code",
   "execution_count": 2,
   "metadata": {},
   "outputs": [
    {
     "name": "stdout",
     "output_type": "stream",
     "text": [
      "         Дата создания  Order ID  ID Покупателя                    Статус  \\\n",
      "0  09.11.2019 21:55:51         9             10  Принят, ожидается оплата   \n",
      "1  09.11.2019 15:05:57         8              9  Принят, ожидается оплата   \n",
      "2  09.11.2019 15:05:57         8              9  Принят, ожидается оплата   \n",
      "3  09.11.2019 12:50:07         7              8  Принят, ожидается оплата   \n",
      "4  09.11.2019 12:00:00         6              1  Принят, ожидается оплата   \n",
      "\n",
      "  Оплачен Отменен Отгружен  ID товара  Количество  \n",
      "0     Нет     Нет      Нет        103           5  \n",
      "1     Нет     Нет      Нет         86         100  \n",
      "2     Нет     Нет      Нет        104          10  \n",
      "3     Нет     Нет      Нет        104           7  \n",
      "4     Нет     Нет      Нет        104           5  \n"
     ]
    }
   ],
   "source": [
    "orders_df = pd.read_csv('data/orders.csv', sep=';')\n",
    "print(orders_df.head())"
   ]
  },
  {
   "cell_type": "code",
   "execution_count": 3,
   "metadata": {},
   "outputs": [
    {
     "name": "stdout",
     "output_type": "stream",
     "text": [
      "   Product_ID                      Name  Price CURRENCY\n",
      "0          47      Шатны Полосатый рейс   2999      RUR\n",
      "1          51  Платье Аленький цветочек   4999      RUR\n",
      "2          53    Штаны Цветочная Поляна   4999      RUR\n",
      "3          71       Платье Ночная Жизнь   7999      RUR\n",
      "4          74  Платье Ночная Жизнь XXXL   8999      RUR\n"
     ]
    }
   ],
   "source": [
    "products_df=pd.read_csv('data/products.csv', sep=';')\n",
    "print(products_df.head())"
   ]
  },
  {
   "cell_type": "code",
   "execution_count": 4,
   "metadata": {},
   "outputs": [
    {
     "name": "stdout",
     "output_type": "stream",
     "text": [
      "         Дата создания  Order ID  ID Покупателя  \\\n",
      "0  09.11.2019 21:55:51         9             10   \n",
      "1  09.11.2019 15:05:57         8              9   \n",
      "2  09.11.2019 15:05:57         8              9   \n",
      "3  09.11.2019 12:50:07         7              8   \n",
      "4  09.11.2019 12:00:00         6              1   \n",
      "5  09.11.2019 12:00:00         6              1   \n",
      "6  08.11.2019 08:36:22         5              5   \n",
      "7  08.11.2019 08:36:22         4              9   \n",
      "8  08.11.2019 08:36:22         3              8   \n",
      "9  08.11.2019 08:36:22         3              8   \n",
      "\n",
      "                            Статус Оплачен Отменен Отгружен  ID товара  \\\n",
      "0         Принят, ожидается оплата     Нет     Нет      Нет        103   \n",
      "1         Принят, ожидается оплата     Нет     Нет      Нет         86   \n",
      "2         Принят, ожидается оплата     Нет     Нет      Нет        104   \n",
      "3         Принят, ожидается оплата     Нет     Нет      Нет        104   \n",
      "4         Принят, ожидается оплата     Нет     Нет      Нет        104   \n",
      "5         Принят, ожидается оплата     Нет     Нет      Нет        103   \n",
      "6                          Отменён     Нет      Да      Нет        124   \n",
      "7         Принят, ожидается оплата     Нет     Нет       Да         91   \n",
      "8  Оплачен, формируется к отправке      Да     Нет      Нет        103   \n",
      "9  Оплачен, формируется к отправке      Да     Нет      Нет        104   \n",
      "\n",
      "   Количество  Product_ID                   Name  Price CURRENCY  \n",
      "0           5       103.0  Носки Подарочные, муж  199.0      RUR  \n",
      "1         100        86.0     Носки Простые, муж   45.0      RUR  \n",
      "2          10       104.0  Носки Подарочные, жен  249.0      RUR  \n",
      "3           7       104.0  Носки Подарочные, жен  249.0      RUR  \n",
      "4           5       104.0  Носки Подарочные, жен  249.0      RUR  \n",
      "5           5       103.0  Носки Подарочные, муж  199.0      RUR  \n",
      "6           1       124.0   Носки беговые Camino  999.0      RUR  \n",
      "7           1        91.0     Носки Честные, муж   50.0      RUR  \n",
      "8           3       103.0  Носки Подарочные, муж  199.0      RUR  \n",
      "9           3       104.0  Носки Подарочные, жен  249.0      RUR  \n"
     ]
    },
    {
     "data": {
      "text/html": [
       "<div>\n",
       "<style scoped>\n",
       "    .dataframe tbody tr th:only-of-type {\n",
       "        vertical-align: middle;\n",
       "    }\n",
       "\n",
       "    .dataframe tbody tr th {\n",
       "        vertical-align: top;\n",
       "    }\n",
       "\n",
       "    .dataframe thead th {\n",
       "        text-align: right;\n",
       "    }\n",
       "</style>\n",
       "<table border=\"1\" class=\"dataframe\">\n",
       "  <thead>\n",
       "    <tr style=\"text-align: right;\">\n",
       "      <th></th>\n",
       "      <th>Дата создания</th>\n",
       "      <th>Order ID</th>\n",
       "      <th>ID Покупателя</th>\n",
       "      <th>Статус</th>\n",
       "      <th>Оплачен</th>\n",
       "      <th>Отменен</th>\n",
       "      <th>Отгружен</th>\n",
       "      <th>ID товара</th>\n",
       "      <th>Количество</th>\n",
       "      <th>Product_ID</th>\n",
       "      <th>Name</th>\n",
       "      <th>Price</th>\n",
       "      <th>CURRENCY</th>\n",
       "    </tr>\n",
       "  </thead>\n",
       "  <tbody>\n",
       "    <tr>\n",
       "      <th>17</th>\n",
       "      <td>01.01.2001 00:00:00</td>\n",
       "      <td>0</td>\n",
       "      <td>1</td>\n",
       "      <td>Оплачен, формируется к отправке</td>\n",
       "      <td>Да</td>\n",
       "      <td>Нет</td>\n",
       "      <td>Нет</td>\n",
       "      <td>666</td>\n",
       "      <td>1</td>\n",
       "      <td>NaN</td>\n",
       "      <td>NaN</td>\n",
       "      <td>NaN</td>\n",
       "      <td>NaN</td>\n",
       "    </tr>\n",
       "  </tbody>\n",
       "</table>\n",
       "</div>"
      ],
      "text/plain": [
       "          Дата создания  Order ID  ID Покупателя  \\\n",
       "17  01.01.2001 00:00:00         0              1   \n",
       "\n",
       "                             Статус Оплачен Отменен Отгружен  ID товара  \\\n",
       "17  Оплачен, формируется к отправке      Да     Нет      Нет        666   \n",
       "\n",
       "    Количество  Product_ID Name  Price CURRENCY  \n",
       "17           1         NaN  NaN    NaN      NaN  "
      ]
     },
     "execution_count": 4,
     "metadata": {},
     "output_type": "execute_result"
    }
   ],
   "source": [
    "orders_products = orders_df.merge(products_df, how = 'left', left_on ='ID товара', right_on='Product_ID')\n",
    "print(orders_products.head(10))\n",
    "orders_products[orders_products['Name'].isna()]"
   ]
  },
  {
   "cell_type": "code",
   "execution_count": 6,
   "metadata": {},
   "outputs": [
    {
     "data": {
      "text/plain": [
       "6    Носки беговые Camino\n",
       "Name: Name, dtype: object"
      ]
     },
     "execution_count": 6,
     "metadata": {},
     "output_type": "execute_result"
    }
   ],
   "source": [
    "orders_products[orders_products['Отменен'] == 'Да']['Name']\n",
    "\n"
   ]
  },
  {
   "cell_type": "code",
   "execution_count": 13,
   "metadata": {},
   "outputs": [
    {
     "data": {
      "text/plain": [
       "ID Покупателя\n",
       "1        0.0\n",
       "5    13043.0\n",
       "7    17096.0\n",
       "8     1344.0\n",
       "Name: Summa, dtype: float64"
      ]
     },
     "execution_count": 13,
     "metadata": {},
     "output_type": "execute_result"
    }
   ],
   "source": [
    "orders_products['Summa'] = orders_products['Количество']*orders_products['Price']\n",
    "mask = orders_products['Оплачен']=='Да'\n",
    "orders_products[mask].groupby('ID Покупателя')['Summa'].sum()"
   ]
  },
  {
   "cell_type": "code",
   "execution_count": 14,
   "metadata": {},
   "outputs": [
    {
     "data": {
      "text/plain": [
       "ID Покупателя\n",
       "7    17096.0\n",
       "5    13043.0\n",
       "8     1344.0\n",
       "1        0.0\n",
       "Name: Profit, dtype: float64"
      ]
     },
     "execution_count": 14,
     "metadata": {},
     "output_type": "execute_result"
    }
   ],
   "source": [
    "orders_products['Profit'] = orders_products['Price'] * orders_products['Количество'] \n",
    "orders_products[orders_products['Оплачен'] == 'Да'].groupby('ID Покупателя')['Profit'].sum().sort_values(ascending=False)"
   ]
  }
 ],
 "metadata": {
  "kernelspec": {
   "display_name": "Python 3",
   "language": "python",
   "name": "python3"
  },
  "language_info": {
   "codemirror_mode": {
    "name": "ipython",
    "version": 3
   },
   "file_extension": ".py",
   "mimetype": "text/x-python",
   "name": "python",
   "nbconvert_exporter": "python",
   "pygments_lexer": "ipython3",
   "version": "3.11.6"
  }
 },
 "nbformat": 4,
 "nbformat_minor": 2
}
